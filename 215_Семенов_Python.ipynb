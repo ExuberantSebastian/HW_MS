{
  "nbformat": 4,
  "nbformat_minor": 0,
  "metadata": {
    "colab": {
      "provenance": [],
      "collapsed_sections": [
        "r5r-x-2MQzWF",
        "bk1LOyNYQ8db",
        "n0sua8qUrGR2",
        "NBMUvBFX9d0_",
        "BaPp38vfCjij",
        "RLch9lR5Ky0Y",
        "rGKp1Z0GV9FT",
        "l9yUGbcUOM8J",
        "36DjF_CGaU55",
        "SZXZzyzxjR2p",
        "YOjdY66cgHiQ",
        "tGTcJ3xGimLs",
        "qgB9I3oojO0C",
        "_qf7gw7X3i-J",
        "Vt0YsDx9ADfP",
        "raIKCXgZBDW7",
        "jOigpibyFdPc",
        "voaDZbJtFqSz",
        "wgPHUQcaI4n6"
      ]
    },
    "kernelspec": {
      "name": "python3",
      "display_name": "Python 3"
    },
    "language_info": {
      "name": "python"
    }
  },
  "cells": [
    {
      "cell_type": "markdown",
      "source": [
        "Если вам удобнее проверять с помощью Гитхаба, можете перейти по ссылочке <br>\n",
        "\n",
        "https://github.com/ExuberantSebastian/HW_MS/tree/main\n",
        "<br>\n",
        "\n",
        "Расслабляющая музыка для проверки <br>\n",
        "https://youtu.be/0-NW47sXur0"
      ],
      "metadata": {
        "id": "gM1iILa7kkMt"
      }
    },
    {
      "cell_type": "code",
      "execution_count": 30,
      "metadata": {
        "id": "D5OjCTeQ5md1"
      },
      "outputs": [],
      "source": [
        "# Импорт необходимых библиотек\n",
        "\n",
        "import pandas as pd \n",
        "import numpy as np\n",
        "import random \n",
        "import scipy.stats as sts\n",
        "from scipy.stats import ttest_ind\n",
        "from scipy.stats import chi2_contingency\n",
        "\n",
        "import matplotlib.pyplot as plt\n",
        "import seaborn as sns\n",
        "\n",
        "from collections import defaultdict\n",
        "\n",
        "# Отключение некоторых лишних предупреждений\n",
        "import warnings\n",
        "warnings.filterwarnings(\"ignore\")"
      ]
    },
    {
      "cell_type": "markdown",
      "source": [
        "Имя мне - Семенов Всеволод Алексеевич, потому параметры будут иметь следующий вид: <br>\n",
        "a_1 = 19; b_1 = 3;  c_1 = 1<br>\n",
        "a_2 = 6;  b_2 = 19; c_2 = 13<br>\n",
        "a_3 = 14; b_3 = 6;  c_3 = 6<br>\n"
      ],
      "metadata": {
        "id": "l-de7JHU6EiD"
      }
    },
    {
      "cell_type": "code",
      "source": [
        "# Параметры в код\n",
        "a_1 = 19 \n",
        "b_1 = 3\n",
        "c_1 = 1\n",
        "a_2 = 6\n",
        "b_2 = 19\n",
        "c_2 = 13\n",
        "a_3 = 14\n",
        "b_3 = 6\n",
        "c_3 = 6\n",
        "n = 100"
      ],
      "metadata": {
        "id": "WlAiuuLm588T"
      },
      "execution_count": 31,
      "outputs": []
    },
    {
      "cell_type": "markdown",
      "source": [
        "## Задание 1 ##"
      ],
      "metadata": {
        "id": "kQLMMj5l9fCc"
      }
    },
    {
      "cell_type": "markdown",
      "source": [
        "### Пункт 1 ###"
      ],
      "metadata": {
        "id": "r5r-x-2MQzWF"
      }
    },
    {
      "cell_type": "code",
      "source": [
        "# Равномерное\n",
        "unif_rv = sts.uniform(loc=-a_1, scale=(a_2+a_1))\n",
        "U = unif_rv.rvs(100)\n",
        "\n",
        "# Нормальное\n",
        "norm_rv = sts.norm(loc=b_1, scale=np.sqrt(b_2))\n",
        "N = norm_rv.rvs(100)\n",
        "\n",
        "# Показательное\n",
        "Exp_rv = sts.expon(scale=c_1)\n",
        "Exp = Exp_rv.rvs(100)"
      ],
      "metadata": {
        "id": "H6CmXb4q9eqD"
      },
      "execution_count": 211,
      "outputs": []
    },
    {
      "cell_type": "code",
      "source": [
        "# Пункт 4 для равномерного\n",
        "\n",
        "max_U = np.array(U).max()\n",
        "min_U = np.array(U).min()\n",
        "mean_U = np.array(U).mean()\n",
        "std_U = np.array(U).std()\n",
        "median_U = np.median(np.array(U))\n",
        "\n",
        "(max_U, min_U), mean_U, std_U, median_U"
      ],
      "metadata": {
        "colab": {
          "base_uri": "https://localhost:8080/"
        },
        "id": "eVGd8vz9_3dT",
        "outputId": "75b0506f-629a-4ab3-ed62-cfc32daaa1b6"
      },
      "execution_count": 33,
      "outputs": [
        {
          "output_type": "execute_result",
          "data": {
            "text/plain": [
              "((5.996963109460086, -18.82219795146116),\n",
              " -4.892450823223738,\n",
              " 7.547191871377937,\n",
              " -5.088257478175503)"
            ]
          },
          "metadata": {},
          "execution_count": 33
        }
      ]
    },
    {
      "cell_type": "code",
      "source": [
        "# Пункт 4 для нормального\n",
        "\n",
        "max_N = np.array(N).max()\n",
        "min_N = np.array(N).min()\n",
        "mean_N = np.array(N).mean()\n",
        "std_N = np.array(N).std()\n",
        "median_N = np.median(np.array(N))\n",
        "\n",
        "(max_N, min_N), mean_N, std_N, median_N"
      ],
      "metadata": {
        "colab": {
          "base_uri": "https://localhost:8080/"
        },
        "id": "0sTq4lVKEnkj",
        "outputId": "9d417bbf-0284-4634-ddd3-1b137cb1c3b8"
      },
      "execution_count": 34,
      "outputs": [
        {
          "output_type": "execute_result",
          "data": {
            "text/plain": [
              "((15.76486566573288, -10.652249698801265),\n",
              " 2.8269636449033704,\n",
              " 4.8172301362244525,\n",
              " 2.8151513311460823)"
            ]
          },
          "metadata": {},
          "execution_count": 34
        }
      ]
    },
    {
      "cell_type": "code",
      "source": [
        "# Пункт 4 для показательного\n",
        "\n",
        "max_Exp = np.array(Exp).max()\n",
        "min_Exp = np.array(Exp).min()\n",
        "mean_Exp = np.array(Exp).mean()\n",
        "std_Exp = np.array(Exp).std()\n",
        "median_Exp = np.median(np.array(Exp))\n",
        "\n",
        "(max_Exp, min_Exp), mean_Exp, std_Exp, median_Exp"
      ],
      "metadata": {
        "colab": {
          "base_uri": "https://localhost:8080/"
        },
        "id": "6FpNfwDIE7k0",
        "outputId": "7bcf3501-0c60-412f-f65a-193e3eb510a3"
      },
      "execution_count": 212,
      "outputs": [
        {
          "output_type": "execute_result",
          "data": {
            "text/plain": [
              "((4.5390461408302, 0.003721468791780063),\n",
              " 0.955769415243394,\n",
              " 0.957817581507239,\n",
              " 0.6434451737401441)"
            ]
          },
          "metadata": {},
          "execution_count": 212
        }
      ]
    },
    {
      "cell_type": "code",
      "source": [
        "# 5\n",
        "sns.scatterplot(U, color='green').set(title='Диаграмма рассеяния равномерного распределения');"
      ],
      "metadata": {
        "colab": {
          "base_uri": "https://localhost:8080/",
          "height": 452
        },
        "id": "uq7hnXoFFJEz",
        "outputId": "455dd69d-f772-436c-c6f8-4cfef287e444"
      },
      "execution_count": 36,
      "outputs": [
        {
          "output_type": "display_data",
          "data": {
            "text/plain": [
              "<Figure size 640x480 with 1 Axes>"
            ],
            "image/png": "[encoded data removed]"
          },
          "metadata": {}
        }
      ]
    },
    {
      "cell_type": "code",
      "source": [
        "sns.scatterplot(N, color='green').set(title='Диаграмма рассеяния нормального распределения');"
      ],
      "metadata": {
        "colab": {
          "base_uri": "https://localhost:8080/",
          "height": 452
        },
        "id": "mqKi58VCF27D",
        "outputId": "f7965a81-e347-45d1-8e0e-57bd81d60b37"
      },
      "execution_count": 37,
      "outputs": [
        {
          "output_type": "display_data",
          "data": {
            "text/plain": [
              "<Figure size 640x480 with 1 Axes>"
            ],
            "image/png": "[encoded data removed]"
          },
          "metadata": {}
        }
      ]
    },
    {
      "cell_type": "code",
      "source": [
        "sns.scatterplot(Exp, color='green').set(title='Диаграмма рассеяния показательного распределения');"
      ],
      "metadata": {
        "colab": {
          "base_uri": "https://localhost:8080/",
          "height": 452
        },
        "id": "7gOPk0YvF99r",
        "outputId": "e9842061-6289-4fa0-ff96-e600c29605ca"
      },
      "execution_count": 38,
      "outputs": [
        {
          "output_type": "display_data",
          "data": {
            "text/plain": [
              "<Figure size 640x480 with 1 Axes>"
            ],
            "image/png": "[encoded data removed]"
          },
          "metadata": {}
        }
      ]
    },
    {
      "cell_type": "code",
      "source": [
        "# 6\n",
        "\n",
        "plt.hist(U, bins=10, color='orange')\n",
        "plt.title('Гистограмма равномерного распределения');"
      ],
      "metadata": {
        "colab": {
          "base_uri": "https://localhost:8080/",
          "height": 452
        },
        "id": "2Why1ThHGFdV",
        "outputId": "d2e64118-5748-40d9-9228-92da335b9814"
      },
      "execution_count": 177,
      "outputs": [
        {
          "output_type": "display_data",
          "data": {
            "text/plain": [
              "<Figure size 640x480 with 1 Axes>"
            ],
            "image/png": "[encoded data removed]"
          },
          "metadata": {}
        }
      ]
    },
    {
      "cell_type": "code",
      "source": [
        "plt.hist(N, bins=10, color='blue')\n",
        "plt.title('Гистограмма нормального распределения');"
      ],
      "metadata": {
        "colab": {
          "base_uri": "https://localhost:8080/",
          "height": 452
        },
        "id": "rN6N2xUISUdk",
        "outputId": "4e3e402b-d143-47c7-e97c-32f5f6974825"
      },
      "execution_count": 40,
      "outputs": [
        {
          "output_type": "display_data",
          "data": {
            "text/plain": [
              "<Figure size 640x480 with 1 Axes>"
            ],
            "image/png": "[encoded data removed]"
          },
          "metadata": {}
        }
      ]
    },
    {
      "cell_type": "code",
      "source": [
        "plt.hist(Exp, bins=10, color='red')\n",
        "plt.title('Гистограмма показательного распределения');"
      ],
      "metadata": {
        "colab": {
          "base_uri": "https://localhost:8080/",
          "height": 452
        },
        "id": "7kquhJ-BScxE",
        "outputId": "beb1b7b6-5ce5-4044-e030-bc82568532ec"
      },
      "execution_count": 41,
      "outputs": [
        {
          "output_type": "display_data",
          "data": {
            "text/plain": [
              "<Figure size 640x480 with 1 Axes>"
            ],
            "image/png": "[encoded data removed]"
          },
          "metadata": {}
        }
      ]
    },
    {
      "cell_type": "code",
      "source": [
        "# 7\n",
        "from statsmodels.distributions.empirical_distribution import ECDF\n",
        "\n",
        "# Выборочная CDF\n",
        "ecdf = ECDF(U)  \n",
        "\n",
        "plt.step(ecdf.x, ecdf.y, color='red', linewidth=2)\n",
        "plt.ylabel('$F(x)$', fontsize=20)\n",
        "plt.xlabel('$x$', fontsize=20)\n",
        "plt.title('Функция равномерного распределения');\n",
        "\n",
        "# Теоретическа cdf \n",
        "x = np.linspace(-19, 6, 100)\n",
        "\n",
        "cdf = unif_rv.cdf(x)\n",
        "plt.plot(x, cdf, color='black', linewidth=2);"
      ],
      "metadata": {
        "colab": {
          "base_uri": "https://localhost:8080/",
          "height": 486
        },
        "id": "rJX7q1BNSpR8",
        "outputId": "e2b4d390-6e1b-4359-8852-f9490c76f7dd"
      },
      "execution_count": 42,
      "outputs": [
        {
          "output_type": "display_data",
          "data": {
            "text/plain": [
              "<Figure size 640x480 with 1 Axes>"
            ],
            "image/png": "[encoded data removed]"
          },
          "metadata": {}
        }
      ]
    },
    {
      "cell_type": "code",
      "source": [
        "# Выборочная CDF\n",
        "ecdf = ECDF(N)  \n",
        "\n",
        "plt.step(ecdf.x, ecdf.y, color='red', linewidth=2)\n",
        "plt.ylabel('$F(x)$', fontsize=20)\n",
        "plt.xlabel('$x$', fontsize=20)\n",
        "plt.title('Функция нормального распределения');\n",
        "\n",
        "# Теоретическа cdf \n",
        "x = np.linspace(-9, 11, 100)\n",
        "\n",
        "cdf = norm_rv.cdf(x)\n",
        "plt.plot(x, cdf, color='black', linewidth=2);"
      ],
      "metadata": {
        "colab": {
          "base_uri": "https://localhost:8080/",
          "height": 486
        },
        "id": "IafoGJ0-VmVX",
        "outputId": "0543eef8-60a9-4b7c-f3d5-67e0cb35f939"
      },
      "execution_count": 43,
      "outputs": [
        {
          "output_type": "display_data",
          "data": {
            "text/plain": [
              "<Figure size 640x480 with 1 Axes>"
            ],
            "image/png": "[encoded data removed]"
          },
          "metadata": {}
        }
      ]
    },
    {
      "cell_type": "code",
      "source": [
        "ecdf = ECDF(Exp)  \n",
        "\n",
        "plt.step(ecdf.x, ecdf.y, color='red', linewidth=2)\n",
        "plt.ylabel('$F(x)$', fontsize=20)\n",
        "plt.xlabel('$x$', fontsize=20)\n",
        "plt.title('Функция показательного распределения');\n",
        "\n",
        "# Теоретическа cdf \n",
        "x = np.linspace(0, 6, 100)\n",
        "\n",
        "cdf = Exp_rv.cdf(x)\n",
        "plt.plot(x, cdf, color='black', linewidth=2);"
      ],
      "metadata": {
        "colab": {
          "base_uri": "https://localhost:8080/",
          "height": 486
        },
        "id": "cqUDEVXCmUAt",
        "outputId": "187a9837-9162-43b0-a679-b2aa61f3c6b0"
      },
      "execution_count": 213,
      "outputs": [
        {
          "output_type": "display_data",
          "data": {
            "text/plain": [
              "<Figure size 640x480 with 1 Axes>"
            ],
            "image/png": "[encoded data removed]"
          },
          "metadata": {}
        }
      ]
    },
    {
      "cell_type": "markdown",
      "source": [
        "Как мы видим, графики довольно таки похожи, скорее всего асимптотически сходятся "
      ],
      "metadata": {
        "id": "Iyo6u3lrm7Kf"
      }
    },
    {
      "cell_type": "markdown",
      "source": [
        "### Пункт 2 ###"
      ],
      "metadata": {
        "id": "bk1LOyNYQ8db"
      }
    },
    {
      "cell_type": "code",
      "source": [
        "n=20\n",
        "unif_rv = sts.uniform(loc=-a_2, scale=(a_2+a_3))\n",
        "mean_list = []\n",
        "\n",
        "for i in range(100):\n",
        "    U = unif_rv.rvs(n)\n",
        "    U_mean = np.array(U).mean()\n",
        "    mean_list.append(U_mean)\n"
      ],
      "metadata": {
        "id": "z_wrcJzdRB_e"
      },
      "execution_count": 45,
      "outputs": []
    },
    {
      "cell_type": "code",
      "source": [
        "plt.hist(mean_list, bins=30, density=True)\n",
        "plt.title('Гистограмма средних равномерного распределения');\n"
      ],
      "metadata": {
        "colab": {
          "base_uri": "https://localhost:8080/",
          "height": 452
        },
        "id": "FJScIDfopG-_",
        "outputId": "a8a2d140-c161-44d4-82ca-669de487e8e7"
      },
      "execution_count": 46,
      "outputs": [
        {
          "output_type": "display_data",
          "data": {
            "text/plain": [
              "<Figure size 640x480 with 1 Axes>"
            ],
            "image/png": "[encoded data removed]"
          },
          "metadata": {}
        }
      ]
    },
    {
      "cell_type": "markdown",
      "source": [
        "Наглядно наблюдается работа ЦПТ, если увеличить количество прогонов, то наверняка всё сойдётся к нормальному, давайте убедимся"
      ],
      "metadata": {
        "id": "_C3N3fxEqCDX"
      }
    },
    {
      "cell_type": "code",
      "source": [
        "n=20\n",
        "unif_rv = sts.uniform(loc=-a_2, scale=(a_2+a_3))\n",
        "mean_list = []\n",
        "\n",
        "for i in range(1000):\n",
        "    U = unif_rv.rvs(n)\n",
        "    U_mean = np.array(U).mean()\n",
        "    mean_list.append(U_mean)\n",
        "\n",
        "plt.hist(mean_list, bins=50, density=True, color='purple')\n",
        "plt.title('Гистограмма средних равномерного распределения');"
      ],
      "metadata": {
        "colab": {
          "base_uri": "https://localhost:8080/",
          "height": 452
        },
        "id": "l76fEy-OqOf0",
        "outputId": "3e1fd080-821a-4c44-ccbe-3b5c5f624b05"
      },
      "execution_count": 47,
      "outputs": [
        {
          "output_type": "display_data",
          "data": {
            "text/plain": [
              "<Figure size 640x480 with 1 Axes>"
            ],
            "image/png": "[encoded data removed]"
          },
          "metadata": {}
        }
      ]
    },
    {
      "cell_type": "code",
      "source": [
        "n=20\n",
        "unif_rv = sts.uniform(loc=-a_2, scale=(a_2+a_3))\n",
        "mean_list = []\n",
        "\n",
        "for i in range(10000):\n",
        "    U = unif_rv.rvs(n)\n",
        "    U_mean = np.array(U).mean()\n",
        "    mean_list.append(U_mean)\n",
        "\n",
        "plt.hist(mean_list, bins=100, density=True, color='grey')\n",
        "plt.title('Гистограмма средних равномерного распределения');"
      ],
      "metadata": {
        "colab": {
          "base_uri": "https://localhost:8080/",
          "height": 452
        },
        "id": "MO_lnxNWq5FW",
        "outputId": "5521690e-63f1-4526-8a4d-94211e08e97f"
      },
      "execution_count": 48,
      "outputs": [
        {
          "output_type": "display_data",
          "data": {
            "text/plain": [
              "<Figure size 640x480 with 1 Axes>"
            ],
            "image/png": "[encoded data removed]"
          },
          "metadata": {}
        }
      ]
    },
    {
      "cell_type": "markdown",
      "source": [
        "### Пункт 3 ###"
      ],
      "metadata": {
        "id": "n0sua8qUrGR2"
      }
    },
    {
      "cell_type": "code",
      "source": [
        "df = pd.read_excel('http://pubdocs.worldbank.org/en/561011486076393416/CMO-Historical-Data-Monthly.xlsx', index_col=0)\n",
        "df"
      ],
      "metadata": {
        "colab": {
          "base_uri": "https://localhost:8080/",
          "height": 49
        },
        "id": "IEuMyed6rGBX",
        "outputId": "a6b6accb-366d-41be-f0cb-a2c837f78f3d"
      },
      "execution_count": 49,
      "outputs": [
        {
          "output_type": "execute_result",
          "data": {
            "text/plain": [
              "Empty DataFrame\n",
              "Columns: []\n",
              "Index: []"
            ],
            "text/html": [
              "\n",
              "  <div id=\"df-937b7061-60ea-46fb-8241-95ba75e956a4\">\n",
              "    <div class=\"colab-df-container\">\n",
              "      <div>\n",
              "<style scoped>\n",
              "    .dataframe tbody tr th:only-of-type {\n",
              "        vertical-align: middle;\n",
              "    }\n",
              "\n",
              "    .dataframe tbody tr th {\n",
              "        vertical-align: top;\n",
              "    }\n",
              "\n",
              "    .dataframe thead th {\n",
              "        text-align: right;\n",
              "    }\n",
              "</style>\n",
              "<table border=\"1\" class=\"dataframe\">\n",
              "  <thead>\n",
              "    <tr style=\"text-align: right;\">\n",
              "      <th></th>\n",
              "    </tr>\n",
              "  </thead>\n",
              "  <tbody>\n",
              "  </tbody>\n",
              "</table>\n",
              "</div>\n",
              "      <button class=\"colab-df-convert\" onclick=\"convertToInteractive('df-937b7061-60ea-46fb-8241-95ba75e956a4')\"\n",
              "              title=\"Convert this dataframe to an interactive table.\"\n",
              "              style=\"display:none;\">\n",
              "        \n",
              "  <svg xmlns=\"http://www.w3.org/2000/svg\" height=\"24px\"viewBox=\"0 0 24 24\"\n",
              "       width=\"24px\">\n",
              "    <path d=\"M0 0h24v24H0V0z\" fill=\"none\"/>\n",
              "    <path d=\"M18.56 5.44l.94 2.06.94-2.06 2.06-.94-2.06-.94-.94-2.06-.94 2.06-2.06.94zm-11 1L8.5 8.5l.94-2.06 2.06-.94-2.06-.94L8.5 2.5l-.94 2.06-2.06.94zm10 10l.94 2.06.94-2.06 2.06-.94-2.06-.94-.94-2.06-.94 2.06-2.06.94z\"/><path d=\"M17.41 7.96l-1.37-1.37c-.4-.4-.92-.59-1.43-.59-.52 0-1.04.2-1.43.59L10.3 9.45l-7.72 7.72c-.78.78-.78 2.05 0 2.83L4 21.41c.39.39.9.59 1.41.59.51 0 1.02-.2 1.41-.59l7.78-7.78 2.81-2.81c.8-.78.8-2.07 0-2.86zM5.41 20L4 18.59l7.72-7.72 1.47 1.35L5.41 20z\"/>\n",
              "  </svg>\n",
              "      </button>\n",
              "      \n",
              "  <style>\n",
              "    .colab-df-container {\n",
              "      display:flex;\n",
              "      flex-wrap:wrap;\n",
              "      gap: 12px;\n",
              "    }\n",
              "\n",
              "    .colab-df-convert {\n",
              "      background-color: #E8F0FE;\n",
              "      border: none;\n",
              "      border-radius: 50%;\n",
              "      cursor: pointer;\n",
              "      display: none;\n",
              "      fill: #1967D2;\n",
              "      height: 32px;\n",
              "      padding: 0 0 0 0;\n",
              "      width: 32px;\n",
              "    }\n",
              "\n",
              "    .colab-df-convert:hover {\n",
              "      background-color: #E2EBFA;\n",
              "      box-shadow: 0px 1px 2px rgba(60, 64, 67, 0.3), 0px 1px 3px 1px rgba(60, 64, 67, 0.15);\n",
              "      fill: #174EA6;\n",
              "    }\n",
              "\n",
              "    [theme=dark] .colab-df-convert {\n",
              "      background-color: #3B4455;\n",
              "      fill: #D2E3FC;\n",
              "    }\n",
              "\n",
              "    [theme=dark] .colab-df-convert:hover {\n",
              "      background-color: #434B5C;\n",
              "      box-shadow: 0px 1px 3px 1px rgba(0, 0, 0, 0.15);\n",
              "      filter: drop-shadow(0px 1px 2px rgba(0, 0, 0, 0.3));\n",
              "      fill: #FFFFFF;\n",
              "    }\n",
              "  </style>\n",
              "\n",
              "      <script>\n",
              "        const buttonEl =\n",
              "          document.querySelector('#df-937b7061-60ea-46fb-8241-95ba75e956a4 button.colab-df-convert');\n",
              "        buttonEl.style.display =\n",
              "          google.colab.kernel.accessAllowed ? 'block' : 'none';\n",
              "\n",
              "        async function convertToInteractive(key) {\n",
              "          const element = document.querySelector('#df-937b7061-60ea-46fb-8241-95ba75e956a4');\n",
              "          const dataTable =\n",
              "            await google.colab.kernel.invokeFunction('convertToInteractive',\n",
              "                                                     [key], {});\n",
              "          if (!dataTable) return;\n",
              "\n",
              "          const docLinkHtml = 'Like what you see? Visit the ' +\n",
              "            '<a target=\"_blank\" href=https://colab.research.google.com/notebooks/data_table.ipynb>data table notebook</a>'\n",
              "            + ' to learn more about interactive tables.';\n",
              "          element.innerHTML = '';\n",
              "          dataTable['output_type'] = 'display_data';\n",
              "          await google.colab.output.renderOutput(dataTable, element);\n",
              "          const docLink = document.createElement('div');\n",
              "          docLink.innerHTML = docLinkHtml;\n",
              "          element.appendChild(docLink);\n",
              "        }\n",
              "      </script>\n",
              "    </div>\n",
              "  </div>\n",
              "  "
            ]
          },
          "metadata": {},
          "execution_count": 49
        }
      ]
    },
    {
      "cell_type": "markdown",
      "source": [
        "По крайней мере я попытался, нет так нет, эта часть была сделана в экселе, файл в архиве, вот скриншотик с импровизированной корреляционной матрицей <br>\n",
        "\n",
        "![image.png](data:image/png;base64,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)"
      ],
      "metadata": {
        "id": "5Bid8l73z1A3"
      }
    },
    {
      "cell_type": "markdown",
      "source": [
        "Если подводить какие-то выводы по этому поводу, то стоит сказать, что у всех активов присутствует положительная корелляция, у нефти она вообще почти равна единице, однако для вывода о взаимосвязи по-хорошему нужно провести тест Пирсона-Фишера"
      ],
      "metadata": {
        "id": "m13LapiA6sDf"
      }
    },
    {
      "cell_type": "markdown",
      "source": [
        "## Задание 2 ##"
      ],
      "metadata": {
        "id": "PfXep71Y6Wzm"
      }
    },
    {
      "cell_type": "markdown",
      "source": [
        "### Пункт 1 ###"
      ],
      "metadata": {
        "id": "4l_h_Jp673pn"
      }
    },
    {
      "cell_type": "code",
      "source": [
        "# 1 \n",
        "\n",
        "# Равномерное\n",
        "unif_rv = sts.uniform(loc=c_3, scale=c_2)\n",
        "U_1 = unif_rv.rvs(100)\n",
        "U_2 = unif_rv.rvs(300)\n",
        "U_3 = unif_rv.rvs(1000)\n",
        "\n",
        "# Нормальное\n",
        "norm_rv = sts.norm(loc=a_1, scale=np.sqrt(a_3))\n",
        "N_1 = norm_rv.rvs(100)\n",
        "N_2 = norm_rv.rvs(300)\n",
        "N_3 = norm_rv.rvs(1000)\n",
        "\n",
        "# Показательное\n",
        "Exp_rv = sts.expon(scale=b_2)\n",
        "Exp_1 = Exp_rv.rvs(100)\n",
        "Exp_2 = Exp_rv.rvs(300)\n",
        "Exp_3 = Exp_rv.rvs(1000)"
      ],
      "metadata": {
        "id": "jenZ9zCTrNoW"
      },
      "execution_count": 50,
      "outputs": []
    },
    {
      "cell_type": "markdown",
      "source": [
        "### Пункт 2... ###"
      ],
      "metadata": {
        "id": "NBMUvBFX9d0_"
      }
    },
    {
      "cell_type": "markdown",
      "source": [
        "#### Подпункт 1... ####"
      ],
      "metadata": {
        "id": "BaPp38vfCjij"
      }
    },
    {
      "cell_type": "markdown",
      "source": [
        "Цикл неудобно будет проверять, потому сделал по-старинке"
      ],
      "metadata": {
        "id": "Q9YzQgbHIYMn"
      }
    },
    {
      "cell_type": "code",
      "source": [
        "# Для нормального\n",
        "alpha_1 = 0.1\n",
        "alpha_2 = 0.05\n",
        "z_crit_1 = sts.norm.ppf(1 - alpha_1/2)\n",
        "z_crit_2 = sts.norm.ppf(1 - alpha_2/2)"
      ],
      "metadata": {
        "id": "Nw94--VR89sP"
      },
      "execution_count": 51,
      "outputs": []
    },
    {
      "cell_type": "code",
      "source": [
        "# 90\n",
        "(np.array(N_1).mean() - z_crit_1*np.sqrt(a_3)/np.sqrt(100), np.array(N_1).mean() + z_crit_1*np.sqrt(a_3)/np.sqrt(100))"
      ],
      "metadata": {
        "colab": {
          "base_uri": "https://localhost:8080/"
        },
        "id": "mNgnNkdBCR85",
        "outputId": "184dc2a6-b206-4dd1-eb85-2f4a7d899bdb"
      },
      "execution_count": 52,
      "outputs": [
        {
          "output_type": "execute_result",
          "data": {
            "text/plain": [
              "(17.891598874317726, 19.122494619006705)"
            ]
          },
          "metadata": {},
          "execution_count": 52
        }
      ]
    },
    {
      "cell_type": "code",
      "source": [
        "# 95\n",
        "(np.array(N_1).mean() - z_crit_2*np.sqrt(a_3)/np.sqrt(100), np.array(N_1).mean() + z_crit_2*np.sqrt(a_3)/np.sqrt(100))"
      ],
      "metadata": {
        "colab": {
          "base_uri": "https://localhost:8080/"
        },
        "id": "9WFZCkwzDjDP",
        "outputId": "709aa262-6e00-4f71-a896-e6b84f6e62be"
      },
      "execution_count": 53,
      "outputs": [
        {
          "output_type": "execute_result",
          "data": {
            "text/plain": [
              "(17.773695374605698, 19.240398118718733)"
            ]
          },
          "metadata": {},
          "execution_count": 53
        }
      ]
    },
    {
      "cell_type": "code",
      "source": [
        "# 90\n",
        "(np.array(N_2).mean() - z_crit_1*np.sqrt(a_3)/np.sqrt(300), np.array(N_2).mean() + z_crit_1*np.sqrt(a_3)/np.sqrt(300))"
      ],
      "metadata": {
        "colab": {
          "base_uri": "https://localhost:8080/"
        },
        "id": "uNJzmv7NDoBG",
        "outputId": "5c6b5995-df32-4e2e-eb63-b7f160ebf111"
      },
      "execution_count": 54,
      "outputs": [
        {
          "output_type": "execute_result",
          "data": {
            "text/plain": [
              "(18.624176606313352, 19.334834595853895)"
            ]
          },
          "metadata": {},
          "execution_count": 54
        }
      ]
    },
    {
      "cell_type": "code",
      "source": [
        "# 95\n",
        "(np.array(N_2).mean() - z_crit_2*np.sqrt(a_3)/np.sqrt(300), np.array(N_2).mean() + z_crit_2*np.sqrt(a_3)/np.sqrt(300))"
      ],
      "metadata": {
        "colab": {
          "base_uri": "https://localhost:8080/"
        },
        "id": "8BRzzd-GDsiz",
        "outputId": "48b94410-8bb2-47ec-ad67-25d3e38ad0c7"
      },
      "execution_count": 55,
      "outputs": [
        {
          "output_type": "execute_result",
          "data": {
            "text/plain": [
              "(18.556104989016212, 19.402906213151034)"
            ]
          },
          "metadata": {},
          "execution_count": 55
        }
      ]
    },
    {
      "cell_type": "code",
      "source": [
        "# 90\n",
        "(np.array(N_3).mean() - z_crit_1*np.sqrt(a_3)/np.sqrt(1000), np.array(N_3).mean() + z_crit_1*np.sqrt(a_3)/np.sqrt(1000))"
      ],
      "metadata": {
        "colab": {
          "base_uri": "https://localhost:8080/"
        },
        "id": "_mVJCmQwD2G_",
        "outputId": "54069ba1-8df2-4a7b-dade-f12b058384d8"
      },
      "execution_count": 56,
      "outputs": [
        {
          "output_type": "execute_result",
          "data": {
            "text/plain": [
              "(18.696100398374615, 19.085343809917244)"
            ]
          },
          "metadata": {},
          "execution_count": 56
        }
      ]
    },
    {
      "cell_type": "code",
      "source": [
        "# 95\n",
        "(np.array(N_3).mean() - z_crit_2*np.sqrt(a_3)/np.sqrt(1000), np.array(N_3).mean() + z_crit_2*np.sqrt(a_3)/np.sqrt(1000))"
      ],
      "metadata": {
        "colab": {
          "base_uri": "https://localhost:8080/"
        },
        "id": "rRw33dVQD4bQ",
        "outputId": "73ffa064-4432-4fcc-a29d-d6d47abd9afb"
      },
      "execution_count": 57,
      "outputs": [
        {
          "output_type": "execute_result",
          "data": {
            "text/plain": [
              "(18.658816038055114, 19.122628170236744)"
            ]
          },
          "metadata": {},
          "execution_count": 57
        }
      ]
    },
    {
      "cell_type": "markdown",
      "source": [
        "Сначала найдём дисперсию"
      ],
      "metadata": {
        "id": "nPOmItCoImUP"
      }
    },
    {
      "cell_type": "code",
      "source": [
        "# Для равномерного\n",
        "var = c_2**2/12\n",
        "var"
      ],
      "metadata": {
        "colab": {
          "base_uri": "https://localhost:8080/"
        },
        "id": "4IX1MSYtEIBm",
        "outputId": "df5030b0-d763-40ff-96f3-dbfff350249b"
      },
      "execution_count": 58,
      "outputs": [
        {
          "output_type": "execute_result",
          "data": {
            "text/plain": [
              "14.083333333333334"
            ]
          },
          "metadata": {},
          "execution_count": 58
        }
      ]
    },
    {
      "cell_type": "code",
      "source": [
        "# 90\n",
        "(np.array(U_1).mean() - z_crit_1*np.sqrt(var)/np.sqrt(100), np.array(U_1).mean() + z_crit_1*np.sqrt(var)/np.sqrt(100))"
      ],
      "metadata": {
        "colab": {
          "base_uri": "https://localhost:8080/"
        },
        "id": "5DGyo3keHwIo",
        "outputId": "dd2c9170-ddb0-4279-94ae-0bc06cf4249f"
      },
      "execution_count": 59,
      "outputs": [
        {
          "output_type": "execute_result",
          "data": {
            "text/plain": [
              "(11.685484342704395, 12.92003803229175)"
            ]
          },
          "metadata": {},
          "execution_count": 59
        }
      ]
    },
    {
      "cell_type": "code",
      "source": [
        "# 95\n",
        "(np.array(U_1).mean() - z_crit_2*np.sqrt(var)/np.sqrt(100), np.array(U_1).mean() + z_crit_2*np.sqrt(var)/np.sqrt(100))"
      ],
      "metadata": {
        "colab": {
          "base_uri": "https://localhost:8080/"
        },
        "id": "jEf8IWskH_qg",
        "outputId": "06562747-8e85-4ddd-aaa1-a3045d10fdd2"
      },
      "execution_count": 60,
      "outputs": [
        {
          "output_type": "execute_result",
          "data": {
            "text/plain": [
              "(11.567230460348561, 13.038291914647584)"
            ]
          },
          "metadata": {},
          "execution_count": 60
        }
      ]
    },
    {
      "cell_type": "code",
      "source": [
        "# 90\n",
        "(np.array(U_2).mean() - z_crit_1*np.sqrt(var)/np.sqrt(300), np.array(U_2).mean() + z_crit_1*np.sqrt(var)/np.sqrt(300))"
      ],
      "metadata": {
        "colab": {
          "base_uri": "https://localhost:8080/"
        },
        "id": "OHbOi2NnIMgH",
        "outputId": "ac248122-9860-44e4-f93c-7d3d990af5b5"
      },
      "execution_count": 61,
      "outputs": [
        {
          "output_type": "execute_result",
          "data": {
            "text/plain": [
              "(11.985262222520815, 12.69803212753312)"
            ]
          },
          "metadata": {},
          "execution_count": 61
        }
      ]
    },
    {
      "cell_type": "code",
      "source": [
        "# 95\n",
        "(np.array(U_2).mean() - z_crit_2*np.sqrt(var)/np.sqrt(300), np.array(U_2).mean() + z_crit_2*np.sqrt(var)/np.sqrt(300))"
      ],
      "metadata": {
        "colab": {
          "base_uri": "https://localhost:8080/"
        },
        "id": "hmnNfTA2IQz4",
        "outputId": "1252717b-40e1-4fa9-fd71-b09d293b7376"
      },
      "execution_count": 62,
      "outputs": [
        {
          "output_type": "execute_result",
          "data": {
            "text/plain": [
              "(11.916988311709956, 12.766306038343979)"
            ]
          },
          "metadata": {},
          "execution_count": 62
        }
      ]
    },
    {
      "cell_type": "code",
      "source": [
        "# 90\n",
        "(np.array(U_3).mean() - z_crit_1*np.sqrt(var)/np.sqrt(1000), np.array(U_2).mean() + z_crit_1*np.sqrt(var)/np.sqrt(1000))"
      ],
      "metadata": {
        "colab": {
          "base_uri": "https://localhost:8080/"
        },
        "id": "2toUaXkZIQtY",
        "outputId": "e46c3b1e-aef6-49f5-c300-5cf5dbb4b964"
      },
      "execution_count": 63,
      "outputs": [
        {
          "output_type": "execute_result",
          "data": {
            "text/plain": [
              "(12.204751504789606, 12.536847252669993)"
            ]
          },
          "metadata": {},
          "execution_count": 63
        }
      ]
    },
    {
      "cell_type": "code",
      "source": [
        "# 95\n",
        "(np.array(U_3).mean() - z_crit_2*np.sqrt(var)/np.sqrt(1000), np.array(U_2).mean() + z_crit_2*np.sqrt(var)/np.sqrt(1000))"
      ],
      "metadata": {
        "colab": {
          "base_uri": "https://localhost:8080/"
        },
        "id": "iSMQHphaIQox",
        "outputId": "eb91521b-a500-4be1-a32d-0d2ff1488920"
      },
      "execution_count": 64,
      "outputs": [
        {
          "output_type": "execute_result",
          "data": {
            "text/plain": [
              "(12.1673563437494, 12.574242413710198)"
            ]
          },
          "metadata": {},
          "execution_count": 64
        }
      ]
    },
    {
      "cell_type": "markdown",
      "source": [
        "Найдём дисперсию"
      ],
      "metadata": {
        "id": "zxyuHIDFJoCg"
      }
    },
    {
      "cell_type": "code",
      "source": [
        "# Для показательного \n",
        "var = (1/b_2)**2\n",
        "var"
      ],
      "metadata": {
        "colab": {
          "base_uri": "https://localhost:8080/"
        },
        "id": "12BT14bOIQgo",
        "outputId": "0273ad97-ed8b-4765-8cd8-56066afe6ebf"
      },
      "execution_count": 65,
      "outputs": [
        {
          "output_type": "execute_result",
          "data": {
            "text/plain": [
              "0.0027700831024930744"
            ]
          },
          "metadata": {},
          "execution_count": 65
        }
      ]
    },
    {
      "cell_type": "code",
      "source": [
        "# 90\n",
        "(np.array(Exp_1).mean() - z_crit_1*np.sqrt(var)/np.sqrt(100), np.array(Exp_1).mean() + z_crit_1*np.sqrt(var)/np.sqrt(100))"
      ],
      "metadata": {
        "colab": {
          "base_uri": "https://localhost:8080/"
        },
        "id": "E5tsdhJUIQbI",
        "outputId": "423122a4-d713-40f0-a924-d0b2430403ce"
      },
      "execution_count": 66,
      "outputs": [
        {
          "output_type": "execute_result",
          "data": {
            "text/plain": [
              "(16.43795547139313, 16.45526972009788)"
            ]
          },
          "metadata": {},
          "execution_count": 66
        }
      ]
    },
    {
      "cell_type": "code",
      "source": [
        "# 95\n",
        "(np.array(Exp_1).mean() - z_crit_2*np.sqrt(var)/np.sqrt(100), np.array(Exp_1).mean() + z_crit_2*np.sqrt(var)/np.sqrt(100))"
      ],
      "metadata": {
        "colab": {
          "base_uri": "https://localhost:8080/"
        },
        "id": "tCUc1JxZJlco",
        "outputId": "28983341-60a2-4ff9-8c85-0bc4350b0152"
      },
      "execution_count": 67,
      "outputs": [
        {
          "output_type": "execute_result",
          "data": {
            "text/plain": [
              "(16.436296995826876, 16.456928195664137)"
            ]
          },
          "metadata": {},
          "execution_count": 67
        }
      ]
    },
    {
      "cell_type": "code",
      "source": [
        "# 90\n",
        "(np.array(Exp_2).mean() - z_crit_1*np.sqrt(var)/np.sqrt(300), np.array(Exp_2).mean() + z_crit_1*np.sqrt(var)/np.sqrt(300))"
      ],
      "metadata": {
        "colab": {
          "base_uri": "https://localhost:8080/"
        },
        "id": "yYk3-Rd8J62Q",
        "outputId": "c679e631-e316-4c27-8335-d505ae2ffd16"
      },
      "execution_count": 68,
      "outputs": [
        {
          "output_type": "execute_result",
          "data": {
            "text/plain": [
              "(19.16575981862732, 19.175756204777823)"
            ]
          },
          "metadata": {},
          "execution_count": 68
        }
      ]
    },
    {
      "cell_type": "code",
      "source": [
        "# 95\n",
        "(np.array(Exp_2).mean() - z_crit_2*np.sqrt(var)/np.sqrt(300), np.array(Exp_2).mean() + z_crit_2*np.sqrt(var)/np.sqrt(300))"
      ],
      "metadata": {
        "colab": {
          "base_uri": "https://localhost:8080/"
        },
        "id": "-uA_9exVJ7vA",
        "outputId": "aad6355b-6c28-4599-cfdf-4e9b72354656"
      },
      "execution_count": 69,
      "outputs": [
        {
          "output_type": "execute_result",
          "data": {
            "text/plain": [
              "(19.164802297312697, 19.176713726092444)"
            ]
          },
          "metadata": {},
          "execution_count": 69
        }
      ]
    },
    {
      "cell_type": "code",
      "source": [
        "# 90\n",
        "(np.array(Exp_3).mean() - z_crit_1*np.sqrt(var)/np.sqrt(1000), np.array(Exp_3).mean() + z_crit_1*np.sqrt(var)/np.sqrt(1000))"
      ],
      "metadata": {
        "colab": {
          "base_uri": "https://localhost:8080/"
        },
        "id": "5pXJc8FHKEs_",
        "outputId": "c6d616f4-88a3-4516-c05a-58607070edcc"
      },
      "execution_count": 70,
      "outputs": [
        {
          "output_type": "execute_result",
          "data": {
            "text/plain": [
              "(19.206217294333026, 19.211692540521188)"
            ]
          },
          "metadata": {},
          "execution_count": 70
        }
      ]
    },
    {
      "cell_type": "code",
      "source": [
        "# 95\n",
        "(np.array(Exp_3).mean() - z_crit_2*np.sqrt(var)/np.sqrt(1000), np.array(Exp_3).mean() + z_crit_2*np.sqrt(var)/np.sqrt(1000))"
      ],
      "metadata": {
        "colab": {
          "base_uri": "https://localhost:8080/"
        },
        "id": "RoZcMPRiKE-v",
        "outputId": "3d37de81-5b87-4dca-9928-c1de588cadab"
      },
      "execution_count": 71,
      "outputs": [
        {
          "output_type": "execute_result",
          "data": {
            "text/plain": [
              "(19.205692838309716, 19.212216996544498)"
            ]
          },
          "metadata": {},
          "execution_count": 71
        }
      ]
    },
    {
      "cell_type": "markdown",
      "source": [
        "#### Подпункт 2... ####"
      ],
      "metadata": {
        "id": "RLch9lR5Ky0Y"
      }
    },
    {
      "cell_type": "markdown",
      "source": [
        "Тут стоит пояснить, что я умею использовать Стьюдента, но намерено этого не сделаю, ибо у нас большое количество наблюдений, а значит и степеней свободы, что приближает его к нормальному"
      ],
      "metadata": {
        "id": "YfOww0LSKz-x"
      }
    },
    {
      "cell_type": "code",
      "source": [
        "# Для нормального\n",
        "N_1 = np.array(N_1)\n",
        "N_2 = np.array(N_2)\n",
        "N_3 = np.array(N_3)"
      ],
      "metadata": {
        "id": "w2ynmvqZLYog"
      },
      "execution_count": 72,
      "outputs": []
    },
    {
      "cell_type": "code",
      "source": [
        "# 90\n",
        "(np.array(N_1).mean() - z_crit_1 * N_1.std() / np.sqrt(100), np.array(N_1).mean() + z_crit_1 * N_1.std() / np.sqrt(100))"
      ],
      "metadata": {
        "colab": {
          "base_uri": "https://localhost:8080/"
        },
        "id": "O5ApzSJ-KF1r",
        "outputId": "05f866c4-b5f7-41cf-a57d-b4af67849d40"
      },
      "execution_count": 73,
      "outputs": [
        {
          "output_type": "execute_result",
          "data": {
            "text/plain": [
              "(17.950048967576784, 19.064044525747647)"
            ]
          },
          "metadata": {},
          "execution_count": 73
        }
      ]
    },
    {
      "cell_type": "code",
      "source": [
        "# 95\n",
        "(np.array(N_1).mean() - z_crit_2 * N_1.std() / np.sqrt(100), np.array(N_1).mean() + z_crit_2 * N_1.std() / np.sqrt(100))"
      ],
      "metadata": {
        "colab": {
          "base_uri": "https://localhost:8080/"
        },
        "id": "uk-US0p4KSyr",
        "outputId": "49683c87-2448-4827-9de5-18b31bf6b041"
      },
      "execution_count": 74,
      "outputs": [
        {
          "output_type": "execute_result",
          "data": {
            "text/plain": [
              "(17.843342956496056, 19.170750536828375)"
            ]
          },
          "metadata": {},
          "execution_count": 74
        }
      ]
    },
    {
      "cell_type": "code",
      "source": [
        "# 90\n",
        "(np.array(N_2).mean() - z_crit_1 * N_2.std() / np.sqrt(300), np.array(N_2).mean() + z_crit_1 * N_2.std() / np.sqrt(300))"
      ],
      "metadata": {
        "colab": {
          "base_uri": "https://localhost:8080/"
        },
        "id": "C44L-VWUKSvj",
        "outputId": "e2cb3986-745f-47f3-d33a-ac80def905ec"
      },
      "execution_count": 75,
      "outputs": [
        {
          "output_type": "execute_result",
          "data": {
            "text/plain": [
              "(18.626570389772738, 19.33244081239451)"
            ]
          },
          "metadata": {},
          "execution_count": 75
        }
      ]
    },
    {
      "cell_type": "code",
      "source": [
        "# 95\n",
        "(np.array(N_2).mean() - z_crit_2 * N_2.std() / np.sqrt(300), np.array(N_2).mean() + z_crit_2 * N_2.std() / np.sqrt(300))"
      ],
      "metadata": {
        "colab": {
          "base_uri": "https://localhost:8080/"
        },
        "id": "DVJIIfG1KSst",
        "outputId": "b0251467-6183-47f6-e4c5-b6f8f83dd01e"
      },
      "execution_count": 76,
      "outputs": [
        {
          "output_type": "execute_result",
          "data": {
            "text/plain": [
              "(18.558957357938475, 19.400053844228772)"
            ]
          },
          "metadata": {},
          "execution_count": 76
        }
      ]
    },
    {
      "cell_type": "code",
      "source": [
        "# 90\n",
        "(np.array(N_3).mean() - z_crit_1 * N_3.std() / np.sqrt(1000), np.array(N_3).mean() + z_crit_1 * N_3.std() / np.sqrt(1000))"
      ],
      "metadata": {
        "colab": {
          "base_uri": "https://localhost:8080/"
        },
        "id": "b0R4_I37KSqA",
        "outputId": "700d019b-b9b8-412c-cf93-5c5db608b8b6"
      },
      "execution_count": 77,
      "outputs": [
        {
          "output_type": "execute_result",
          "data": {
            "text/plain": [
              "(18.70082312694379, 19.08062108134807)"
            ]
          },
          "metadata": {},
          "execution_count": 77
        }
      ]
    },
    {
      "cell_type": "code",
      "source": [
        "# 95\n",
        "(np.array(N_3).mean() - z_crit_2 * N_3.std() / np.sqrt(1000), np.array(N_3).mean() + z_crit_2 * N_3.std() / np.sqrt(1000))"
      ],
      "metadata": {
        "colab": {
          "base_uri": "https://localhost:8080/"
        },
        "id": "xmqwT2aTKFyh",
        "outputId": "3059ad6f-e2a0-4b35-c101-4383b0459fb5"
      },
      "execution_count": 78,
      "outputs": [
        {
          "output_type": "execute_result",
          "data": {
            "text/plain": [
              "(18.664443516240812, 19.117000692051047)"
            ]
          },
          "metadata": {},
          "execution_count": 78
        }
      ]
    },
    {
      "cell_type": "markdown",
      "source": [
        "Для равномерного"
      ],
      "metadata": {
        "id": "ntO4M0mCMf78"
      }
    },
    {
      "cell_type": "code",
      "source": [
        "# 90\n",
        "(np.array(U_1).mean() - z_crit_1 * U_1.std() / np.sqrt(100), np.array(U_1).mean() + z_crit_1 * U_1.std() / np.sqrt(100))"
      ],
      "metadata": {
        "colab": {
          "base_uri": "https://localhost:8080/"
        },
        "id": "O4XAALizKFvv",
        "outputId": "a3f4bf99-4853-435c-9a15-0e0c0e0f9455"
      },
      "execution_count": 79,
      "outputs": [
        {
          "output_type": "execute_result",
          "data": {
            "text/plain": [
              "(11.683390426619189, 12.922131948376956)"
            ]
          },
          "metadata": {},
          "execution_count": 79
        }
      ]
    },
    {
      "cell_type": "code",
      "source": [
        "# 95\n",
        "(np.array(U_1).mean() - z_crit_2 * U_1.std() / np.sqrt(100), np.array(U_1).mean() + z_crit_2 * U_1.std() / np.sqrt(100))"
      ],
      "metadata": {
        "colab": {
          "base_uri": "https://localhost:8080/"
        },
        "id": "IwBb1AS4Mkwn",
        "outputId": "5a6a11ad-7fa6-4312-b45b-9b26eae41e3d"
      },
      "execution_count": 80,
      "outputs": [
        {
          "output_type": "execute_result",
          "data": {
            "text/plain": [
              "(11.564735405441299, 13.040786969554846)"
            ]
          },
          "metadata": {},
          "execution_count": 80
        }
      ]
    },
    {
      "cell_type": "code",
      "source": [
        "# 90\n",
        "(np.array(U_2).mean() - z_crit_1 * U_2.std() / np.sqrt(300), np.array(U_2).mean() + z_crit_1 * U_2.std() / np.sqrt(300))"
      ],
      "metadata": {
        "colab": {
          "base_uri": "https://localhost:8080/"
        },
        "id": "YNeg-09qMknI",
        "outputId": "d12d7ef9-623a-4bec-8bdc-f3666a1efb68"
      },
      "execution_count": 81,
      "outputs": [
        {
          "output_type": "execute_result",
          "data": {
            "text/plain": [
              "(11.989763998128891, 12.693530351925043)"
            ]
          },
          "metadata": {},
          "execution_count": 81
        }
      ]
    },
    {
      "cell_type": "code",
      "source": [
        "# 95\n",
        "(np.array(U_2).mean() - z_crit_2 * U_2.std() / np.sqrt(300), np.array(U_2).mean() + z_crit_2 * U_2.std() / np.sqrt(300))"
      ],
      "metadata": {
        "colab": {
          "base_uri": "https://localhost:8080/"
        },
        "id": "2JyiUSnWKFs3",
        "outputId": "9a6990f9-60f8-4174-a306-d2677630b900"
      },
      "execution_count": 82,
      "outputs": [
        {
          "output_type": "execute_result",
          "data": {
            "text/plain": [
              "(11.922352508203636, 12.760941841850299)"
            ]
          },
          "metadata": {},
          "execution_count": 82
        }
      ]
    },
    {
      "cell_type": "code",
      "source": [
        "# 90\n",
        "(np.array(U_3).mean() - z_crit_1 * U_3.std() / np.sqrt(1000), np.array(U_3).mean() + z_crit_1 * U_3.std() / np.sqrt(1000))"
      ],
      "metadata": {
        "colab": {
          "base_uri": "https://localhost:8080/"
        },
        "id": "fMj5gBfxKFZP",
        "outputId": "741ddb71-f75d-42cb-fa4c-b18713ae9ff7"
      },
      "execution_count": 83,
      "outputs": [
        {
          "output_type": "execute_result",
          "data": {
            "text/plain": [
              "(12.205698359360584, 12.59420480550468)"
            ]
          },
          "metadata": {},
          "execution_count": 83
        }
      ]
    },
    {
      "cell_type": "code",
      "source": [
        "# 95\n",
        "(np.array(U_3).mean() - z_crit_2 * U_3.std() / np.sqrt(1000), np.array(U_3).mean() + z_crit_2 * U_3.std() / np.sqrt(1000))"
      ],
      "metadata": {
        "colab": {
          "base_uri": "https://localhost:8080/"
        },
        "id": "ln2hM4wyNADs",
        "outputId": "05b5c8f8-02b9-4e5a-b157-f58f34680cc1"
      },
      "execution_count": 84,
      "outputs": [
        {
          "output_type": "execute_result",
          "data": {
            "text/plain": [
              "(12.168484590559517, 12.631418574305746)"
            ]
          },
          "metadata": {},
          "execution_count": 84
        }
      ]
    },
    {
      "cell_type": "markdown",
      "source": [
        "Для экспоненциального"
      ],
      "metadata": {
        "id": "TEw-ECeiNhVv"
      }
    },
    {
      "cell_type": "code",
      "source": [
        "# 90\n",
        "(np.array(Exp_1).mean() - z_crit_1 * Exp_1.std() / np.sqrt(100), np.array(Exp_1).mean() + z_crit_1 * Exp_1.std() / np.sqrt(100))"
      ],
      "metadata": {
        "colab": {
          "base_uri": "https://localhost:8080/"
        },
        "id": "IFTJIc2rM_-y",
        "outputId": "ae4cced5-7183-4ffb-f123-415e13f77192"
      },
      "execution_count": 85,
      "outputs": [
        {
          "output_type": "execute_result",
          "data": {
            "text/plain": [
              "(13.57762525982514, 19.315599931665872)"
            ]
          },
          "metadata": {},
          "execution_count": 85
        }
      ]
    },
    {
      "cell_type": "code",
      "source": [
        "# 95\n",
        "(np.array(Exp_1).mean() - z_crit_2 * Exp_1.std() / np.sqrt(100), np.array(Exp_1).mean() + z_crit_2 * Exp_1.std() / np.sqrt(100))"
      ],
      "metadata": {
        "colab": {
          "base_uri": "https://localhost:8080/"
        },
        "id": "B1vdiqcgNoJT",
        "outputId": "661bcaba-eb46-4a64-ac99-45ea4bc47687"
      },
      "execution_count": 86,
      "outputs": [
        {
          "output_type": "execute_result",
          "data": {
            "text/plain": [
              "(13.028003329626697, 19.865221861864317)"
            ]
          },
          "metadata": {},
          "execution_count": 86
        }
      ]
    },
    {
      "cell_type": "code",
      "source": [
        "# 90\n",
        "(np.array(Exp_2).mean() - z_crit_1 * Exp_2.std() / np.sqrt(300), np.array(Exp_2).mean() + z_crit_1 * Exp_2.std() / np.sqrt(300))"
      ],
      "metadata": {
        "colab": {
          "base_uri": "https://localhost:8080/"
        },
        "id": "SaaswjvUNoHJ",
        "outputId": "ba33b6be-c08e-444b-8487-be9492cdd499"
      },
      "execution_count": 87,
      "outputs": [
        {
          "output_type": "execute_result",
          "data": {
            "text/plain": [
              "(17.46030016092593, 20.881215862479213)"
            ]
          },
          "metadata": {},
          "execution_count": 87
        }
      ]
    },
    {
      "cell_type": "code",
      "source": [
        "# 95\n",
        "(np.array(Exp_2).mean() - z_crit_2 * Exp_2.std() / np.sqrt(300), np.array(Exp_2).mean() + z_crit_2 * Exp_2.std() / np.sqrt(300))"
      ],
      "metadata": {
        "colab": {
          "base_uri": "https://localhost:8080/"
        },
        "id": "kOxyPjRDNoCZ",
        "outputId": "005a500d-00ec-4005-c2c5-86f09122fdf3"
      },
      "execution_count": 88,
      "outputs": [
        {
          "output_type": "execute_result",
          "data": {
            "text/plain": [
              "(17.13262177291194, 21.208894250493202)"
            ]
          },
          "metadata": {},
          "execution_count": 88
        }
      ]
    },
    {
      "cell_type": "code",
      "source": [
        "# 90\n",
        "(np.array(Exp_3).mean() - z_crit_1 * Exp_3.std() / np.sqrt(1000), np.array(Exp_3).mean() + z_crit_1 * Exp_3.std() / np.sqrt(1000))"
      ],
      "metadata": {
        "colab": {
          "base_uri": "https://localhost:8080/"
        },
        "id": "rnpwRjoRNn_Q",
        "outputId": "6951a9c4-4767-4ed6-a3a4-41be16bacb2e"
      },
      "execution_count": 89,
      "outputs": [
        {
          "output_type": "execute_result",
          "data": {
            "text/plain": [
              "(18.212578936532097, 20.205330898322117)"
            ]
          },
          "metadata": {},
          "execution_count": 89
        }
      ]
    },
    {
      "cell_type": "code",
      "source": [
        "# 95\n",
        "(np.array(Exp_3).mean() - z_crit_2 * Exp_3.std() / np.sqrt(1000), np.array(Exp_3).mean() + z_crit_2 * Exp_3.std() / np.sqrt(1000))"
      ],
      "metadata": {
        "colab": {
          "base_uri": "https://localhost:8080/"
        },
        "id": "nWK_QrMmNn8T",
        "outputId": "115781ab-516a-4a31-cc13-a0fcb2216d6b"
      },
      "execution_count": 90,
      "outputs": [
        {
          "output_type": "execute_result",
          "data": {
            "text/plain": [
              "(18.021699707834767, 20.396210127019447)"
            ]
          },
          "metadata": {},
          "execution_count": 90
        }
      ]
    },
    {
      "cell_type": "markdown",
      "source": [
        "#### Подпункт 3... ####"
      ],
      "metadata": {
        "id": "rGKp1Z0GV9FT"
      }
    },
    {
      "cell_type": "code",
      "source": [
        "# Предварительное приготовление\n",
        "\n",
        "Chi_crit_1 = sts.chi2.ppf(0.9, df=100)\n",
        "Chi_crit_12 = sts.chi2.ppf(0.95, df=100)\n",
        "\n",
        "Chi_crit_2 = sts.chi2.ppf(0.9, df=300)\n",
        "Chi_crit_22 = sts.chi2.ppf(0.95, df=300)\n",
        "\n",
        "Chi_crit_3 = sts.chi2.ppf(0.9, df=1000)\n",
        "Chi_crit_32 = sts.chi2.ppf(0.95, df=1000)\n",
        "\n",
        "# Для нормального\n",
        "N1 = ((np.array(N_1) - a_1)**2).sum()\n",
        "N2 = ((np.array(N_2) - a_1)**2).sum()\n",
        "N3 = ((np.array(N_3) - a_1)**2).sum()"
      ],
      "metadata": {
        "id": "YoqY3UxGV74X"
      },
      "execution_count": 91,
      "outputs": []
    },
    {
      "cell_type": "code",
      "source": [
        "# 90\n",
        "\n",
        "'D:', (N1 / Chi_crit_1, N1 / sts.chi2.ppf(0.1, df=100)), 'STD:', (np.sqrt(N1 / Chi_crit_1), np.sqrt(N1 / sts.chi2.ppf(0.1, df=100)))"
      ],
      "metadata": {
        "colab": {
          "base_uri": "https://localhost:8080/"
        },
        "id": "frMSVWyoWucx",
        "outputId": "c3546d50-29d1-4ab1-975c-08f90cc0f2fc"
      },
      "execution_count": 92,
      "outputs": [
        {
          "output_type": "execute_result",
          "data": {
            "text/plain": [
              "('D:',\n",
              " (9.882083417530957, 14.218475769531894),\n",
              " 'STD:',\n",
              " (3.1435781233382696, 3.7707394194682684))"
            ]
          },
          "metadata": {},
          "execution_count": 92
        }
      ]
    },
    {
      "cell_type": "code",
      "source": [
        "# 95\n",
        "\n",
        "'D:', (N1 / Chi_crit_12, N1 / sts.chi2.ppf(0.05, df=100)), 'STD:', (np.sqrt(N1 / Chi_crit_12), np.sqrt(N1 / sts.chi2.ppf(0.05, df=100)))"
      ],
      "metadata": {
        "colab": {
          "base_uri": "https://localhost:8080/"
        },
        "id": "APn9v817Wtr3",
        "outputId": "fb214a00-fddf-4339-c7b2-d5720d9727ed"
      },
      "execution_count": 93,
      "outputs": [
        {
          "output_type": "execute_result",
          "data": {
            "text/plain": [
              "('D:',\n",
              " (9.417623091760223, 15.02650064378326),\n",
              " 'STD:',\n",
              " (3.068814606938683, 3.8764030548671355))"
            ]
          },
          "metadata": {},
          "execution_count": 93
        }
      ]
    },
    {
      "cell_type": "code",
      "source": [
        "# 90\n",
        "\n",
        "'D:', (N2 / Chi_crit_2, N2 / sts.chi2.ppf(0.1, df=300)), 'STD:', (np.sqrt(N2 / Chi_crit_2), np.sqrt(N2 / sts.chi2.ppf(0.1, df=300)))"
      ],
      "metadata": {
        "colab": {
          "base_uri": "https://localhost:8080/"
        },
        "id": "AgnFeDgUWtpT",
        "outputId": "3477d0ce-cd18-45bc-fb71-7211576a17f5"
      },
      "execution_count": 94,
      "outputs": [
        {
          "output_type": "execute_result",
          "data": {
            "text/plain": [
              "('D:',\n",
              " (12.489062104538943, 15.400306139875353),\n",
              " 'STD:',\n",
              " (3.533986715388011, 3.9243223797077826))"
            ]
          },
          "metadata": {},
          "execution_count": 94
        }
      ]
    },
    {
      "cell_type": "code",
      "source": [
        "# 95\n",
        "\n",
        "'D:', (N2 / Chi_crit_22, N2 / sts.chi2.ppf(0.05, df=300)), 'STD:', (np.sqrt(N2 / Chi_crit_22), np.sqrt(N2 / sts.chi2.ppf(0.05, df=300)))"
      ],
      "metadata": {
        "colab": {
          "base_uri": "https://localhost:8080/"
        },
        "id": "9gSFOHpNWtlQ",
        "outputId": "6a8d9949-6491-4bc5-ea02-b8596341aa5e"
      },
      "execution_count": 95,
      "outputs": [
        {
          "output_type": "execute_result",
          "data": {
            "text/plain": [
              "('D:',\n",
              " (12.137629630422534, 15.883767357657396),\n",
              " 'STD:',\n",
              " (3.483910106535835, 3.985444436654135))"
            ]
          },
          "metadata": {},
          "execution_count": 95
        }
      ]
    },
    {
      "cell_type": "code",
      "source": [
        "# 90\n",
        "\n",
        "'D:', (N3 / Chi_crit_3, N3 / sts.chi2.ppf(0.1, df=1000)), 'STD:', (np.sqrt(N3 / Chi_crit_3), np.sqrt(N3 / sts.chi2.ppf(0.1, df=1000)))"
      ],
      "metadata": {
        "colab": {
          "base_uri": "https://localhost:8080/"
        },
        "id": "YRxSbNE3WteR",
        "outputId": "cf6b3eb2-a43d-4be2-850e-184d98ec36db"
      },
      "execution_count": 96,
      "outputs": [
        {
          "output_type": "execute_result",
          "data": {
            "text/plain": [
              "('D:',\n",
              " (12.612678992372876, 14.14512928866124),\n",
              " 'STD:',\n",
              " (3.551433371523796, 3.7610011019223646))"
            ]
          },
          "metadata": {},
          "execution_count": 96
        }
      ]
    },
    {
      "cell_type": "code",
      "source": [
        "# 95\n",
        "\n",
        "'D:', (N3 / Chi_crit_32, N3 / sts.chi2.ppf(0.05, df=1000)), 'STD:', (np.sqrt(N3 / Chi_crit_32), np.sqrt(N3 / sts.chi2.ppf(0.05, df=1000)))"
      ],
      "metadata": {
        "colab": {
          "base_uri": "https://localhost:8080/"
        },
        "id": "CCvrImaaWtMT",
        "outputId": "488a1aa0-2007-4dbf-aa0e-8a7c1fc6da2c"
      },
      "execution_count": 97,
      "outputs": [
        {
          "output_type": "execute_result",
          "data": {
            "text/plain": [
              "('D:',\n",
              " (12.413684885795734, 14.38207535806774),\n",
              " 'STD:',\n",
              " (3.5233059597196115, 3.792370677830391))"
            ]
          },
          "metadata": {},
          "execution_count": 97
        }
      ]
    },
    {
      "cell_type": "markdown",
      "source": [
        "Для равномерного"
      ],
      "metadata": {
        "id": "wwNicPE5YKSy"
      }
    },
    {
      "cell_type": "code",
      "source": [
        "#Для равномерного\n",
        "\n",
        "N1 = ((np.array(U_1) - ((c_3 + c_2 + c_3)/2))**2).sum()\n",
        "N2 = ((np.array(U_2) - ((c_3 + c_2 + c_3)/2))**2).sum()\n",
        "N3 = ((np.array(U_3) - ((c_3 + c_2 + c_3)/2))**2).sum()"
      ],
      "metadata": {
        "id": "dELYft-LX5dh"
      },
      "execution_count": 98,
      "outputs": []
    },
    {
      "cell_type": "code",
      "source": [
        "# 90\n",
        "\n",
        "'D:', (N1 / Chi_crit_1, N1 / sts.chi2.ppf(0.1, df=100)), 'STD:', (np.sqrt(N1 / Chi_crit_1), np.sqrt(N1 / sts.chi2.ppf(0.1, df=100)))"
      ],
      "metadata": {
        "colab": {
          "base_uri": "https://localhost:8080/"
        },
        "id": "M55j5MK-X5bF",
        "outputId": "6559223b-6f2e-4546-d6d9-445a96f797b9"
      },
      "execution_count": 99,
      "outputs": [
        {
          "output_type": "execute_result",
          "data": {
            "text/plain": [
              "('D:',\n",
              " (11.998467967107162, 17.26355858919093),\n",
              " 'STD:',\n",
              " (3.4638804781786514, 4.15494387316976))"
            ]
          },
          "metadata": {},
          "execution_count": 99
        }
      ]
    },
    {
      "cell_type": "code",
      "source": [
        "# 95\n",
        "\n",
        "'D:', (N1 / Chi_crit_12, N1 / sts.chi2.ppf(0.05, df=100)), 'STD:', (np.sqrt(N1 / Chi_crit_12), np.sqrt(N1 / sts.chi2.ppf(0.05, df=100)))"
      ],
      "metadata": {
        "colab": {
          "base_uri": "https://localhost:8080/"
        },
        "id": "eXa-_-BCX5Yo",
        "outputId": "8ff4d85c-fc1c-4499-d791-92993f2986ac"
      },
      "execution_count": 100,
      "outputs": [
        {
          "output_type": "execute_result",
          "data": {
            "text/plain": [
              "('D:',\n",
              " (11.43453705241097, 18.24463314206625),\n",
              " 'STD:',\n",
              " (3.381499231466861, 4.271373683262358))"
            ]
          },
          "metadata": {},
          "execution_count": 100
        }
      ]
    },
    {
      "cell_type": "code",
      "source": [
        "# 90\n",
        "\n",
        "'D:', (N2 / Chi_crit_2, N2 / sts.chi2.ppf(0.1, df=300)), 'STD:', (np.sqrt(N2 / Chi_crit_2), np.sqrt(N2 / sts.chi2.ppf(0.1, df=300)))"
      ],
      "metadata": {
        "colab": {
          "base_uri": "https://localhost:8080/"
        },
        "id": "P-3XqoeLX5VK",
        "outputId": "95fcde80-50bd-4251-f67a-b363ab580844"
      },
      "execution_count": 101,
      "outputs": [
        {
          "output_type": "execute_result",
          "data": {
            "text/plain": [
              "('D:',\n",
              " (12.437013532056458, 15.336124863197862),\n",
              " 'STD:',\n",
              " (3.5266150246456527, 3.9161364714725995))"
            ]
          },
          "metadata": {},
          "execution_count": 101
        }
      ]
    },
    {
      "cell_type": "code",
      "source": [
        "# 95\n",
        "\n",
        "'D:', (N2 / Chi_crit_22, N2 / sts.chi2.ppf(0.05, df=300)), 'STD:', (np.sqrt(N2 / Chi_crit_22), np.sqrt(N2 / sts.chi2.ppf(0.05, df=300)))"
      ],
      "metadata": {
        "colab": {
          "base_uri": "https://localhost:8080/"
        },
        "id": "4DaAgJ6pX5Re",
        "outputId": "82f87392-fc30-4cdf-93f9-98497dba21b6"
      },
      "execution_count": 102,
      "outputs": [
        {
          "output_type": "execute_result",
          "data": {
            "text/plain": [
              "('D:',\n",
              " (12.087045664205005, 15.817571240631962),\n",
              " 'STD:',\n",
              " (3.4766428726869556, 3.9771310313631814))"
            ]
          },
          "metadata": {},
          "execution_count": 102
        }
      ]
    },
    {
      "cell_type": "code",
      "source": [
        "# 90\n",
        "\n",
        "'D:', (N3 / Chi_crit_3, N3 / sts.chi2.ppf(0.1, df=1000)), 'STD:', (np.sqrt(N3 / Chi_crit_3), np.sqrt(N3 / sts.chi2.ppf(0.1, df=1000)))"
      ],
      "metadata": {
        "colab": {
          "base_uri": "https://localhost:8080/"
        },
        "id": "L-_23obxX5Oq",
        "outputId": "571a4707-d23d-43ad-aa39-8e3371e5b984"
      },
      "execution_count": 103,
      "outputs": [
        {
          "output_type": "execute_result",
          "data": {
            "text/plain": [
              "('D:',\n",
              " (13.195359084716731, 14.79860546490556),\n",
              " 'STD:',\n",
              " (3.6325416838237015, 3.846895561996135))"
            ]
          },
          "metadata": {},
          "execution_count": 103
        }
      ]
    },
    {
      "cell_type": "code",
      "source": [
        "# 95\n",
        "\n",
        "'D:', (N3 / Chi_crit_32, N3 / sts.chi2.ppf(0.05, df=1000)), 'STD:', (np.sqrt(N3 / Chi_crit_32), np.sqrt(N3 / sts.chi2.ppf(0.05, df=1000)))"
      ],
      "metadata": {
        "colab": {
          "base_uri": "https://localhost:8080/"
        },
        "id": "pnkIRt1PX5Lq",
        "outputId": "7e17d1eb-b905-4174-f8de-1b6b0c44823e"
      },
      "execution_count": 104,
      "outputs": [
        {
          "output_type": "execute_result",
          "data": {
            "text/plain": [
              "('D:',\n",
              " (12.987171855531269, 15.046497960339853),\n",
              " 'STD:',\n",
              " (3.60377189282719, 3.8789815622583013))"
            ]
          },
          "metadata": {},
          "execution_count": 104
        }
      ]
    },
    {
      "cell_type": "markdown",
      "source": [
        "Для экпоненциального"
      ],
      "metadata": {
        "id": "DyfxD0U3ZQhR"
      }
    },
    {
      "cell_type": "code",
      "source": [
        "#Для экспоненциального\n",
        "\n",
        "N1 = ((np.array(Exp_1) - b_2)**2).sum()\n",
        "N2 = ((np.array(Exp_2) - b_2)**2).sum()\n",
        "N3 = ((np.array(Exp_3) - b_2)**2).sum()"
      ],
      "metadata": {
        "id": "UqwEL_UyZQNn"
      },
      "execution_count": 105,
      "outputs": []
    },
    {
      "cell_type": "code",
      "source": [
        "# 90\n",
        "\n",
        "'D:', (N1 / Chi_crit_1, N1 / sts.chi2.ppf(0.1, df=100)), 'STD:', (np.sqrt(N1 / Chi_crit_1), np.sqrt(N1 / sts.chi2.ppf(0.1, df=100)))"
      ],
      "metadata": {
        "colab": {
          "base_uri": "https://localhost:8080/"
        },
        "id": "wSPuw1sRZPQ5",
        "outputId": "c7872b6f-228a-4543-caec-3865024cc6b1"
      },
      "execution_count": 106,
      "outputs": [
        {
          "output_type": "execute_result",
          "data": {
            "text/plain": [
              "('D:',\n",
              " (262.24094550074705, 377.3158322835849),\n",
              " 'STD:',\n",
              " (16.193855177219138, 19.424619231366798))"
            ]
          },
          "metadata": {},
          "execution_count": 106
        }
      ]
    },
    {
      "cell_type": "code",
      "source": [
        "# 95\n",
        "\n",
        "'D:', (N1 / Chi_crit_12, N1 / sts.chi2.ppf(0.05, df=100)), 'STD:', (np.sqrt(N1 / Chi_crit_12), np.sqrt(N1 / sts.chi2.ppf(0.05, df=100)))"
      ],
      "metadata": {
        "colab": {
          "base_uri": "https://localhost:8080/"
        },
        "id": "Z___Njy0ZPN2",
        "outputId": "b347825f-6cb1-4b37-c5dd-6ead8e5079a8"
      },
      "execution_count": 107,
      "outputs": [
        {
          "output_type": "execute_result",
          "data": {
            "text/plain": [
              "('D:',\n",
              " (249.91555723680804, 398.758396372438),\n",
              " 'STD:',\n",
              " (15.808717760679013, 19.968935784674105))"
            ]
          },
          "metadata": {},
          "execution_count": 107
        }
      ]
    },
    {
      "cell_type": "code",
      "source": [
        "# 90\n",
        "\n",
        "'D:', (N2 / Chi_crit_2, N2 / sts.chi2.ppf(0.1, df=300)), 'STD:', (np.sqrt(N2 / Chi_crit_2), np.sqrt(N2 / sts.chi2.ppf(0.1, df=300)))"
      ],
      "metadata": {
        "colab": {
          "base_uri": "https://localhost:8080/"
        },
        "id": "mZdqDHwxZPLL",
        "outputId": "ade5e1c0-a65a-4814-bfb5-5e9500f72a77"
      },
      "execution_count": 108,
      "outputs": [
        {
          "output_type": "execute_result",
          "data": {
            "text/plain": [
              "('D:',\n",
              " (293.35292831657165, 361.73452139870614),\n",
              " 'STD:',\n",
              " (17.1275488122665, 19.019319688114667))"
            ]
          },
          "metadata": {},
          "execution_count": 108
        }
      ]
    },
    {
      "cell_type": "code",
      "source": [
        "# 95\n",
        "\n",
        "'D:', (N2 / Chi_crit_22, N2 / sts.chi2.ppf(0.05, df=300)), 'STD:', (np.sqrt(N2 / Chi_crit_22), np.sqrt(N2 / sts.chi2.ppf(0.05, df=300)))"
      ],
      "metadata": {
        "colab": {
          "base_uri": "https://localhost:8080/"
        },
        "id": "LGsXV9YLZPGI",
        "outputId": "f3392615-183b-49e8-caf2-e40ad94c3d12"
      },
      "execution_count": 109,
      "outputs": [
        {
          "output_type": "execute_result",
          "data": {
            "text/plain": [
              "('D:',\n",
              " (285.09820554198325, 373.09043930324714),\n",
              " 'STD:',\n",
              " (16.88485136274475, 19.31554915872824))"
            ]
          },
          "metadata": {},
          "execution_count": 109
        }
      ]
    },
    {
      "cell_type": "code",
      "source": [
        "# 90\n",
        "\n",
        "'D:', (N3 / Chi_crit_3, N3 / sts.chi2.ppf(0.1, df=1000)), 'STD:', (np.sqrt(N3 / Chi_crit_3), np.sqrt(N3 / sts.chi2.ppf(0.1, df=1000)))"
      ],
      "metadata": {
        "colab": {
          "base_uri": "https://localhost:8080/"
        },
        "id": "gqvAUvJNZO-h",
        "outputId": "9d3479bb-0133-4e5a-856c-ddc9d339c5ec"
      },
      "execution_count": 110,
      "outputs": [
        {
          "output_type": "execute_result",
          "data": {
            "text/plain": [
              "('D:',\n",
              " (346.95355479912365, 389.10868125336384),\n",
              " 'STD:',\n",
              " (18.62668931396891, 19.72583791004488))"
            ]
          },
          "metadata": {},
          "execution_count": 110
        }
      ]
    },
    {
      "cell_type": "code",
      "source": [
        "# 95\n",
        "\n",
        "'D:', (N3 / Chi_crit_32, N3 / sts.chi2.ppf(0.05, df=1000)), 'STD:', (np.sqrt(N3 / Chi_crit_32), np.sqrt(N3 / sts.chi2.ppf(0.05, df=1000)))"
      ],
      "metadata": {
        "colab": {
          "base_uri": "https://localhost:8080/"
        },
        "id": "mNYDI-W7ZOyX",
        "outputId": "62d30f48-480e-4d5a-cb89-6d60d93007b1"
      },
      "execution_count": 111,
      "outputs": [
        {
          "output_type": "execute_result",
          "data": {
            "text/plain": [
              "('D:',\n",
              " (341.4795621047273, 395.6266685204606),\n",
              " 'STD:',\n",
              " (18.479165622525475, 19.890366223889913))"
            ]
          },
          "metadata": {},
          "execution_count": 111
        }
      ]
    },
    {
      "cell_type": "markdown",
      "source": [
        "#### Подпункт 4... ####"
      ],
      "metadata": {
        "id": "l9yUGbcUOM8J"
      }
    },
    {
      "cell_type": "code",
      "source": [
        "# Предварительное приготовление\n",
        "\n",
        "Chi_crit_1 = sts.chi2.ppf(0.9, df=100)\n",
        "Chi_crit_12 = sts.chi2.ppf(0.95, df=100)\n",
        "\n",
        "Chi_crit_2 = sts.chi2.ppf(0.9, df=300)\n",
        "Chi_crit_22 = sts.chi2.ppf(0.95, df=300)\n",
        "\n",
        "Chi_crit_3 = sts.chi2.ppf(0.9, df=1000)\n",
        "Chi_crit_32 = sts.chi2.ppf(0.95, df=1000)\n",
        "\n",
        "# Для нормального\n",
        "N1 = ((np.array(N_1) - np.array(N_1).mean())**2).sum()\n",
        "N2 = ((np.array(N_2) - np.array(N_2).mean())**2).sum()\n",
        "N3 = ((np.array(N_3) - np.array(N_3).mean())**2).sum()"
      ],
      "metadata": {
        "id": "hzjlmE3-OL30"
      },
      "execution_count": 112,
      "outputs": []
    },
    {
      "cell_type": "code",
      "source": [
        "# 90\n",
        "\n",
        "'D:', (N1 / Chi_crit_1, N1 / sts.chi2.ppf(0.1, df=100)), 'STD:', (np.sqrt(N1 / Chi_crit_1), np.sqrt(N1 / sts.chi2.ppf(0.1, df=100)))"
      ],
      "metadata": {
        "colab": {
          "base_uri": "https://localhost:8080/"
        },
        "id": "EjtPVIJ-OL0k",
        "outputId": "b69a7805-bb9f-47bd-ca12-7fc577f64412"
      },
      "execution_count": 113,
      "outputs": [
        {
          "output_type": "execute_result",
          "data": {
            "text/plain": [
              "('D:',\n",
              " (9.677014216227143, 13.923419418900112),\n",
              " 'STD:',\n",
              " (3.1107899665884133, 3.731409843330013))"
            ]
          },
          "metadata": {},
          "execution_count": 113
        }
      ]
    },
    {
      "cell_type": "code",
      "source": [
        "# 95\n",
        "\n",
        "'D:', (N1 / Chi_crit_12, N1 / sts.chi2.ppf(0.05, df=100)), 'STD:', (np.sqrt(N1 / Chi_crit_12), np.sqrt(N1 / sts.chi2.ppf(0.05, df=100)))"
      ],
      "metadata": {
        "colab": {
          "base_uri": "https://localhost:8080/"
        },
        "id": "Ln-oSUl1OLxr",
        "outputId": "9d3e2d26-680c-44ef-bdec-3f27b67251b8"
      },
      "execution_count": 114,
      "outputs": [
        {
          "output_type": "execute_result",
          "data": {
            "text/plain": [
              "('D:',\n",
              " (9.222192192828372, 14.71467647116544),\n",
              " 'STD:',\n",
              " (3.036806248812784, 3.8359713856030573))"
            ]
          },
          "metadata": {},
          "execution_count": 114
        }
      ]
    },
    {
      "cell_type": "code",
      "source": [
        "# 90\n",
        "\n",
        "'D:', (N2 / Chi_crit_2, N2 / sts.chi2.ppf(0.1, df=300)), 'STD:', (np.sqrt(N2 / Chi_crit_2), np.sqrt(N2 / sts.chi2.ppf(0.1, df=300)))"
      ],
      "metadata": {
        "colab": {
          "base_uri": "https://localhost:8080/"
        },
        "id": "UZmW7K9HNn5f",
        "outputId": "fd02dc98-7c18-4497-a412-4f912fd0e1d9"
      },
      "execution_count": 115,
      "outputs": [
        {
          "output_type": "execute_result",
          "data": {
            "text/plain": [
              "('D:',\n",
              " (12.488682326130133, 15.399837833791834),\n",
              " 'STD:',\n",
              " (3.533932982688004, 3.924262712127188))"
            ]
          },
          "metadata": {},
          "execution_count": 115
        }
      ]
    },
    {
      "cell_type": "code",
      "source": [
        "# 95\n",
        "\n",
        "'D:', (N2 / Chi_crit_22, N2 / sts.chi2.ppf(0.05, df=300)), 'STD:', (np.sqrt(N2 / Chi_crit_22), np.sqrt(N2 / sts.chi2.ppf(0.05, df=300)))"
      ],
      "metadata": {
        "colab": {
          "base_uri": "https://localhost:8080/"
        },
        "id": "Ut4mMw7dUToH",
        "outputId": "dff0ecd4-cd79-4d13-d2fe-4549fd19f30a"
      },
      "execution_count": 116,
      "outputs": [
        {
          "output_type": "execute_result",
          "data": {
            "text/plain": [
              "('D:',\n",
              " (12.137260538682161, 15.883284350059025),\n",
              " 'STD:',\n",
              " (3.483857135228447, 3.985383839739784))"
            ]
          },
          "metadata": {},
          "execution_count": 116
        }
      ]
    },
    {
      "cell_type": "code",
      "source": [
        "# 90\n",
        "\n",
        "'D:', (N3 / Chi_crit_3, N3 / sts.chi2.ppf(0.1, df=1000)), 'STD:', (np.sqrt(N3 / Chi_crit_3), np.sqrt(N3 / sts.chi2.ppf(0.1, df=1000)))"
      ],
      "metadata": {
        "colab": {
          "base_uri": "https://localhost:8080/"
        },
        "id": "s5m1zoySUTlH",
        "outputId": "051b01eb-2692-4f5e-a275-b6fe60ab4fe8"
      },
      "execution_count": 117,
      "outputs": [
        {
          "output_type": "execute_result",
          "data": {
            "text/plain": [
              "('D:',\n",
              " (12.601389034278242, 14.132467591887005),\n",
              " 'STD:',\n",
              " (3.549843522506061, 3.759317436967382))"
            ]
          },
          "metadata": {},
          "execution_count": 117
        }
      ]
    },
    {
      "cell_type": "code",
      "source": [
        "# 95\n",
        "\n",
        "'D:', (N3 / Chi_crit_32, N3 / sts.chi2.ppf(0.05, df=1000)), 'STD:', (np.sqrt(N3 / Chi_crit_32), np.sqrt(N3 / sts.chi2.ppf(0.05, df=1000)))"
      ],
      "metadata": {
        "colab": {
          "base_uri": "https://localhost:8080/"
        },
        "id": "9INAGNUiUTiG",
        "outputId": "76f85e05-9171-42b1-f629-81344f6eb849"
      },
      "execution_count": 118,
      "outputs": [
        {
          "output_type": "execute_result",
          "data": {
            "text/plain": [
              "('D:',\n",
              " (12.402573052834205, 14.369201564307932),\n",
              " 'STD:',\n",
              " (3.521728702332734, 3.790672969844264))"
            ]
          },
          "metadata": {},
          "execution_count": 118
        }
      ]
    },
    {
      "cell_type": "markdown",
      "source": [
        "Для равномерного"
      ],
      "metadata": {
        "id": "8uB6TWtjWFT5"
      }
    },
    {
      "cell_type": "code",
      "source": [
        "#Для равномерного\n",
        "\n",
        "N1 = ((np.array(U_1) - np.array(U_1).mean())**2).sum()\n",
        "N2 = ((np.array(U_2) - np.array(U_2).mean())**2).sum()\n",
        "N3 = ((np.array(U_3) - np.array(U_3).mean())**2).sum()"
      ],
      "metadata": {
        "id": "aZZh238xU75o"
      },
      "execution_count": 119,
      "outputs": []
    },
    {
      "cell_type": "code",
      "source": [
        "# 90\n",
        "\n",
        "'D:', (N1 / Chi_crit_1, N1 / sts.chi2.ppf(0.1, df=100)), 'STD:', (np.sqrt(N1 / Chi_crit_1), np.sqrt(N1 / sts.chi2.ppf(0.1, df=100)))"
      ],
      "metadata": {
        "colab": {
          "base_uri": "https://localhost:8080/"
        },
        "id": "vzrSgMF3U72W",
        "outputId": "11c947d5-265c-4957-fd47-19b6cfcd0f91"
      },
      "execution_count": 120,
      "outputs": [
        {
          "output_type": "execute_result",
          "data": {
            "text/plain": [
              "('D:',\n",
              " (11.965637752330547, 17.21632203050314),\n",
              " 'STD:',\n",
              " (3.4591382962134585, 4.149255599562786))"
            ]
          },
          "metadata": {},
          "execution_count": 120
        }
      ]
    },
    {
      "cell_type": "code",
      "source": [
        "# 95\n",
        "\n",
        "'D:', (N1 / Chi_crit_12, N1 / sts.chi2.ppf(0.05, df=100)), 'STD:', (np.sqrt(N1 / Chi_crit_12), np.sqrt(N1 / sts.chi2.ppf(0.05, df=100)))"
      ],
      "metadata": {
        "colab": {
          "base_uri": "https://localhost:8080/"
        },
        "id": "2tBxSB5LVgnZ",
        "outputId": "c7ca71fd-5c16-4d43-a4cd-8eebbc0832ad"
      },
      "execution_count": 121,
      "outputs": [
        {
          "output_type": "execute_result",
          "data": {
            "text/plain": [
              "('D:',\n",
              " (11.403249865719225, 18.194712166637004),\n",
              " 'STD:',\n",
              " (3.3768698325104602, 4.265526012889501))"
            ]
          },
          "metadata": {},
          "execution_count": 121
        }
      ]
    },
    {
      "cell_type": "code",
      "source": [
        "# 90\n",
        "\n",
        "'D:', (N2 / Chi_crit_2, N2 / sts.chi2.ppf(0.1, df=300)), 'STD:', (np.sqrt(N2 / Chi_crit_2), np.sqrt(N2 / sts.chi2.ppf(0.1, df=300)))"
      ],
      "metadata": {
        "colab": {
          "base_uri": "https://localhost:8080/"
        },
        "id": "0SVtbDC-VgkQ",
        "outputId": "f9a50e8d-9c51-4c2d-aa78-cff40a7b9be4"
      },
      "execution_count": 122,
      "outputs": [
        {
          "output_type": "execute_result",
          "data": {
            "text/plain": [
              "('D:',\n",
              " (12.414340399305125, 15.308166543942356),\n",
              " 'STD:',\n",
              " (3.523398983837216, 3.9125652127398918))"
            ]
          },
          "metadata": {},
          "execution_count": 122
        }
      ]
    },
    {
      "cell_type": "code",
      "source": [
        "# 95\n",
        "\n",
        "'D:', (N2 / Chi_crit_22, N2 / sts.chi2.ppf(0.05, df=300)), 'STD:', (np.sqrt(N2 / Chi_crit_22), np.sqrt(N2 / sts.chi2.ppf(0.05, df=300)))"
      ],
      "metadata": {
        "colab": {
          "base_uri": "https://localhost:8080/"
        },
        "id": "qcFet-YCVgiG",
        "outputId": "2cf42395-2186-4cfa-c708-789b9ea465e5"
      },
      "execution_count": 123,
      "outputs": [
        {
          "output_type": "execute_result",
          "data": {
            "text/plain": [
              "('D:',\n",
              " (12.06501053573871, 15.78873522693638),\n",
              " 'STD:',\n",
              " (3.473472403192331, 3.9735041496060353))"
            ]
          },
          "metadata": {},
          "execution_count": 123
        }
      ]
    },
    {
      "cell_type": "code",
      "source": [
        "# 90\n",
        "\n",
        "'D:', (N3 / Chi_crit_3, N3 / sts.chi2.ppf(0.1, df=1000)), 'STD:', (np.sqrt(N3 / Chi_crit_3), np.sqrt(N3 / sts.chi2.ppf(0.1, df=1000)))"
      ],
      "metadata": {
        "colab": {
          "base_uri": "https://localhost:8080/"
        },
        "id": "Ff1gD7KUVggA",
        "outputId": "84ddf34f-1ff4-4708-f30d-899eb6dc08fc"
      },
      "execution_count": 124,
      "outputs": [
        {
          "output_type": "execute_result",
          "data": {
            "text/plain": [
              "('D:',\n",
              " (13.185895664400086, 14.787992231668367),\n",
              " 'STD:',\n",
              " (3.6312388608297423, 3.8455158602804342))"
            ]
          },
          "metadata": {},
          "execution_count": 124
        }
      ]
    },
    {
      "cell_type": "code",
      "source": [
        "# 95\n",
        "\n",
        "'D:', (N3 / Chi_crit_32, N3 / sts.chi2.ppf(0.05, df=1000)), 'STD:', (np.sqrt(N3 / Chi_crit_32), np.sqrt(N3 / sts.chi2.ppf(0.05, df=1000)))"
      ],
      "metadata": {
        "colab": {
          "base_uri": "https://localhost:8080/"
        },
        "id": "g1Y3ZIOeVgbz",
        "outputId": "82e1bc23-e3ef-44a5-d833-ca78c7255775"
      },
      "execution_count": 125,
      "outputs": [
        {
          "output_type": "execute_result",
          "data": {
            "text/plain": [
              "('D:',\n",
              " (12.977857742500746, 15.035706944075871),\n",
              " 'STD:',\n",
              " (3.6024793882131716, 3.877590352793326))"
            ]
          },
          "metadata": {},
          "execution_count": 125
        }
      ]
    },
    {
      "cell_type": "markdown",
      "source": [
        "Для экспоненциального"
      ],
      "metadata": {
        "id": "lkCew0dfWCKp"
      }
    },
    {
      "cell_type": "code",
      "source": [
        "#Для экспоненциального\n",
        "\n",
        "N1 = ((np.array(Exp_1) - np.array(Exp_1).mean())**2).sum()\n",
        "N2 = ((np.array(Exp_2) - np.array(Exp_2).mean())**2).sum()\n",
        "N3 = ((np.array(Exp_3) - np.array(Exp_3).mean())**2).sum()"
      ],
      "metadata": {
        "id": "ZfmqsGPKVgX6"
      },
      "execution_count": 126,
      "outputs": []
    },
    {
      "cell_type": "code",
      "source": [
        "# 90\n",
        "\n",
        "'D:', (N1 / Chi_crit_1, N1 / sts.chi2.ppf(0.1, df=100)), 'STD:', (np.sqrt(N1 / Chi_crit_1), np.sqrt(N1 / sts.chi2.ppf(0.1, df=100)))"
      ],
      "metadata": {
        "colab": {
          "base_uri": "https://localhost:8080/"
        },
        "id": "kkxqlxh1WVxy",
        "outputId": "1ed45b3c-c02b-4794-8cd5-e6f3c3280871"
      },
      "execution_count": 127,
      "outputs": [
        {
          "output_type": "execute_result",
          "data": {
            "text/plain": [
              "('D:',\n",
              " (256.73892265941635, 369.39944713001603),\n",
              " 'STD:',\n",
              " (16.02307469430934, 19.21976709354242))"
            ]
          },
          "metadata": {},
          "execution_count": 127
        }
      ]
    },
    {
      "cell_type": "code",
      "source": [
        "# 95\n",
        "\n",
        "'D:', (N1 / Chi_crit_12, N1 / sts.chi2.ppf(0.05, df=100)), 'STD:', (np.sqrt(N1 / Chi_crit_12), np.sqrt(N1 / sts.chi2.ppf(0.05, df=100)))"
      ],
      "metadata": {
        "colab": {
          "base_uri": "https://localhost:8080/"
        },
        "id": "xMRwaVk5WT4M",
        "outputId": "49948132-ed25-4bb8-8b5e-83e6f9fa4dbc"
      },
      "execution_count": 128,
      "outputs": [
        {
          "output_type": "execute_result",
          "data": {
            "text/plain": [
              "('D:',\n",
              " (244.67213080812746, 390.3921292327884),\n",
              " 'STD:',\n",
              " (15.641998939014394, 19.758343281580782))"
            ]
          },
          "metadata": {},
          "execution_count": 128
        }
      ]
    },
    {
      "cell_type": "code",
      "source": [
        "# 90\n",
        "\n",
        "'D:', (N2 / Chi_crit_2, N2 / sts.chi2.ppf(0.1, df=300)), 'STD:', (np.sqrt(N2 / Chi_crit_2), np.sqrt(N2 / sts.chi2.ppf(0.1, df=300)))"
      ],
      "metadata": {
        "colab": {
          "base_uri": "https://localhost:8080/"
        },
        "id": "oyvldMF4WT0z",
        "outputId": "8423edd2-8b4a-41dc-f01e-b8ee2a0953ec"
      },
      "execution_count": 129,
      "outputs": [
        {
          "output_type": "execute_result",
          "data": {
            "text/plain": [
              "('D:',\n",
              " (293.3265636624376, 361.7020110515289),\n",
              " 'STD:',\n",
              " (17.12677913860156, 19.018465002505565))"
            ]
          },
          "metadata": {},
          "execution_count": 129
        }
      ]
    },
    {
      "cell_type": "code",
      "source": [
        "# 95\n",
        "\n",
        "'D:', (N2 / Chi_crit_22, N2 / sts.chi2.ppf(0.05, df=300)), 'STD:', (np.sqrt(N2 / Chi_crit_22), np.sqrt(N2 / sts.chi2.ppf(0.05, df=300)))"
      ],
      "metadata": {
        "colab": {
          "base_uri": "https://localhost:8080/"
        },
        "id": "OGjyeNlkWTyL",
        "outputId": "71732501-abc4-4d4f-c3f9-b471e4a38be3"
      },
      "execution_count": 130,
      "outputs": [
        {
          "output_type": "execute_result",
          "data": {
            "text/plain": [
              "('D:',\n",
              " (285.0725827686689, 373.0569083599925),\n",
              " 'STD:',\n",
              " (16.884092595359363, 19.314681161230503))"
            ]
          },
          "metadata": {},
          "execution_count": 130
        }
      ]
    },
    {
      "cell_type": "code",
      "source": [
        "# 90\n",
        "\n",
        "'D:', (N3 / Chi_crit_3, N3 / sts.chi2.ppf(0.1, df=1000)), 'STD:', (np.sqrt(N3 / Chi_crit_3), np.sqrt(N3 / sts.chi2.ppf(0.1, df=1000)))"
      ],
      "metadata": {
        "colab": {
          "base_uri": "https://localhost:8080/"
        },
        "id": "8DCzduQZVgUh",
        "outputId": "ec0f1d2e-7cf8-4e82-9f82-36c3c5ec341c"
      },
      "execution_count": 131,
      "outputs": [
        {
          "output_type": "execute_result",
          "data": {
            "text/plain": [
              "('D:',\n",
              " (346.9122754468656, 389.0623864277367),\n",
              " 'STD:',\n",
              " (18.62558121098146, 19.72466441863427))"
            ]
          },
          "metadata": {},
          "execution_count": 131
        }
      ]
    },
    {
      "cell_type": "code",
      "source": [
        "# 95\n",
        "\n",
        "'D:', (N3 / Chi_crit_32, N3 / sts.chi2.ppf(0.05, df=1000)), 'STD:', (np.sqrt(N3 / Chi_crit_32), np.sqrt(N3 / sts.chi2.ppf(0.05, df=1000)))"
      ],
      "metadata": {
        "colab": {
          "base_uri": "https://localhost:8080/"
        },
        "id": "c0_zBUoAU70l",
        "outputId": "da2a096f-1d5e-4ba7-c0b6-e3d2b83b0a76"
      },
      "execution_count": 132,
      "outputs": [
        {
          "output_type": "execute_result",
          "data": {
            "text/plain": [
              "('D:',\n",
              " (341.43893402947606, 395.57959820690814),\n",
              " 'STD:',\n",
              " (18.478066295732248, 19.889182944678954))"
            ]
          },
          "metadata": {},
          "execution_count": 132
        }
      ]
    },
    {
      "cell_type": "markdown",
      "source": [
        " __ВЫВОДЫ__ <br>\n",
        "\n",
        " Тут стоит сказать, что сразу наметилась некоторая тенденция на увеличение точности / сужение границ наших \"чудесных\" интервалов с увеличением числа наблюдений. Поскольку мы генерировали выборки с заранее заданными параметрами, с ростом числа наблюдений они начинали сходиться к своим теоретическим аналогам, что и повысило точность наших интервалов"
      ],
      "metadata": {
        "id": "7es2zPM2acHA"
      }
    },
    {
      "cell_type": "markdown",
      "source": [
        "### Пункт 3... ###"
      ],
      "metadata": {
        "id": "36DjF_CGaU55"
      }
    },
    {
      "cell_type": "code",
      "source": [
        "# Сделаем заготовку\n",
        "\n",
        "var_N = a_3\n",
        "var_U = (c_2**2)/12\n",
        "var_E = b_2**2\n",
        "\n",
        "m_N_1 = N_1.mean()\n",
        "m_N_2 = N_2.mean()\n",
        "m_N_3 = N_2.mean()\n",
        "m_U_1 = U_1.mean()\n",
        "m_U_2 = U_2.mean()\n",
        "m_U_3 = U_3.mean()\n",
        "m_E_1 = Exp_1.mean()\n",
        "m_E_2 = Exp_2.mean()\n",
        "m_E_3 = Exp_3.mean()\n",
        "\n",
        "\n",
        "z_crit = sts.norm.ppf(1 - alpha_1/2)"
      ],
      "metadata": {
        "id": "rPnLmWFxaeNI"
      },
      "execution_count": 133,
      "outputs": []
    },
    {
      "cell_type": "markdown",
      "source": [
        "#### Подпункт 1... ####"
      ],
      "metadata": {
        "id": "SZXZzyzxjR2p"
      }
    },
    {
      "cell_type": "markdown",
      "source": [
        "##### 90% интервалы #####"
      ],
      "metadata": {
        "id": "YOjdY66cgHiQ"
      }
    },
    {
      "cell_type": "code",
      "source": [
        "# N U 100\n",
        "\n",
        "(m_N_1 - m_U_1 - z_crit*np.sqrt((var_N + var_U)/100), m_N_1 - m_U_1 + z_crit*np.sqrt((var_N + var_U)/100))"
      ],
      "metadata": {
        "colab": {
          "base_uri": "https://localhost:8080/"
        },
        "id": "nnfpaqFcgHFX",
        "outputId": "3e33bc0f-b773-456a-8fec-fe15d70beeb2"
      },
      "execution_count": 134,
      "outputs": [
        {
          "output_type": "execute_result",
          "data": {
            "text/plain": [
              "(5.33261659293224, 7.075954525396046)"
            ]
          },
          "metadata": {},
          "execution_count": 134
        }
      ]
    },
    {
      "cell_type": "code",
      "source": [
        "# N U 300\n",
        "\n",
        "(m_N_2 - m_U_2 - z_crit*np.sqrt((var_N + var_U)/300), m_N_2 - m_U_2 + z_crit*np.sqrt((var_N + var_U)/300))"
      ],
      "metadata": {
        "colab": {
          "base_uri": "https://localhost:8080/"
        },
        "id": "JB823RRchrPa",
        "outputId": "61373830-c1cb-405c-effa-e9f6570183c9"
      },
      "execution_count": 135,
      "outputs": [
        {
          "output_type": "execute_result",
          "data": {
            "text/plain": [
              "(6.134600113758424, 7.141116738354889)"
            ]
          },
          "metadata": {},
          "execution_count": 135
        }
      ]
    },
    {
      "cell_type": "code",
      "source": [
        "# N U 1000\n",
        "\n",
        "(m_N_3 - m_U_3 - z_crit*np.sqrt((var_N + var_U)/1000), m_N_3 - m_U_3 + z_crit*np.sqrt((var_N + var_U)/1000))"
      ],
      "metadata": {
        "colab": {
          "base_uri": "https://localhost:8080/"
        },
        "id": "XFm0mnpngG2g",
        "outputId": "d4773de1-d871-46b1-be4f-df867ad10945"
      },
      "execution_count": 136,
      "outputs": [
        {
          "output_type": "execute_result",
          "data": {
            "text/plain": [
              "(6.30390808875327, 6.855199948548713)"
            ]
          },
          "metadata": {},
          "execution_count": 136
        }
      ]
    },
    {
      "cell_type": "code",
      "source": [
        "# N E 100\n",
        "\n",
        "(m_N_1 - m_E_1 - z_crit*np.sqrt((var_N + var_E)/100), m_N_1 - m_E_1 + z_crit*np.sqrt((var_N + var_E)/100))"
      ],
      "metadata": {
        "colab": {
          "base_uri": "https://localhost:8080/"
        },
        "id": "i5Y5LKUzh6V_",
        "outputId": "981b1d95-a8f9-43cc-b527-9224b98cfe11"
      },
      "execution_count": 137,
      "outputs": [
        {
          "output_type": "execute_result",
          "data": {
            "text/plain": [
              "(-1.1248112011492504, 5.245679502982669)"
            ]
          },
          "metadata": {},
          "execution_count": 137
        }
      ]
    },
    {
      "cell_type": "code",
      "source": [
        "# N E 300\n",
        "\n",
        "(m_N_2 - m_E_2 - z_crit*np.sqrt((var_N + var_E)/300), m_N_2 - m_E_2 + z_crit*np.sqrt((var_N + var_E)/300))"
      ],
      "metadata": {
        "colab": {
          "base_uri": "https://localhost:8080/"
        },
        "id": "V14jy9nigGDR",
        "outputId": "09354cd0-dc02-4f67-dad1-d88819d8b890"
      },
      "execution_count": 138,
      "outputs": [
        {
          "output_type": "execute_result",
          "data": {
            "text/plain": [
              "(-2.0302546720692334, 1.6477498508313388)"
            ]
          },
          "metadata": {},
          "execution_count": 138
        }
      ]
    },
    {
      "cell_type": "code",
      "source": [
        "# N E 1000\n",
        "\n",
        "(m_N_3 - m_E_3 - z_crit*np.sqrt((var_N + var_E)/1000), m_N_3 - m_E_3 + z_crit*np.sqrt((var_N + var_E)/1000))"
      ],
      "metadata": {
        "colab": {
          "base_uri": "https://localhost:8080/"
        },
        "id": "-LHIlgoygGAK",
        "outputId": "6d71922f-98ed-45eb-a3f6-fab9d62fe98a"
      },
      "execution_count": 139,
      "outputs": [
        {
          "output_type": "execute_result",
          "data": {
            "text/plain": [
              "(-1.2367123382428185, 0.7778137055558512)"
            ]
          },
          "metadata": {},
          "execution_count": 139
        }
      ]
    },
    {
      "cell_type": "code",
      "source": [
        "# U E 100\n",
        "\n",
        "(m_U_1 - m_E_1 - z_crit*np.sqrt((var_U + var_E)/100), m_U_1 - m_E_1 + z_crit*np.sqrt((var_U + var_E)/100))"
      ],
      "metadata": {
        "colab": {
          "base_uri": "https://localhost:8080/"
        },
        "id": "_QYarU6diMeW",
        "outputId": "e568577a-aea7-4276-c5d2-3b610822f0b8"
      },
      "execution_count": 140,
      "outputs": [
        {
          "output_type": "execute_result",
          "data": {
            "text/plain": [
              "(-7.3294506568037985, -0.9582521596910687)"
            ]
          },
          "metadata": {},
          "execution_count": 140
        }
      ]
    },
    {
      "cell_type": "code",
      "source": [
        "# U E 300\n",
        "\n",
        "(m_U_2 - m_E_2 - z_crit*np.sqrt((var_U + var_E)/300), m_U_2 - m_E_2 + z_crit*np.sqrt((var_U + var_E)/300))"
      ],
      "metadata": {
        "colab": {
          "base_uri": "https://localhost:8080/"
        },
        "id": "_2VJqsL-iMbD",
        "outputId": "b2c3d538-57c6-4aea-a580-139fcb41dab9"
      },
      "execution_count": 141,
      "outputs": [
        {
          "output_type": "execute_result",
          "data": {
            "text/plain": [
              "(-8.668317420359891, -4.989904252991316)"
            ]
          },
          "metadata": {},
          "execution_count": 141
        }
      ]
    },
    {
      "cell_type": "code",
      "source": [
        "# U E 1000\n",
        "\n",
        "(m_U_3 - m_E_3 - z_crit*np.sqrt((var_U + var_E)/1000), m_U_3 - m_E_3 + z_crit*np.sqrt((var_U + var_E)/1000))"
      ],
      "metadata": {
        "colab": {
          "base_uri": "https://localhost:8080/"
        },
        "id": "kDq99r9OiMYo",
        "outputId": "3146fa29-ab38-4f70-d5e3-c56c206cbc11"
      },
      "execution_count": 142,
      "outputs": [
        {
          "output_type": "execute_result",
          "data": {
            "text/plain": [
              "(-7.8163782687903725, -5.801628401198578)"
            ]
          },
          "metadata": {},
          "execution_count": 142
        }
      ]
    },
    {
      "cell_type": "markdown",
      "source": [
        "##### Теперь повторим процедуру для 95% доверия #####"
      ],
      "metadata": {
        "id": "tGTcJ3xGimLs"
      }
    },
    {
      "cell_type": "code",
      "source": [
        "z_crit = sts.norm.ppf(1 - alpha_2/2)"
      ],
      "metadata": {
        "id": "QKmeGOttiwI3"
      },
      "execution_count": 143,
      "outputs": []
    },
    {
      "cell_type": "code",
      "source": [
        "# N U 100\n",
        "\n",
        "(m_N_1 - m_U_1 - z_crit*np.sqrt((var_N + var_U)/100), m_N_1 - m_U_1 + z_crit*np.sqrt((var_N + var_U)/100))"
      ],
      "metadata": {
        "colab": {
          "base_uri": "https://localhost:8080/"
        },
        "id": "61g8eKsQirhi",
        "outputId": "b24f706f-b67f-4d4e-ee73-64cd2b01d8e7"
      },
      "execution_count": 144,
      "outputs": [
        {
          "output_type": "execute_result",
          "data": {
            "text/plain": [
              "(5.1656279228477935, 7.242943195480493)"
            ]
          },
          "metadata": {},
          "execution_count": 144
        }
      ]
    },
    {
      "cell_type": "code",
      "source": [
        "# N U 300\n",
        "\n",
        "(m_N_2 - m_U_2 - z_crit*np.sqrt((var_N + var_U)/300), m_N_2 - m_U_2 + z_crit*np.sqrt((var_N + var_U)/300))"
      ],
      "metadata": {
        "colab": {
          "base_uri": "https://localhost:8080/"
        },
        "id": "xYUU0NMoirbK",
        "outputId": "7f1b1f11-a8fa-4322-e98e-5b627a22dc43"
      },
      "execution_count": 145,
      "outputs": [
        {
          "output_type": "execute_result",
          "data": {
            "text/plain": [
              "(6.038189160133551, 7.2375276919797615)"
            ]
          },
          "metadata": {},
          "execution_count": 145
        }
      ]
    },
    {
      "cell_type": "code",
      "source": [
        "# N U 1000\n",
        "\n",
        "(m_N_3 - m_U_3 - z_crit*np.sqrt((var_N + var_U)/1000), m_N_3 - m_U_3 + z_crit*np.sqrt((var_N + var_U)/1000))"
      ],
      "metadata": {
        "colab": {
          "base_uri": "https://localhost:8080/"
        },
        "id": "hm68IIdLirRA",
        "outputId": "f34abe89-60d3-41a5-ba6d-668be967895d"
      },
      "execution_count": 146,
      "outputs": [
        {
          "output_type": "execute_result",
          "data": {
            "text/plain": [
              "(6.251101634662343, 6.90800640263964)"
            ]
          },
          "metadata": {},
          "execution_count": 146
        }
      ]
    },
    {
      "cell_type": "code",
      "source": [
        "# N E 100\n",
        "\n",
        "(m_N_1 - m_E_1 - z_crit*np.sqrt((var_N + var_E)/100), m_N_1 - m_E_1 + z_crit*np.sqrt((var_N + var_E)/100))"
      ],
      "metadata": {
        "colab": {
          "base_uri": "https://localhost:8080/"
        },
        "id": "0fAN3c_Niqux",
        "outputId": "83154aad-014a-43c0-c4d6-2a3f4dea93a7"
      },
      "execution_count": 147,
      "outputs": [
        {
          "output_type": "execute_result",
          "data": {
            "text/plain": [
              "(-1.7350197847282711, 5.85588808656169)"
            ]
          },
          "metadata": {},
          "execution_count": 147
        }
      ]
    },
    {
      "cell_type": "code",
      "source": [
        "# N E 300\n",
        "\n",
        "(m_N_2 - m_E_2 - z_crit*np.sqrt((var_N + var_E)/300), m_N_2 - m_E_2 + z_crit*np.sqrt((var_N + var_E)/300))"
      ],
      "metadata": {
        "colab": {
          "base_uri": "https://localhost:8080/"
        },
        "id": "887qZwo7iMVZ",
        "outputId": "9115f50f-e198-4293-900d-14003693a6a0"
      },
      "execution_count": 148,
      "outputs": [
        {
          "output_type": "execute_result",
          "data": {
            "text/plain": [
              "(-2.3825587620604014, 2.000053940822507)"
            ]
          },
          "metadata": {},
          "execution_count": 148
        }
      ]
    },
    {
      "cell_type": "code",
      "source": [
        "# N E 1000\n",
        "\n",
        "(m_N_3 - m_E_3 - z_crit*np.sqrt((var_N + var_E)/1000), m_N_3 - m_E_3 + z_crit*np.sqrt((var_N + var_E)/1000))"
      ],
      "metadata": {
        "colab": {
          "base_uri": "https://localhost:8080/"
        },
        "id": "_nClVtlCgF-K",
        "outputId": "090fd73c-c41c-474a-c243-746c1bf29ace"
      },
      "execution_count": 149,
      "outputs": [
        {
          "output_type": "execute_result",
          "data": {
            "text/plain": [
              "(-1.429677235432311, 0.9707786027453438)"
            ]
          },
          "metadata": {},
          "execution_count": 149
        }
      ]
    },
    {
      "cell_type": "code",
      "source": [
        "# U E 100\n",
        "\n",
        "(m_U_1 - m_E_1 - z_crit*np.sqrt((var_U + var_E)/100), m_U_1 - m_E_1 + z_crit*np.sqrt((var_U + var_E)/100))"
      ],
      "metadata": {
        "colab": {
          "base_uri": "https://localhost:8080/"
        },
        "id": "elRmCtQigFzA",
        "outputId": "38087301-bf1f-4f48-d378-41a731e6cbf2"
      },
      "execution_count": 150,
      "outputs": [
        {
          "output_type": "execute_result",
          "data": {
            "text/plain": [
              "(-7.939727037570249, -0.3479757789246185)"
            ]
          },
          "metadata": {},
          "execution_count": 150
        }
      ]
    },
    {
      "cell_type": "code",
      "source": [
        "# U E 300\n",
        "\n",
        "(m_U_2 - m_E_2 - z_crit*np.sqrt((var_U + var_E)/300), m_U_2 - m_E_2 + z_crit*np.sqrt((var_U + var_E)/300))"
      ],
      "metadata": {
        "colab": {
          "base_uri": "https://localhost:8080/"
        },
        "id": "gRFILVfQismI",
        "outputId": "ad1e9e0e-1fe9-4dd2-a54d-121b1ef637f5"
      },
      "execution_count": 151,
      "outputs": [
        {
          "output_type": "execute_result",
          "data": {
            "text/plain": [
              "(-9.02066065307547, -4.637561020275736)"
            ]
          },
          "metadata": {},
          "execution_count": 151
        }
      ]
    },
    {
      "cell_type": "code",
      "source": [
        "# U E 1000\n",
        "\n",
        "(m_U_3 - m_E_3 - z_crit*np.sqrt((var_U + var_E)/1000), m_U_3 - m_E_3 + z_crit*np.sqrt((var_U + var_E)/1000))"
      ],
      "metadata": {
        "colab": {
          "base_uri": "https://localhost:8080/"
        },
        "id": "82842Jmiisf4",
        "outputId": "828759fd-a87c-4ecd-e5cc-a0e089f2ae29"
      },
      "execution_count": 152,
      "outputs": [
        {
          "output_type": "execute_result",
          "data": {
            "text/plain": [
              "(-8.009364605332989, -5.608642064655963)"
            ]
          },
          "metadata": {},
          "execution_count": 152
        }
      ]
    },
    {
      "cell_type": "markdown",
      "source": [
        "#### Подпункт 2... ####"
      ],
      "metadata": {
        "id": "qgB9I3oojO0C"
      }
    },
    {
      "cell_type": "markdown",
      "source": [
        "Перед решением необходимо кое-что проверить, поскольку Стьюдент используется в основном для малого количества наблюдений, с увеличением степеней свободы он будет сходится к нормальному, для разницы матожиданий минимальное количество степеней свободы будет равно 198, сравним полученное значение с аналогичным у нормального"
      ],
      "metadata": {
        "id": "50bBr5-c1LuY"
      }
    },
    {
      "cell_type": "code",
      "source": [
        "t_crit = sts.t.ppf(1 - alpha_1 / 2, 198)\n",
        "z_crit = sts.norm.ppf(1 - alpha_1 / 2)\n",
        "\n",
        "t_crit, z_crit"
      ],
      "metadata": {
        "id": "g5LKKBLVjOTy",
        "colab": {
          "base_uri": "https://localhost:8080/"
        },
        "outputId": "17a511c4-fe8a-43dc-9690-bcabc17ea334"
      },
      "execution_count": 153,
      "outputs": [
        {
          "output_type": "execute_result",
          "data": {
            "text/plain": [
              "(1.6525857836172075, 1.6448536269514722)"
            ]
          },
          "metadata": {},
          "execution_count": 153
        }
      ]
    },
    {
      "cell_type": "markdown",
      "source": [
        "Как мы видим, разница несущественная, потому для оптимизации кода я буду использовать тут нормальное распределение, остальные значения возьму из формулы, представленной ниже: <br>\n",
        "\n",
        "![image.png](data:image/png;base64,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)"
      ],
      "metadata": {
        "id": "FjK_YPaT2geJ"
      }
    },
    {
      "cell_type": "code",
      "source": [
        "v_N_1 = N_1.var()\n",
        "v_N_2 = N_2.var(ddof=1)\n",
        "v_N_3 = N_3.var(ddof=1)\n",
        "v_U_1 = U_1.var()\n",
        "v_U_2 = U_2.var(ddof=1)\n",
        "v_U_3 = U_3.var(ddof=1)\n",
        "v_E_1 = Exp_1.var(ddof=1)\n",
        "v_E_2 = Exp_2.var(ddof=1)\n",
        "v_E_3 = Exp_3.var(ddof=1)\n",
        "\n",
        "m_N_1 = N_1.mean()\n",
        "m_N_2 = N_2.mean()\n",
        "m_N_3 = N_2.mean()\n",
        "m_U_1 = U_1.mean()\n",
        "m_U_2 = U_2.mean()\n",
        "m_U_3 = U_3.mean()\n",
        "m_E_1 = Exp_1.mean()\n",
        "m_E_2 = Exp_2.mean()\n",
        "m_E_3 = Exp_3.mean()\n",
        "\n",
        "\n",
        "z_crit = sts.norm.ppf(1 - alpha_1/2)"
      ],
      "metadata": {
        "id": "LLRILcmy3x4z"
      },
      "execution_count": 154,
      "outputs": []
    },
    {
      "cell_type": "markdown",
      "source": [
        "##### 90% интервалы #####"
      ],
      "metadata": {
        "id": "_qf7gw7X3i-J"
      }
    },
    {
      "cell_type": "code",
      "source": [
        "# N U 100\n",
        "\n",
        "n = 100\n",
        "\n",
        "(m_N_1 - m_U_1 - z_crit * np.sqrt((2*n / (n**2)) * (((n-1)*v_N_1 + (n-1)*v_U_1) / (n-2))), m_N_1 - m_U_1 + z_crit * np.sqrt((2*n/(n**2)) * (((n-1)*v_N_1 + (n-1)*v_U_1) / (n-2))))"
      ],
      "metadata": {
        "colab": {
          "base_uri": "https://localhost:8080/"
        },
        "id": "5ASsy8mO2zRO",
        "outputId": "1babb4fd-5c47-4737-f036-83986e14bb63"
      },
      "execution_count": 172,
      "outputs": [
        {
          "output_type": "execute_result",
          "data": {
            "text/plain": [
              "(5.020269564818564, 7.388301553509722)"
            ]
          },
          "metadata": {},
          "execution_count": 172
        }
      ]
    },
    {
      "cell_type": "code",
      "source": [
        "# N U 300\n",
        "\n",
        "n = 300\n",
        "\n",
        "(m_N_2 - m_U_2 - z_crit * np.sqrt((2*n / (n**2)) * (((n-1)*v_N_2 + (n-1)*v_U_2) / (n-2))), m_N_2 - m_U_2 + z_crit * np.sqrt((2*n/(n**2)) * (((n-1)*v_N_2 + (n-1)*v_U_2) / (n-2))))"
      ],
      "metadata": {
        "colab": {
          "base_uri": "https://localhost:8080/"
        },
        "id": "2Gf98JqN89Dp",
        "outputId": "48d3843c-b99e-49f9-c1c6-ad02812e3982"
      },
      "execution_count": 173,
      "outputs": [
        {
          "output_type": "execute_result",
          "data": {
            "text/plain": [
              "(5.930678042823294, 7.345038809290019)"
            ]
          },
          "metadata": {},
          "execution_count": 173
        }
      ]
    },
    {
      "cell_type": "code",
      "source": [
        "# N U 1000\n",
        "\n",
        "n = 1000\n",
        "\n",
        "(m_N_3 - m_U_3 - z_crit * np.sqrt((2*n / (n**2)) * (((n-1)*v_N_3 + (n-1)*v_U_3) / (n-2))), m_N_3 - m_U_3 + z_crit * np.sqrt((2*n/(n**2)) * (((n-1)*v_N_3 + (n-1)*v_U_3) / (n-2))))"
      ],
      "metadata": {
        "colab": {
          "base_uri": "https://localhost:8080/"
        },
        "id": "4W5g8k4r9Fi5",
        "outputId": "6940aeaf-7ca9-46ca-a029-ea87d15c5c26"
      },
      "execution_count": 174,
      "outputs": [
        {
          "output_type": "execute_result",
          "data": {
            "text/plain": [
              "(6.194992388053175, 6.964115649248808)"
            ]
          },
          "metadata": {},
          "execution_count": 174
        }
      ]
    },
    {
      "cell_type": "code",
      "source": [
        "# N E 100\n",
        "\n",
        "n = 100\n",
        "\n",
        "(m_N_1 - m_E_1 - z_crit * np.sqrt((2*n / (n**2)) * (((n-1)*v_N_1 + (n-1)*v_E_1) / (n-2))), m_N_1 - m_E_1 + z_crit * np.sqrt((2*n/(n**2)) * (((n-1)*v_N_1 + (n-1)*v_E_1) / (n-2))))"
      ],
      "metadata": {
        "colab": {
          "base_uri": "https://localhost:8080/"
        },
        "id": "Jz6W5NbH-AdS",
        "outputId": "801735a2-6ff0-4fa9-ecad-fab2b23a70db"
      },
      "execution_count": 178,
      "outputs": [
        {
          "output_type": "execute_result",
          "data": {
            "text/plain": [
              "(-2.1138878383454642, 6.234756140178883)"
            ]
          },
          "metadata": {},
          "execution_count": 178
        }
      ]
    },
    {
      "cell_type": "code",
      "source": [
        "# N E 300\n",
        "\n",
        "n = 300\n",
        "\n",
        "(m_N_2 - m_E_2 - z_crit * np.sqrt((2*n / (n**2)) * (((n-1)*v_N_2 + (n-1)*v_E_2) / (n-2))), m_N_2 - m_E_2 + z_crit * np.sqrt((2*n/(n**2)) * (((n-1)*v_N_2 + (n-1)*v_E_2) / (n-2))))"
      ],
      "metadata": {
        "colab": {
          "base_uri": "https://localhost:8080/"
        },
        "id": "ECwzL0KZ-Bzj",
        "outputId": "ffe021f7-0c81-4f5b-e1e4-9f7d5515af28"
      },
      "execution_count": 184,
      "outputs": [
        {
          "output_type": "execute_result",
          "data": {
            "text/plain": [
              "(-2.669437496685977, 2.2869326754480825)"
            ]
          },
          "metadata": {},
          "execution_count": 184
        }
      ]
    },
    {
      "cell_type": "code",
      "source": [
        "# N E 1000\n",
        "\n",
        "n = 1000\n",
        "\n",
        "(m_N_3 - m_E_3 - z_crit * np.sqrt((2*n / (n**2)) * (((n-1)*v_N_3 + (n-1)*v_E_3) / (n-2))), m_N_3 - m_E_3 + z_crit * np.sqrt((2*n/(n**2)) * (((n-1)*v_N_3 + (n-1)*v_E_3) / (n-2))))"
      ],
      "metadata": {
        "colab": {
          "base_uri": "https://localhost:8080/"
        },
        "id": "UiWnxQTq-BqB",
        "outputId": "85099bd1-0fbc-47c0-af74-a06544ffdfbf"
      },
      "execution_count": 185,
      "outputs": [
        {
          "output_type": "execute_result",
          "data": {
            "text/plain": [
              "(-1.6653382353303148, 1.2064396026433475)"
            ]
          },
          "metadata": {},
          "execution_count": 185
        }
      ]
    },
    {
      "cell_type": "code",
      "source": [
        "# E U 100\n",
        "\n",
        "n = 100\n",
        "\n",
        "(m_E_1 - m_U_1 - z_crit * np.sqrt((2*n / (n**2)) * (((n-1)*v_E_1 + (n-1)*v_U_1) / (n-2))), m_E_1 - m_U_1 + z_crit * np.sqrt((2*n/(n**2)) * (((n-1)*v_E_1 + (n-1)*v_U_1) / (n-2))))"
      ],
      "metadata": {
        "colab": {
          "base_uri": "https://localhost:8080/"
        },
        "id": "HYrizD1F-BNE",
        "outputId": "fea1162a-0865-471b-b635-631d8bc8f56b"
      },
      "execution_count": 181,
      "outputs": [
        {
          "output_type": "execute_result",
          "data": {
            "text/plain": [
              "(-0.04818970769752706, 8.335892524192396)"
            ]
          },
          "metadata": {},
          "execution_count": 181
        }
      ]
    },
    {
      "cell_type": "code",
      "source": [
        "# E U 300\n",
        "\n",
        "n = 300\n",
        "\n",
        "(m_E_2 - m_U_2 - z_crit * np.sqrt((2*n / (n**2)) * (((n-1)*v_E_2 + (n-1)*v_U_2) / (n-2))), m_E_2 - m_U_2 + z_crit * np.sqrt((2*n/(n**2)) * (((n-1)*v_E_2 + (n-1)*v_U_2) / (n-2))))"
      ],
      "metadata": {
        "colab": {
          "base_uri": "https://localhost:8080/"
        },
        "id": "gEjzGBRb-BHa",
        "outputId": "b3301dfb-ed00-4059-baf6-045af0071a5a"
      },
      "execution_count": 182,
      "outputs": [
        {
          "output_type": "execute_result",
          "data": {
            "text/plain": [
              "(4.351226985185011, 9.306994688166196)"
            ]
          },
          "metadata": {},
          "execution_count": 182
        }
      ]
    },
    {
      "cell_type": "code",
      "source": [
        "# E U 1000\n",
        "\n",
        "n = 1000\n",
        "\n",
        "(m_E_3 - m_U_3 - z_crit * np.sqrt((2*n / (n**2)) * (((n-1)*v_E_3 + (n-1)*v_U_3) / (n-2))), m_E_3 - m_U_3 + z_crit * np.sqrt((2*n/(n**2)) * (((n-1)*v_E_3 + (n-1)*v_U_3) / (n-2))))"
      ],
      "metadata": {
        "colab": {
          "base_uri": "https://localhost:8080/"
        },
        "id": "pNb0V5QX-BBK",
        "outputId": "501f19a4-e6aa-48f5-9893-f88ab0ec2b57"
      },
      "execution_count": 183,
      "outputs": [
        {
          "output_type": "execute_result",
          "data": {
            "text/plain": [
              "(5.371947637356775, 8.246059032632175)"
            ]
          },
          "metadata": {},
          "execution_count": 183
        }
      ]
    },
    {
      "cell_type": "markdown",
      "source": [
        "##### 95% интервалы #####"
      ],
      "metadata": {
        "id": "Vt0YsDx9ADfP"
      }
    },
    {
      "cell_type": "code",
      "source": [
        "z_crit = sts.norm.ppf(1 - alpha_2/2)\n",
        "z_crit"
      ],
      "metadata": {
        "colab": {
          "base_uri": "https://localhost:8080/"
        },
        "id": "RxetCcudALTG",
        "outputId": "6309e225-6f3a-44bc-8f06-d8f8f1c7e3d7"
      },
      "execution_count": 186,
      "outputs": [
        {
          "output_type": "execute_result",
          "data": {
            "text/plain": [
              "1.959963984540054"
            ]
          },
          "metadata": {},
          "execution_count": 186
        }
      ]
    },
    {
      "cell_type": "code",
      "source": [
        "# N U 100\n",
        "\n",
        "n = 100\n",
        "\n",
        "(m_N_1 - m_U_1 - z_crit * np.sqrt((2*n / (n**2)) * (((n-1)*v_N_1 + (n-1)*v_U_1) / (n-2))), m_N_1 - m_U_1 + z_crit * np.sqrt((2*n/(n**2)) * (((n-1)*v_N_1 + (n-1)*v_U_1) / (n-2))))"
      ],
      "metadata": {
        "colab": {
          "base_uri": "https://localhost:8080/"
        },
        "id": "bW6nEHSfAIcD",
        "outputId": "aa265953-91a9-464f-edc4-f18710fa82f8"
      },
      "execution_count": 187,
      "outputs": [
        {
          "output_type": "execute_result",
          "data": {
            "text/plain": [
              "(4.793443482998553, 7.615127635329733)"
            ]
          },
          "metadata": {},
          "execution_count": 187
        }
      ]
    },
    {
      "cell_type": "code",
      "source": [
        "# N U 300\n",
        "\n",
        "n = 300\n",
        "\n",
        "(m_N_2 - m_U_2 - z_crit * np.sqrt((2*n / (n**2)) * (((n-1)*v_N_2 + (n-1)*v_U_2) / (n-2))), m_N_2 - m_U_2 + z_crit * np.sqrt((2*n/(n**2)) * (((n-1)*v_N_2 + (n-1)*v_U_2) / (n-2))))"
      ],
      "metadata": {
        "colab": {
          "base_uri": "https://localhost:8080/"
        },
        "id": "Yjk6dem-AJ1e",
        "outputId": "4d857077-da5d-4d96-e81d-19a251cac388"
      },
      "execution_count": 189,
      "outputs": [
        {
          "output_type": "execute_result",
          "data": {
            "text/plain": [
              "(5.795201025422481, 7.480515826690832)"
            ]
          },
          "metadata": {},
          "execution_count": 189
        }
      ]
    },
    {
      "cell_type": "code",
      "source": [
        "# N U 1000\n",
        "\n",
        "n = 1000\n",
        "\n",
        "(m_N_3 - m_U_3 - z_crit * np.sqrt((2*n / (n**2)) * (((n-1)*v_N_3 + (n-1)*v_U_3) / (n-2))), m_N_3 - m_U_3 + z_crit * np.sqrt((2*n/(n**2)) * (((n-1)*v_N_3 + (n-1)*v_U_3) / (n-2))))"
      ],
      "metadata": {
        "colab": {
          "base_uri": "https://localhost:8080/"
        },
        "id": "W0WRuYHTAJr-",
        "outputId": "2307db9e-5c29-4169-8847-99d1acc32dd0"
      },
      "execution_count": 190,
      "outputs": [
        {
          "output_type": "execute_result",
          "data": {
            "text/plain": [
              "(6.121320572551198, 7.037787464750785)"
            ]
          },
          "metadata": {},
          "execution_count": 190
        }
      ]
    },
    {
      "cell_type": "code",
      "source": [
        "# N E 100\n",
        "\n",
        "n = 100\n",
        "\n",
        "(m_N_1 - m_E_1 - z_crit * np.sqrt((2*n / (n**2)) * (((n-1)*v_N_1 + (n-1)*v_E_1) / (n-2))), m_N_1 - m_E_1 + z_crit * np.sqrt((2*n/(n**2)) * (((n-1)*v_N_1 + (n-1)*v_E_1) / (n-2))))"
      ],
      "metadata": {
        "colab": {
          "base_uri": "https://localhost:8080/"
        },
        "id": "kyvHxrt6AJi7",
        "outputId": "62c2fb1d-d714-4088-bcb0-44e82411372b"
      },
      "execution_count": 191,
      "outputs": [
        {
          "output_type": "execute_result",
          "data": {
            "text/plain": [
              "(-2.9135772898404033, 7.034445591673822)"
            ]
          },
          "metadata": {},
          "execution_count": 191
        }
      ]
    },
    {
      "cell_type": "code",
      "source": [
        "# N E 300\n",
        "\n",
        "n = 300\n",
        "\n",
        "(m_N_2 - m_E_2 - z_crit * np.sqrt((2*n / (n**2)) * (((n-1)*v_N_2 + (n-1)*v_E_2) / (n-2))), m_N_2 - m_E_2 + z_crit * np.sqrt((2*n/(n**2)) * (((n-1)*v_N_2 + (n-1)*v_E_2) / (n-2))))"
      ],
      "metadata": {
        "colab": {
          "base_uri": "https://localhost:8080/"
        },
        "id": "5JjEwIF9AJYo",
        "outputId": "6d3373b5-7849-4504-f955-1f2b00cc9d1d"
      },
      "execution_count": 192,
      "outputs": [
        {
          "output_type": "execute_result",
          "data": {
            "text/plain": [
              "(-3.144192074142559, 2.7616872529046645)"
            ]
          },
          "metadata": {},
          "execution_count": 192
        }
      ]
    },
    {
      "cell_type": "code",
      "source": [
        "# N E 1000\n",
        "\n",
        "n = 1000\n",
        "\n",
        "(m_N_3 - m_E_3 - z_crit * np.sqrt((2*n / (n**2)) * (((n-1)*v_N_3 + (n-1)*v_E_3) / (n-2))), m_N_3 - m_E_3 + z_crit * np.sqrt((2*n/(n**2)) * (((n-1)*v_N_3 + (n-1)*v_E_3) / (n-2))))"
      ],
      "metadata": {
        "colab": {
          "base_uri": "https://localhost:8080/"
        },
        "id": "802ORCPiAJPQ",
        "outputId": "365cdd02-fa54-4c52-cd9a-c2a72d332049"
      },
      "execution_count": 193,
      "outputs": [
        {
          "output_type": "execute_result",
          "data": {
            "text/plain": [
              "(-1.9404164935446986, 1.4815178608577313)"
            ]
          },
          "metadata": {},
          "execution_count": 193
        }
      ]
    },
    {
      "cell_type": "code",
      "source": [
        "# E U 100\n",
        "\n",
        "n = 100\n",
        "\n",
        "(m_E_1 - m_U_1 - z_crit * np.sqrt((2*n / (n**2)) * (((n-1)*v_E_1 + (n-1)*v_U_1) / (n-2))), m_E_1 - m_U_1 + z_crit * np.sqrt((2*n/(n**2)) * (((n-1)*v_E_1 + (n-1)*v_U_1) / (n-2))))"
      ],
      "metadata": {
        "colab": {
          "base_uri": "https://localhost:8080/"
        },
        "id": "PFay9tToAJGu",
        "outputId": "6dfef242-4ea5-4bbb-be9a-4974f6d0576f"
      },
      "execution_count": 194,
      "outputs": [
        {
          "output_type": "execute_result",
          "data": {
            "text/plain": [
              "(-0.8512736742141582, 9.138976490709027)"
            ]
          },
          "metadata": {},
          "execution_count": 194
        }
      ]
    },
    {
      "cell_type": "code",
      "source": [
        "# E U 300\n",
        "\n",
        "n = 300\n",
        "\n",
        "(m_E_2 - m_U_2 - z_crit * np.sqrt((2*n / (n**2)) * (((n-1)*v_E_2 + (n-1)*v_U_2) / (n-2))), m_E_2 - m_U_2 + z_crit * np.sqrt((2*n/(n**2)) * (((n-1)*v_E_2 + (n-1)*v_U_2) / (n-2))))"
      ],
      "metadata": {
        "colab": {
          "base_uri": "https://localhost:8080/"
        },
        "id": "ov6t2O_eAI11",
        "outputId": "cac2e38d-f50f-44f3-e54b-28b727845efa"
      },
      "execution_count": 195,
      "outputs": [
        {
          "output_type": "execute_result",
          "data": {
            "text/plain": [
              "(3.8765301162889627, 9.781691557062244)"
            ]
          },
          "metadata": {},
          "execution_count": 195
        }
      ]
    },
    {
      "cell_type": "code",
      "source": [
        "# E U 1000\n",
        "\n",
        "n = 1000\n",
        "\n",
        "(m_E_3 - m_U_3 - z_crit * np.sqrt((2*n / (n**2)) * (((n-1)*v_E_3 + (n-1)*v_U_3) / (n-2))), m_E_3 - m_U_3 + z_crit * np.sqrt((2*n/(n**2)) * (((n-1)*v_E_3 + (n-1)*v_U_3) / (n-2))))"
      ],
      "metadata": {
        "colab": {
          "base_uri": "https://localhost:8080/"
        },
        "id": "G8uKvrQEAIr-",
        "outputId": "e40ff767-006b-48c0-fd70-c8e2c15819cc"
      },
      "execution_count": 196,
      "outputs": [
        {
          "output_type": "execute_result",
          "data": {
            "text/plain": [
              "(5.0966458552787, 8.52136081471025)"
            ]
          },
          "metadata": {},
          "execution_count": 196
        }
      ]
    },
    {
      "cell_type": "markdown",
      "source": [
        "#### Подпункт 3... ####"
      ],
      "metadata": {
        "id": "raIKCXgZBDW7"
      }
    },
    {
      "cell_type": "markdown",
      "source": [
        "##### Генерация выборок #####"
      ],
      "metadata": {
        "id": "jOigpibyFdPc"
      }
    },
    {
      "cell_type": "code",
      "source": [
        "for i in range(len(U_1)):\n",
        "    if U_1[i] < c_2 + ((c_1 / (c_1 + c_2))*c_3):\n",
        "        U_1[i] = 0\n",
        "    else:\n",
        "        U_1[i] = 1"
      ],
      "metadata": {
        "id": "d6fdqZKPBDAk"
      },
      "execution_count": 201,
      "outputs": []
    },
    {
      "cell_type": "code",
      "source": [
        "for i in range(len(U_2)):\n",
        "    if U_2[i] < c_2 + ((c_1 / (c_1 + c_2))*c_3):\n",
        "        U_2[i] = 0\n",
        "    else:\n",
        "        U_2[i] = 1"
      ],
      "metadata": {
        "id": "xOwNnmFoCaAh"
      },
      "execution_count": 203,
      "outputs": []
    },
    {
      "cell_type": "code",
      "source": [
        "for i in range(len(U_3)):\n",
        "    if U_3[i] < c_2 + ((c_1 / (c_1 + c_2))*c_3):\n",
        "        U_3[i] = 0\n",
        "    else:\n",
        "        U_3[i] = 1"
      ],
      "metadata": {
        "id": "FZXiWB7fCglK"
      },
      "execution_count": 204,
      "outputs": []
    },
    {
      "cell_type": "code",
      "source": [
        "# Только потом дошло, что можно просто взять среднее... \n",
        "\n",
        "p_1 = U_1.sum() / len(U_1)\n",
        "p_2 = U_2.sum() / len(U_2)\n",
        "p_3 = U_3.sum() / len(U_3)\n",
        "\n",
        "p_1, p_2, p_3"
      ],
      "metadata": {
        "colab": {
          "base_uri": "https://localhost:8080/"
        },
        "id": "o-A4GIoxClqZ",
        "outputId": "2ddb97f1-0b13-49f9-b1da-aa830d5c3a64"
      },
      "execution_count": 221,
      "outputs": [
        {
          "output_type": "execute_result",
          "data": {
            "text/plain": [
              "(0.4, 0.4166666666666667, 0.427)"
            ]
          },
          "metadata": {},
          "execution_count": 221
        }
      ]
    },
    {
      "cell_type": "markdown",
      "source": [
        "вроде бы выборки и доли выглядят нормально, строить интервалы буду по следёющей формуле: <br>\n",
        "\n",
        "![image.png](data:image/png;base64,iVBORw0KGgoAAAANSUhEUgAAAmMAAACrCAYAAAAq7JuNAAAAAXNSR0IArs4c6QAAAARnQU1BAACxjwv8YQUAAAAJcEhZcwAADsMAAA7DAcdvqGQAAFV3SURBVHhe7d0HfI3XH8fxT24iYoZasYraW0QkRmy1Y1SpUalRVf52jVJau6iKEVVao6iZUqNI1R7JTUiEKCEVe0WIDMnNvU/+9yZXKzIkkYXf+/W6lXty6XNyntzne885zzkmT548iUEIIYQQQmQJlfFPIYQQQgiRBSSMCSGEEEJkIRmmFJlu165dzJo1CxMTk9iHECJlli9fTvny5cmTJ4+xRAjxJpAwJjLd3Llz+f777ylUqBC5cuUylgohXsbU1JSlS5dSv359Y4kQ4k0gYUxkutGjR7Njxw4OHjxIuXLljKVCCCHE20nmjIlMd+/ePUJCQihWrJixRAghhHh7SRgTme727duYm5uTO3duY0nm09zw52q48ckbRcedgKuEGZ+9uTTc8L/KG9WEujsEXH3zW04IkZCEMZHpHjx4gJWVlfFZYnSE3r/JjRs3CQpXjGXpJ+rCar5c4kV0DmNBNqELvc/NGze4GRRO2mttgsmlNUxY6E6IsSQrpU+dXhTFhdVfssQrmuzVhK943pqYcGnNBBa6Z4eWE0JkJgljIlPFxMQQHR2d7BClxs+ZrrWqUb16dWyc1hCoM34jPTw6yLSZV+g4qTeVzI1l2YHGD+eutaimr3N1GyfWpLnSKqzaj6NvyPdM2HJDHw+yULrVKb5HB6cx80pHJvWuRPZqwlc8b1VWtB/Xl5DvJ7DlRpa2nBAik0kYE5nqyZMn5MiRI+meMV0Aqyc5412sD3OntkT11xymut5Jp16VME4smMvNDsNpWsBYlC3oCFg9CWfvYvSZO5WWqr+YM9WVO2mudF4ajOyHatk0fr+ffv1RqZPedTIKO8GCuTfpMLwp2asJ0+m8zduAkf1ULJv2O1nWdEKITCdhTGQqw+R9CwuLJHrGFG5vnsI895J8tvRbPh+zlO+6mbFn+kz2Pnz1K5NyfSML/niPno5WSZz4Oi67/cyKbZ6kw/8uxZTbm5kyz52Sny3l28/HsPS7bpjtmc7MvQ+Nr0iDgu/j5HCe+Uu8iDIWZaYMqZP+/Li+cQF/vNcTR6sk3rp0l3H7eQXbPB+m47Doy6TveVvwfScczs9niVdWtJwQIitIGBOZ6v79+5iZmSURxjSEl+rOd9s2MNXBUn92lqDrAlc2TWvNO2GvemnV4rNmNT61WtE4n7HoBZEBm5g5ciwTnd24nYlhTBNeiu7fbWPDVAcs9b+SJbouwHXTNFq/8yqTuc2xbteUqC0r2ffIWJSJMqROWh/WrPahVqvGJN6EkQRsmsnIsRNxdrudiWEsnc9bc2vaNY1iy8p9ZEHTCSGygIQxkakMPWMGRYsWjf0zPgsqNulGV4fy+q/iqApUo/UHXWhQxsxYkkYaL7btuELlerbxL+TKDbaMcaS1Qx2q2H3O9luZmMKMLCo2oVtXB8r/V2mqtf6ALg3KGAvSxryWPbUj/8T1QOZf0jOiThqvbey4Upl6tvGjmHJjC2McW+NQpwp2n28n85swvc9bc2rZ1ybyT1eyoOmEEFlAwpjIVIYw9rIJ/HG0PLp6hpPHTuAdGPLKE9G15904eK0QlaoVe+Gkz03pOk1o1bEXn4/pRZ2sW20jjvYRV8+c5NgJbwJDXrHWuapStVwoR/ceIdRYlCXSpU5azrsd5FqhSlQr9sLbVu7S1GnSio69PmdMrzr6Fs1a2kdXOXPyGCe8A0lrdXNVrUq50KPsPZKlLSeEyCQSxkSmMoSxp0+fJhLGojg0phZFrRwYt+YHhreuTsXazWjboR1N69TAYcR2rqc5myjccffgSkwpyr3YU6EqRIN+XzBhwgQmjOlEFYtM3isz6hBjahXFymEca34YTuvqFandrC0d2jWlTg0HRmy/nvYgalqasiXNCfF255zGWJYZMqJOyh3cPa4QU6ocCZuwAf2+0Lefvg3HdKpC5jfhGGoVtcJh3Bp+GN6a6hVr06xtB9o1rUMNhxFsT8OJa1q6LCXNQ/B2P0dmNp0QImtIGBOZyhDGDHdUJribUuvPSfVNIiN8+WXeTpT3p7J+rxu7106hfalwzv8ygTn70tpLoOG83yW05kWwKmZqLMsetP4nUd+MJML3F+btVHh/6nr2uu1m7ZT2lAo/zy8T5pDmamNGkSIFibl+Dp9MvDUvQ+qkOY/fJS3mRazIXk2oxf+kmpuREfj+Mo+dyvtMXb8Xt91rmdK+FOHnf2HCnH2p75k0K0KRgjFcP+cjd1UK8RaQMCYy1Z07dwgPD6dw4cLGkjhKkBpPfx15Hb7hoHovLuP60LaRPU26jmXRF83JrTxAfeqC8dWppAQRGPgI8hekYLZaJVQhSO2Jvy4vDt8cRL3XhXF92tLIvgldxy7ii+a5UR6oOXUhrX0jphQpWgiVcotr17TGsoyWMXVSggKJa8KC2WuhV/25pfb0R5fXgW8OqtnrMo4+bRth36QrYxd9QfPcCg/Up0h1E5oWoWghFcqta2Ra0wkhsoyEMZGpDFshFdRfUE1N43dvPPV052yUKdVbd6ZKXmNhLBUFSpbAUhXD0/CnxrJUUu5xLygGkzz5yJfJQ1jJe4qn+1miTKvTunMV4le7ACVLWKKKeUr407Tu5W9Cnjy5QHef23cy64qeMXVS7t0jKEZfn3z59LXKRp564n42CtPqrekc/8TVV7ckJSxVxDwNJ9VNaJKHuKa7TaY1nRAiy0gYE5nKsEF4wgVfNZzzOMNjVRls6pfixVEo7ZMQwhUVhYrE701LMV04oREKmOZIv16V0DsEXPbH3z+Zx+V/uJfcSg6ac3iceYyqjA31SyWoNU9CwlFUhShSOK3jciZY5Myh/6+GpxGZtGZVBtVJFx5KXBOmX79Y6J0ALifWbs89Lv9zL9l9PjXnPDjzWEUZm/okrO4TQsIVVIWKkOomNLEgZw597NQ8JbOaTgiRdSSMiUyj0+lit0NKEMZ0t1CrA1Hy1cGu1osb3Gjw87lAuEkhalm/ZyxLLR2KYQ61/v+dXtNvorx+YsyIEYxI9jGBNWeTvpLqbqlRByrkq2NHwmr74XMhHJNCtbB+L63Leqgwz2muD2MxaKI0mbLuVobVSafETvqPiUm3FsTrpzGJtNkLjwlrSLoJddxSqwlU8lHHrlaCrZk0fj5cCDehUC1rUt2EKnNymuvDWIyGKE1mtJwQIitJGBOZJigoiFy5ciW8kzJUjceFaHLUtKXei+sShJ1k864AKONIj6ZpXLTAJBe5LPSRJDoKTVpH/F6Qs/kUft+7j337knns3cqERjmNfyOhULUHF6JzUNO2XoLlGMJObiau2j1Ia7UNDOHX0EOWw9w8U37ZM6pOJvrzxsIkhmh9qEyfJsxJ8ym/szexdnvusXfrBJJuwlDUHheIzlET24QnLic37yKAMjj2aJqG5TZiDJ8d9BXPgbm5vE0L8aZL8W+55oY/V8ONT95yujsBXH2VxdHfUnfv3tVfWMwTLPga5e2Od5gp5WxsibeElBLMkdmTWBdoSctRw2gce0WLRL2wDx8vPvPfLf9KEIdn9eNTl9PGgheo8pEvr2HIJypLtgZKXBTe7t6EmZbDxjb+2mdK8BFmT1pHoGVLRg1rHHchj1SzsM/HLD7z30xwJegws/p9isvppE5GhchIQ3jJhaVl0qEw/aSwTkMr4Ta+K+O23/+vt065zc5JvRm1MYDEpkip8uUjrgmz0ZhdlDfu3mGYlrPBNv6JS/CR2UxaF4hly1EMreTG+K7j2P7cbZHK7Z1M6j2KjQFJTAhTIok0fHLIZUmmNJ0QIkulKIxFXVjNl0u89J8AjQWJ0YVy/+YNbtwMIjy796q/4rGamFxizYSFuIcYC0SKGJa1MEzcj98zpiXA4zR3lRiCT6zFZethPH19UR/YwGynNvRyuULpPs4sdHrPOJfMgjqNK3DZZQm7Y/f9C8FjvhPjfRszaqBN7CsSMCtJ6eJmxIQ94cmLSz7pA5960xKcnZ1xXrYX/6gYfcg5zeal+ufOi/jpz6vGF6YzbQAep++ixARzYq0LWw974uur5sCG2Ti16YXLldL0cV6I03vGyUYWdWhc4TIuS3bH7ZsZ4sF8p/H4Nh7FQJv4E8f/E0NoaDgxpkUpYZXWoc5USGmdyhfDpmIM21ZuITC2PULxmNufGYFtGPpBeRI7UrOSpSluFkPYkycJ1ihTgtVsWmJoL2eW7fUnKkYh6PRmlhradNFP/Hn1xb+RPrQBHpy+qxATfIK1Lls57OmLr/oAG2Y70aaXC1dK98F5oRPli9lQMWYbK7cExh17qAdz+88gsM1QPiifRLvEhBIaHoNp0RJkRtMJIbKWyZMnT5Lv9X90kEnD/qL1slk0L2AsS0CD34L2tJymJsKkIO8vPMLmAWUTTMTOHtLnWMNOfcOAtdVY4NKD0tmzotnOunXrWLRoERMnTqR79+5xhcp9VnevycjDhahWIQL/i8H/9ozkKFSLziPnMHu4A1bP/4yVm6zp2ZxfG7oy32IGQ/Y3Yun6USSZSfRtfnKiHR1WlmDOuV0MKfHcZxDdRea1aMhM78R6KEwo+vFmrri0NT5PP8r91XSvOZLDhapRIcKfi8H/1ppCtTozcs5shjtYxTsvlZtr6Nn8Vxq6zsdixhD2N1rK+lE28e9YjEfD8XH16LS2Is4XXHFK4/0PKZWqOj3cwsd2S6my3Y3e54fw0eqKLNo6GXvL2L+QkOYkE+06sLLEHM7tGkL8JpxHi4YzSbwJi/Lx5vO4tH22UVF6Ubi/ujs1Rx6mULUKRPhf5L/qFqJW55HMmT0cB+OJ+3DLx9gtrcJ2t96cH/IRqysuYutke5KqLprjjKvXibUVnbng6kQGN50QIou9pGcsjBML5nKzw3CaJhnE9G+GAauZ5OxNsT5zmdpSxV9zpuJ6J3t2j6XXseZtMJJ+qmVM+/25oRaRLMMm4RqNJv4E/khPPM5GYlbjY34+eZGLajd+37KVnW5q/r54nFWjXghiBqpSfDisE/edO9NvV12+X5NcEDMwp7pNDfLGBHH3xbY2rcL4I8GxC9EmfIRkSBAziPT04GykGTU+/pmTFy+idvudLVt34qb+m4vHVzHqhSBmoCr1IcM63ce5cz921f2eNckGMQMNt28HYVK+DrWS+f1NL6mqU6H29GnzkC2TnfhkSS6+XPVl0kHMwLw6NjXyEhN0l4RNOJ4jwYm1n/4RciUDgphBJJ4eZ4k0q8HHP5/k4kU1br9vYetON9R/X+T4qlH/BjGDQu370EYfQCc7fcKSXF+y6stkgpiB5ja3g0woX6cWmdB0QogslmwYU65vZMEf79HT0SrpFyq32TxlHu4lP2Ppt58zZul3dDPbw/SZe+OGU7KTdD3Wgrzv5MD5+UvwklvPU8QwTGlY8PX5OWMaP3e8gk0obtOACmYWFK1iT/O2bWhmX4WiSc6V0XDrxn204VGUbN+T+im4WuWzb0ztHDe45J8dJvtp8HP3ItikODYNKmBmUZQq9s1p26YZ9lWKknS1b3HjvpbwqJK071n/5Rdp7XX+uaEPv/q6V8vwoa7U1ikvzXq0RfF6SIflC+lS6iWfC8mHfePa5LhxiezRhH64ewVjUtyGBhXMsChaBfvmbWnTzJ4qiZ24eZvRo62C18MOLF/YhZdVV3v9H25orPR1rpbosK0Q4s2SzFuCFp81q/Gp1YrG+YxFidGEU6r7d2zbMBUH/Uc9VYmuLHDdxLTW7xCW3cJYOh+ruXU7mkZtYeW+R8YSkZxnWyH9N2dM4a7ai6tKPqwb1Ek6hMSj5dq2EQxcU5rZLl25uXo5pyKM30qGqmRb2teLwd/vkj42ZDHlLmqvqyj5rGlQJ2W1RnuNbSMGsqb0bFy63mT18lO8tNrhfpwPLErL9nYp/Nm+gjTUKfrhQyKqd6Br9ZT0XKko2bY99WL88buU5S2or64ar6sK+awbkLLqRvPwYQTVO3QlJdUN9ztPYNGWtLfL8JYTQmQDSYcxjRfbdlyhcj1b/WfSZFhUpEm3rjiUf/YOo6JAtdZ80KVBgg19s1x6H6t5LexrR/Kn6wEkjr3crVu3YpdasLR8NkCj5XZ0YRxa9aJLw/zGsuQo3Nkzjo8XmTFu7UwcPxhK3/zbWbrtzsuHilWl6dqzCY9OHOWfjJnPnXLa20QXdqBVry6krNp32DPuYxaZjWPtTEc+GNqX/NuXsu0lw+tRZ07ga9WNPk1Sv7BCqqW2TvpI7OvuSwEbO8q8OB6bBFXprvRs8ogTR/9JMIk/s2lvR1PYoRW9ujQkZdX1xd23ADZ2ZVIwPzWKMyd8serWh/RtOgWdLrt9QhZCGCQZxrTn3Th4rRCVqsW/RT15Wh5dPcPJYyfwDgzJ8jfMZGkfcfXMSY6d8CYwJK1HmouqVcsRenQvR9K8mfPbw7AvZfxlLcyxH7WOHa7z6P7SYSqFBwen0nfGY4asccbRsNy5WVU+GWzL6R9X4vPSzhIVxT8YQpcnbvwRkMVnprk9o9btwHVe95cOV6E84ODUvsx4PIQ1zo6xq7ybVf2Ewban+XGlTzK9fJG47/GgXP+B2GZG50pq6mSgC8TjzBNq2ydcLDVJquJ8MKQLT9z+IOubcBTrdrgyr3upFL0/6gI9OPOkNvYJVsJNRKQ7ezzK0X+gbTr1aGq44/4LUz5qjtOqG8YyIUR2ksTdlAo3lnXC+isNX3nuY1T5pD7LRXFojC09f7XE6dveRG5wZqPHnbgLhMqSGv0Ws2lhV95N4SffDBV1iDG2PfnV0olve0eywXkjHnfiLmUqyxr0W7yJhV3fTcGn1vjCt/ShwmcXcNJf+L5tmOLLSioF8ctH1oz5MyLxBS9VBeiywoefuybbh5nl3nvvPcqVK8dff/1lLMlsCne3DKSfpxOu85sl3+P7mlPubWbwoIt8uvlr7FLdu6IjwO1X/qnQm9bPltbILpS7bBnYD08nV+Y3exNbUOHe5sEMuvgpm7+2S8Nisc8L4/L+1SxZsg53GtBv+Ag+aVP+JTd9CCGyQhIf6jSc97uE1rwIVsWSeTPW+nNSfZPICF9+mbcT5f2prN/rxu61U2hfKpzzv0xgzr7s0WWk9T+J+mYkEb6/MG+nwvtT17PXbTdrp7SnVPh5fpkwh7QcqlmRIhSMuc45nwy8q1KnoXSrEYwbP57x/z7GMbTde+SI1pLXeiADm2fvC5Nh4r6ZmVmCBV8zlwqr7rMZplmJ88k3uCtTucfe7/dTYfKYNAQxgyh8N81n64Vo4/NsRGVF99nD0Kx05k1sQuXeXr7fX4HJY14hiOmCOLt1FgNaNGPg2vvU+2onx3cv4n8SxITIthIPY0oQgYGPIH9BCiaz0KsSpMbTX0deh284qN6Ly7g+tG1kT5OuY1n0RXNyKw9Qn7pgfHVWUghSe+Kvy4vDNwdR73VhXJ+2NLJvQtexi/iieW6UB2pOXUj9xGDTIkUppFK4de3av+tjpTvTEjQfNI4JEyYYH+PobxvBiSNXyOXwFZu3TKJhNr//3bCsRaJbIWU2VXE6z55IqV0/cuiNXLRXy9/rl+DTZBrj7N/Mvj9V8c7MnliKXT8e4o1qQu3frF/iQ5Np40hT00Xd5PiqL+nRpB3j/spJl6UHOPzrDPrZW6V8KFgIkSWSCGP3uBcUg0mefOQzMZYl4qmnO2ejTKneujNV4n3kUlGgZAksVTE8DX9qLMtKT/F0P0uUaXVad64S/9OhqgAlS1iiinlK+NPk179NjEmePORCx/3bdzIujMWj4/rOMXTus5TrNt+wdZP+jfs1WIjIcCdljhw5sj6MGeSpSf+ZI2j0RnYTmFG+51Qmdyid6iH310memv2ZOaLRm9XTY1aenlMn0yEtq0jr37N/G/4+nScfwuqLrexa/gWO1QokNfQhhMhmEp8zFnWUsfUcWZVzOG4nZ2Cb6McqDe5fNaCdi8JnicyXCnftR+X+uyk38SjHJtUwlqZFKHcC7hKqSy4omWBmWZz3iiXx1qxx56sG7XBRPmOPx7fEP9RwXPtVpv/uckw8eohJNVJ3W6VyZzmdaozHo/lSLm/rR0Fj+b9C7xBwN5TkD98My+LvkdTh/ycK/w1D6TlqOxHNZ7N19RBq5TF+K5uIjo6OHZIsUCB+Qty5cyczZ85kyJAhDBgwILbsxIkTRGWnvQbfcLlz58be3t747Hkv/o5Fc3jqhxx+fxvfNH72+5D071hwcDA+Pj7GZyIjlCpVikqVKhmfJUEJ4eIfP7Nk6QY8zBrzyYgRfPK+DE0K8TpIIowdYrR1V9bk+h/7Ts3ELrEwprvK4nb1mHLRkTUXVtM13m+8BvWUhrRZHELvTWdxafcK01D1xzKjxzxORCUfxvI1/4qtExoZn8enu7qYdvWmcNFxDRdWd43/5qRRM6VhGxaH9GbTWRdSfagP9XWvPJKjDRdwYcen8Te61os6NIMe8/ShI9nDz0fzr9YzoVFy906Fc27FQHpMdEPV9ju2/jSAaq82uzdDfPfddxQqVIj+/fsbS+KsWLGC5cuXM2PGDDp06BBbNnDgQB49kkVBMkvJkiVZsmSJ8dlzEvyOxRB82ZtHRawpX+BZ13jSv2Nnz55l2rRpxmciIxh+Zwy/LykTyY1jG3BZtBK3h9X4YOhIPutWm8JvclepEK+5xMOYxp1J9u1Yph3ELs/5OCSWER5vpk+NT9lf+1u8dw2l9PMhJOwwYxt3ZZUygB3uC2iaxaHh8eY+1Ph0P7W/9WbX0NLxuu7DDo+lcddVKAN24L6gaeonzQatokuVURxvuoTLrk4Je8bSg/II94X96DPzFHm7OLN1eV8qZdJakL/88gvly5enUaPEg+7zLly4EPs6w1pijx8/NpbGMYSwjRs3xv579erVM5aK7CmC7QPs2dtNzYqOGbGVkMgcOh6e/Y3li5bheqEQ7386kmF9HCgtTSpEtpP4lAJVPvLl1X8i1kSR1CBSlLc73mGmlLOxjd8bpARzZPYk1gVa0nLUMBrHpptI1Av78PHiM3HLXhgoQRye1Y9PXU4bCzJKFN7u3oSZlsPGNv6aaUrwEWZPWkegZUtGDa2E2/iujNv+3F2Rym12TurNqI0BSc4HUyIj0ejjbC5Ly4xZ5Vy5z8Fp3ekxwx3LHsvY/mNyQUzDpVVDGfZLQLqt8WbY2NvM5DprhjnSpF5drOvUpXH3Sbj6xz8ztFotLi4usfPCDGHswYMHxu/EMcwZCwsLyx5zxoR4K5hSqPaHTF51iKMbBlPKdyHT1181fk8IkZ0kHsbMSlK6uBkxYU94kuhVXUuAx2nuKjEEn1iLy9bDePr6oj6wgdlObejlcoXSfZxZ6PSecRKxBXUaV+CyyxJ2x24CGYLHfCfG+zZm1ECb2FdkGG0AHqfvosQEc2KtC1sPe+Lrq+bAhtk4temFy5XS9HFeiFP5YthUjGHbyi0ExtY5FI+5/ZkR2IahH5RPcn+4mNBQwmNMKVrCKgP2kIvg5Ixu9F3oSVhxB9pW0YfDZc44Oz97LOKnPwNjg5f24lqGdW5N96lbOXsjifXIUunSpUuE6utX37YWRRqM4KcDarzP/Mm86icYO3YN155by+Phw4c8ffo0dl6LIYy5ubkZvxMn4VZIQojMkrf8+/xv0W+sHFTOWCKEyE4SD2Pk5r1yJVE9fcD9x4msnqUE46G+hNasBEVCdzNjoCMtGzemVbfPWXA8J22nubJncReevynI3OZThtQ6zvJfznP2h0GMOtWaH34enKJ92l6FEuyB+pIWsxJFCN09g4GOLWncuBXdPl/A8Zxtmea6h8VdDHeeqSjdrTeN/bew8UIkVzcOZ8ShJiz5wYlKydwXrnsYxKOYHJStWCH9bx/XnGfvTj8M+yJrbx1g6ddTmTr1+cc0NvvFtY9ZFSdcfndjWa/4w7CvwjDpvmPHjpjkqE6Hvq2oVEAfN1WFqGtfg5x3b3Lvue5Cw/phBQsW5Jtvvol9vmvXrtg/nzFshZQ3b17MzdP9pySE0AXw40fW1KhRI5mHNX1WXTP+BSFEdpLECvwQsvVjanzmz8A/T/CNzQt9PhF7GFKzN1tKTuTYwdEUueKDX2AIJgXKUM26CkWTGEYLPzyGRk7biak+mOW/fkmDTFiSIWLPEGr23kLJicc4OLoIV3z8CAwxoUCZalhXKfrC0GIY+4bZMeFGDQoEvcPoLS50ecneLmFb+lBpyD98/tcxplinf99Y6kRxbFwDJhdYy8HJNV/eU6c8wH31Cg5rS2P5MJzKvSpw/FtvWi8YT4O84ODgEDvXq1mzZsa/oKfcY8dnLfk6z2JOOLdIcKeW4W7KEiVKxN5NefnyZWMpVKxYkfz583P6dEYPSwshhBCvlySTRj77xtTOcYNL/oZ+mfg0fu54BZtQ3KYBFcwsKFrFnuZt29DMPukgZpjPdOvGfbThUZRs35P6mbI2lgY/dy+CTYpj06ACZhZFqWLfnLZtmmGfIIgZ5KVZj7YoXg/psHzhS4OYYbj2+j830FjZ07haVgex1Irk9Px+TL3RiuGf9WPwB2b8NngOFxv2oL4+YV2/fp0bN27QuHFj4+sNQvFyHsCkCx1ZOKVZorfMG+aM2dnZxS7yGhkZGVumKEpsSLOysop9LoQQQoj/JJk2VCXb0r5eDP5+l/6bdB9L4a7ai6tKPqwb1EnhpHUt17aNYOCa0sx26crN1cs5FWH8VkZS7qL2uoqSz5oGdVJ2pNEPHxJRvQNdUzR+Go7f+UCKtmyPXcr++cyl3OPw8mkvDG1OZdpPxwm69xsLfslPn89sMSxVFnHrb3zzf8SMvmVj5/kZhijbtWsXu4VRLCWI47N7MmhXLb7fNosWhZIOqk2bNo2dN3b8+PHY54blK7LF6vtCCCFENpT0FVVVmq49m/DoxFH+iTeJX8vt6MI4tOpFl4b5jWXJUbizZxwfLzJj3NqZOH4wlL75t7N0252M28vxGe1togs70KpXF1J0qPrY6evuSwEbO8qkZE2eqDOc8LWiW58mr7ihbwZRFaPZkK+ZPn16vMfXgxqT74Kavyu1pq3hVtjHx/j2m1M0HuuE1dPw2L9qCGOdOnWK/RrNVX4b1Y2RZ1qz3HUWbYsn/8N51pv222+/xf5pmLxvYWHxBoUxhbCb53E/dgyPSw+SvONYZDO6EK6dPcXR46e5+jj+nUlRQf546d/rTnhfIzTD35iEECK+ZMbhVBT/YAhdnrjxR8Dzb1zm2I9axw7XeXR/6TCewoODU+k74zFD1jjjWEp/ETeryieDbTn940p8Ur8VZOqY2zNq3Q5c53XnpYdqoAvE48wTatvXStFk/Ej3PXiU689A26zvFtOeWUAX24YM2XKNiz/1wc5uEOtuJ31VMXuvDpWf+nHksCsLZ+7Cqqs9V1bO4FffKO7evx+7ZljLli1jX6u99Cvfr7/Mk4D1DGtti42NDTa2nfnudOINWLdu3dgetZMnT8Y+N4Qxw/PXN4xFcWhMLYpaNWHCLz8ypkNtKtZoyPsdOtDathrWPZdxNm5EVmQnUYcYU6soVk0m8MuPo+lQuzK1HNrQsX1zrGs256s/H/DQez2TP6xHhUr1aNGuI+2a1qZGq2848kgSmRAi8yQ5gT+Owt0tA+nn6YTr/Ga8mdsOp5Fyj82DB3Hx0818bZct+8VeSvv4OgEPzCn5nhV5eczteyZYlbBkzapVHDlyhLVr1xpfmXqGIOft7R27Vc6mTZtiV+YfO3YsvXr1Mr7iNaI9x6xmTZnrq2D2TlXaOw2kR8saFI7wZe2UyWz0t6DzT+dY9+FrsEnoW0R7bhbNms7FV7GgeL1u9P+kCw7lzbm+bwFfLTrGo0IlKBwVQ7kuQ+jf2Y6yOa7z+8xxLFNH0WLhObYPlGF1IUTmeEl/kQqr7rMZplmJ88lQY5kwhNR7e79nf4XJjHlNg5iBWYF3qVxRH8QMo46mBShh2DBd/+WePXtwdHSMfU1aGcKYYSFYX1/f2J4xjUbz2vaMKUEeePrryNtgPHs9j7N+2iAcm9jTsO1Axn5UE7OYCB7ce2J8tcgeFII8PPHX5aXBxD9wd1vOxL5tadSgBb0mfEpT/SdLxawu4/ep2b90NB+1boh9sx6M/qguZmh5FCzbdAkhMs/LB+9Uxek8eyKldv3IoRBj2VtO+/d6lvg0Ydo4+zeyt3DVqlWx64u9imfzxrZu3Rp7Z6VhQdjXNYw99fTgbJQZNTr0ol6R5+fL6QgJCSXGJD9lyhU2lons4SmeHmeJMqtB+57WFHzunU558oCgp2BRpx3dalgaSw30AS7oETHkpnTZksYyIYTIeCmZSQV5atJ/5ggaJbaWwVvIrHxPpk7uEG9R2zeJpWFrp5yvNg/O1tYWU1NTDh8+zN27d2NX8n89w5iGc+5neKwqi239ksYdJYyUR/j6XkOXszb1bWTDv2xFcw73M49RlamHXcn4v6gaHx/+jjajio0tz0cxw9ItZ30D0OaoTn3b17fHWwjx+klZGDMwNcf8DQ0fqWaeM/1X23/DGJayqFatGv7+/ty5c4eoqCgKFSpk/O5rRHcLtWcgiqU1djVfaPVIL9S+UZhVro9d4ZT/KomMp7ulxjNQwdLajhrxmk3LBY/TPDQpTl27cvHDdZQPHt7hmJbVt2cJebMTQmQeuYKIDNO6devY4cmrV6/GBjETExPjd14joWo8Lmgxr1Uf21zGMiPD4senH5lQzKYBFV+3NX/fcKFqDy5ozalpVz/+sjPKfTw9r6DNWxu72vF7f7VX3DlzL4aC9exfCHBCCJGxJIyJDGPYTsnA0DP2uq6+H+XtjneYKRVt7SgS77fFsPjxaQJ1ebG2t07h4scic0Th7e5NmGkF6tsWif8mF6EP1+ejyVHVjvrxJnwqBHt6cUlrQR17W2TQWQiRmSSMiQxj2BbJ0Btm2Bz89QxjWq64n+YuhbGuX/mFvT7D8VSfIzpHNX09ZdGXbEV7BffTd4kpXBfbqvFbTXPOA58QFWXq1Sf+VLJIvDx8iDSrTH27d+SNUQiRqeQ9R2SYvHnzUqFChditkV7LyftKMGrPS2gt6mD34gR9zVk8fMJQla2P/QsTxEXWUoLVeF7SkquOHfXiNZuOmx5eXFPyU8euZvx5n9q/UZ9+hElxG+zLy5izECJzvWTRVyFezYQJE1i+fDmjR4/mm2++MZYKIYQQ4hnpGRMZysnJidy5cxMdHW0sEUIIIcTzJIyJDGVY3qJJkyaUKVPGWCKEEEKI58kwpRBCCCFEFpKeMSGEEEKILCRhTAghhBAiC0kYE0IIIYTIQhLGhBBCCCGykIQxIYQQQogsJGFMCCGEECILSRgTQgghhMhCEsaEEEIIIbKQhDEhhBBCiCwkYUwIIYQQIgtJGBNCCCGEyEISxoQQQgghspCEMSGEEEKILCRhTAghhBAiC0kYE0IIIYTIQhLGhBBCCCGykIQxIYQQQogsJGFMCCGEECILSRgTQgghhMhCEsaEEIlSQh/xWGt8ItKRQuijx8iPVgjxjIQxIUQ82gen2TitL81aTODAE2OhSAdaHpzeyLS+zWgx4QDyoxVCPGPy5MmTGOPXQoi3WNTN46xf6szKP0Oo3Ws4owZ1pGqBlH9eU4JPsGrJfq7rVLzT4BP6l7/A2pWb+MvnJuE5S1L/oy+Y0Lc2lsbXZw2F4BOrWLL/OjrVOzT4pD/lL6xl5aa/8LkZTs6S9fnoiwn0rZ2eRxnFzePrWeq8kj9DatNr+CgGdaxKKn60Qog3nIQxId5yYQH7WeW8mHUepjTuP4oRTi0ol9v4zRRTuL+uF9bD9hJqYol9t6Y83LuTyxHGbxuYlmHA1lM4t8prLMgCyn3W9bJm2N5QTCzt6db0IXt3Xib+YQ5g6ylnXv0wwwjYvwrnxevwMG1M/1EjcGpRjlT/aIUQbzz5bCbEW0nhkd925g5qSVOn1TywncKu4ztZ+HlagpieEsS+XccJNXwdE4K3OpTW36xi8+YVjGteLO6NRneTE0cvojF8nUWUoH36esYepf4wvVGHtuabVZvZvGIczYvFvR3qbp7g6MVXOErlEX7b5zKoZVOcVj/Adsouju9cyOcSxIQQSZAwJsRbSLm3gy8/GsKi89WY8PNKZvSzx8rc+M00UB78F3JyVHRizV/b+XZId9q1+4hxg1tS0MTwHRMsLHK9+puOLpKwkMc8fvzfIyQsSh8vX0bhwT59MIo9zBxUdFrDX9u/ZUj3drT7aByDWxbUH6GeiQUWudJ6lAr3dnzJR0MWcb7aBH5eOYN+9la8wo9WCPEWkDAmxFtIVawbyz092TTQgo19HWg2YA6u54LRGb+fOoaQs5MTYfovVcXp/s10Olg9e2tRCLpxk1DDZAhVYWrVLYdZ3DfSSB921n9M5dLv8u67zx5lqDvajXDjK5KkPGDfzhPEHWZ3vpnegf8OM4gbN0OJO8xa1C2X1qNUUazbcjw9NzHQYiN9HZoxYI4r54LT9pMVQrwdJIwJ8bayeJcmn85n+yk35reMwvXzFjj0msI6j7upG0pU7rN318m4kFOiHT1bF4wrN9DdYNdur9h/T1WyHV0dXnWgLpKA4Lw4tGtHu2eP9l0Z6tSCfMZXJEW5v5ddJ2OPkhLtehL/MHex2yv2KCnZriuvepgW7zbh0/nbOeU2n5ZRrnzewoFeU9bhcTcrB2mFENmVTOAXQsRRHnFh10qcF2/kTN4WfDp6BB83K/PSeU7K3dV8aD2SP8MhX+dVXFrXnWdz3x+5jaR5z9X8o8uF7deH2D+22iv2jKWVwt3VH2I98k/C9bGt86pLrOv+71HiNrI5PVf/gy6XLV8f2s/Yaul7lMqjC+xa6czijWfI2+JTRo/4mGZlZAaZECKO9IwJIeKoClKt83hW/HWcLf97jwuL57P9/stmYinc+2MXJ41jhJG3rnIjtvNHy+1Dc3Aa9os+iEHuOv9j9pD/gpju6hYm9u2N07cHCYkr4frvXzOg31jWnn/+3sZ0otzjj10njUOZkdy6eiOu9097m0NznBj2iz6I6WNnnf/NZnDRP5nRrzeDFrsTFft6CD+zghH9RrDyzEsHQxOlKliNzuNX8NfxLfzvvQssnr+dl/5ohRBvDekZE0KknXKHnz+oy+i/9CHF1AxTffDKX74GZVR38A+4R4Q+cOSs0JOl236g53vP9TZF7GeYdU9+zTWEPerZVDw6mS5OWyg0fiu/jqz7b89aelHu/MwHdUcTd5im+uCVn/I1yqC640/AvQh9pMxJhZ5L2fZDT97T6Y+tZk82lp6Ku9sYyt/ayuAOo/m7wy/snN2CwvIRVgiRziSMCfEW0gX8SJ/uSzgfbSxIjLk9k/evoFeRpNOHcvtnuulDzsEIFSX6TMPpn++Ze+qRPtzo5SiCdffRzJk5lIYJ/o1QdgyoidPO6kz7pSn7hi7DZOhmNo23y4BFYRVu/9yNuqMPEqEqQZ9pTvzz/VxOPYrrmspRxJruo+cwc2hDYg9THzB/dKzJ+Avd+dXdiTM9e/BridnsXvsx5V86eqkj4Mc+dF9ynuR/tJPZv6JX3P9PCPHWkzAmhEgjfcj5SR9yxsSFHKetZ1jS/CmX1N5c0+SjbE1rKhVKelGHhxs+otawI6jy5aTy4PVsmdyYdzIinCi3+albXcYcjEBVwomtZ5bQ/Okl1N7X0OQrS03rSsQ/TA0nJ9rRYUUOGjd8gm+UE1t++xK7l90hIIQQaSSfy4QQaaMPOXt2uceuXq8q/j6OjXKDWSEqN2zF+83skg1iKMH8HXAfE8J5QmMGD8+gIKan3N7DLvfYo6T4+47EHWZlGrZ6n2Z2LwYxA3Oq1qyMhfYiJ2+1ZPHaCRLEhBAZSsKYECJNlNt//BdyWseFnBRRHnJ8dk/6rsrBwM+bYfHkBPuPxC0Ym/4Ubv+xi7jDLE5rx0YpWgVfZWGBudm7fPz9PDqXkLdJIUTGkncZIUQaKNzaswuPp/ov9SHnfcfGKdvqRx/Ejs7sSe9l4fRcuZ7J/RpRxTSYI3uPxq5Tlu6UW+zZ5UHcYb6PY+OUHGUIh/YcIbRkG7o1zGMsE0KIjCNzxoQQaaDjpvvvHL8aBWalsOvsQLmX7fmjBHFkek/6Ln1Iu+W/80P3MphGHWGsTWd+ju7DJm8X2qa0dy2ldDdx//04cYdpR2eHci/fmujxb/SvMwiv7jvw+q4JOY3FQgiRUSSMCSGEEEJkIRmmFEIIIYTIQhLGhBBCCCGykIQxIYQQQogsJGFMCCGEECILSRgTQgghhMhCEsaEEEIIIbKQhDEhhBBCiCwkYUwIIYQQIgtJGBNCCCGEyEISxoQQQgghspCEMSGEEEKILCRhTAghhBAiC0kYE0IIIYTIQhLGhBBCCCGykIQxIYQQQogsJGFMCCGEECILSRgTQgghhMhCEsaEEEIIIbKQhDEhhBBCiCwkYUwIIYQQIguZPHnyJMb4tRBCCPGvmJgYPv/889g/hRAp17t3b5o0aYKJiYmxJHkSxoQQQiQqODiY2rVro79OoFLJQIoQKWUIYf3792fBggXGkuRJGBNCCJGoixcv0rdvX95//31mz55tLBVCpDf5qCOEECJR9+7dw9TUlKJFixpLhBAZQcKYEEKIRBnCmGG+WLFixYwlWSAykL8vhxmfvFl0Ny/hH2J88gaLDPybN60J07vtJIwJIYRIlCGMRUdHJxvGNME3uOzvz+XbISjGsnQTcY4VE5dxFnNjQTahCebGZX/8L98m5BUqbZLjKr9+OZfjj9L9J5cGGoJvXMbf/zK3X6VSL4g4t4KJy86S/Zrw1c7b9G47CWNCCCESdf/+fSIiIrCysjKWvEDjy8IP6mFTrx717PrxU4DO+I10oATj9s0sbnSbzEcVs9OVXIPvwg+oZ6Ovcz07+v0UQFprrSrWlnGfRLN43EYC0/FHlxYa34V8UM9GX6d62PX7ifRoSiXYjW9m3aDb5I/IXk346udteredhDEhhBCJunv3LiEhIUn0jOnw/2kSS31L4uQ8gzbmR5k7dTO306lTJezEfObfc+R/jS2NJdmDzv8nJi31paSTMzPamHN07lQ2v0Kl89T/H/1zruQb17vp37OYUjp/fpq0FN+STjjPaIP50blM3Xz7FY8njBPz53PP8X9kryZMv/M2PdtOwpgQQohE3blzh6ioKN555x1jyX+UGxv5+jsvSg9dyuwBw1m84EMs9s1g+p4g4ytegS6QDQv2U7GHI8WSuEpp/fey4ofNqIMyMcIoN9j49Xd4lR7K0tkDGL54AR9a7GPG9D2k/TAK0LJ/Uy59txiPKGNRplK4sfFrvvMqzdClsxkwfDELPrRg34zp7HmFn60ucAML9lekh2OxJIKGFv+9K/hhs/oVfnapl77nbfq1nYQxIYQQibp9+zZFihRJdOFKTXQ5ejn/xoavGpJPfymx6jIfV9dv6VAkwviKtNP6rGG1by1aNclrLHlBhD+/Th/N+MlL+PNOJl7JNdGU6+XMbxu+omE+/QXUqgvzXV35tkMRIl7hMMxrtaWZdhsr9wQbSzKThuhyvXD+bQNfxVWKLvNdcf22A0XSXCktPmtW41urFUk34a9MHz2eyUv+JHObMH3P2/RqO1lnTAghRKIqV64cO0R59OhRY0lm0HDqSzs6nx3E6d3DKP1vl4GO65vH8PmPaq5fucS1x1owq8WEI4eZXNPM+JrXVTg7BlRnZNRcvDf0JGE/5GtGc4ov7TpzdtBpdg8r/V+vj+46m8d8zo/q61y5dI24JpzAkcOTeX2bMH3aTnrGhBBCJGC4i9IgJctaaIL8UR89xBHPAB7pL7CvRHset4PXKVSpGkXjXaFMyFOmPq07dOeTkRPpUye3sTyraAjyV3P00BE8Ax7xatW2oGrVsoQd38vhUGNRlkifOmnPu3HweiEqVSsaP2SY5KFM/dZ06P4JIyf2IeubMAh/9VEOHfEkIM0nbvq0nYQxIYQQCTx48IBcuXIluuBr1IGRVHunMA1G/8SSYS2oVrkerTp2plPLutRoNAzXa2m/vUy5447HlRhKlS1D/M4SFYXs+zBq7FjGjh1BhyoW+niWmaI4MLIa7xRuwOifljCsRTUq12tFx86daFm3Bo2GuZL2aptSqkxJzJ/44OGrMZZlhoyok8Iddw+uxJSibJkXurtUhbDvM0rffvo2HNGBKhaZ24L6E5eR1d6hcIPR/LRkGC2qVaZeq4507tSSujUaMcz1WhrujE2ftpMwJoQQIgHDGmPm5uaJ9IxpueThxV2thgsbndlv2olZm934a98GpnV8l6d/r2finH2ktZNAc/48l3TmFCleTH+Zy0a0l/DwuotWc4GNzvsx7TSLzW5/sW/DNDq++5S/109kzr60d42YFSlKwZgbnDt7L/PuqsyQOmk4f/4SOvMiFC+WrVpQX10PvO5q0VzYiPN+UzrN2ozbX/vYMK0j7z79m/UT55CWJkyPtpMwJoQQIgFDGDNM3E8QxpQg1OrL6PI2YfphD3YvHk3PVvbYNuzESOcvaJE7hiDPU/ilqZNAISjwGo/JT8GC2WsSkRKkRn1ZR94m0znssZvFo3vSyt6Whp1G4vxFC3LHBOF5ys/46tQzLVqEQiqFW4HXX3HIM+UypE768yPw2mPIX5Ds1YT6c0ut5rIuL02mH8Zj92JG92yFvW1DOo105osWuYkJ8uRUGk7c9Gg7CWNCCCESMCz4qtPpEoaxp2o8zkZhVr01jhXzGAvjqCxLUNxSRczTcCLTdGuYog+BQcSY5CFf3kwewnqJp2oPzkaZUb21I/GrrcKyRHEsVTE8DY80lqWeSe485ELHgzt3Mi2MZUidlHvcC4rBJE8+slcTPkXtcZYos+q0dqxI/OpaUqK4JaqYp4Sn4cRNj7aTMCaEECIBw4KvGo0mQRjTnPPgdIiKMvXqU/LFUSjtE0LCFVSFilAkTSNUOsJDI/SRzJQcOYxFr0oJ4eali/z999/JPC7ifzu58SkN5zxOE6IqQ736JRMMn2qfhBCuqChUpIixJPVMLHKSQx9eNE8jyJzlxjKoTrpwQg1LYpjmIP2a8CaXLibWbs89LvqTfBOew+N0CKoy9aif8MTlSUg4iqoQRdJw4qZH20kYE0IIkYBhmDIsLOyFCfw6bnl4ck3JT+36NRNsN6jx8+FCuAmFa9WlXBqHqBTFMIU6hpj0mjgV7c3aSV/wxRfJP6ZuOGf8C4nQ3cLD8xpK/trUr5mg1vj5XCDcpDC16pYzlqWeyjwnOfUX9BhNFJrMmDSWYXVSiGvCGP1X6SPaey2TEmmz+I+pbDiX9BCj7pYHntcU8teuT8Lq+uFzIRyTwrWom4YTNz3aTsKYEEKIBAw9Y48fP35hX8pQPDwuEJ2jBrb1XlyXIIyTm3YSQBk69WhC2lYtMMEilwUmMdFEadJpCcyczZjsups9e/Yk89jNpnENjX8hEaEeeFyIJkcNWxJW+ySbdgZAmU70aPIKazUYw4tJDnPMM+PKnFF1MrEgl4UJMdH6YJJuTTgZ192Jtdtzj92bGNcw6Q0wQz08uBCdgxq29RKcm2EnNxFX3R6kqQnToe0kjAnxpokM5O/LYcYnbzfdzUv4hxifiFQxrL6fI0cO8uR5bnZNlDfuPmGYlrPBNt4+RQrBR2Yzaf01LFuOYljjuCtapMcCevV2xuvfsRuFBwdm0HvgUk4neoqqyJcvrz6SRRGVJVsDJS7K2x2fMFPK2djG355JCebI7Emsv2ZJy1HDiKt2JB4LetHb2eu/ISvlAQdm9Gbg0tPGgoSUp5Gx4SWXpSU5jWUZKWV1Gkql/WNxHO3KvX97fBRu7hjPRyN+JSCxCVKqfHHz/fQNmH2aMApvdx/CTMthYxt/eyYl+AizJ63nmmVLRg2txP6xjox2fe6uSOUmO8Z/xIhfA5KcD5YebSdhTIg3ScQ5VkxcxtkEA0jP0QRz47I//pdvE5LGLvVM84rHapLjKr9+OZfjj7J7RbMfwwT++L1ioL3izpm7CjHBJ1jrspXDnr74qg+wYbYTbXq5cKV0H5wXOvGecdqNhXVTKgf+wNLdQbEXtxD3ufSb7EeLsYOwSXSbHDNKli6OmRJOyJMXV3zSBz71JpY4O+PsvIy9/lHEKEGc3rxU/9yZRT/9ydXULxKVAlquuJ/hrhJD8Im1uGw9jKevL+oDG5jt1IZeLlco3ceZhU7vGeddWWDdtDKBPyxld+ymiyG4z+3HZL8WjB1kE/uKxChhoYTFmFK0hNUL66tlhJTWqTzFbKtiumMlm40/3FD3OfSfdYv2I3tQPrEDNStJ6eJmKOEhJGzCYNSblsS2l/OyvfhHxaAEnWbzUkObLuKnP68aX5jOtFdwP3MXJSaYE2td2HrYE19fNQc2zMapTS9crpSmj/NCnMoXw7aqKTtWbjaeS6G4z+nPrFvtGdmjfJLtkh5tJ9shCfGm0L/RuU0cyrGOPzKjiaWx8EUafOe2ofWs0zw1saT5/MP8Nrh89lrP6V/pc6zh6pn0X1GOeT/2oWz2rGi2ExMTE7sVUtmyZXFzczOWKtxf3Z2aIw9TqFoFIvwvEvysqyBHIWp1Hsmc2cNxsHr+h6xwc01Pmm9ogOt3Fkz/zA2HZRsYWTf+XZjP05z6Evv2Kyg+5xy7hpR4rsdAx8V5LWg40zvRHgqToh+z+bwLbS2MBelFuc/q7jUZebgQ1SpE4H8x+N//f45Cteg8cg6zhzsQv9o3WdOzORsauPKdxXQ+c3Ng2YaRJFNtoo6Nw9ZxLRWdL+DqVNhYmkFSVaeHbPnYjsWVf+NAb18+/egXqix2ZbJ9vtjXJ2TYzsqe9iuKM+fcLoaUeK7PR3eReS0aMtM70Rak6MebueLS1vg8/Sj3V9O95kgOF6pGhQh/Lv534lKoVmdGzpnNcAeruPeWh1v42G4xlX87QG/fT/nolyosdp1MktXVS4+2kzAmxBsi7NiXdP2pJutX944/7PAcnf8yOrecwu0u83G6N4tvTtvjcmwdvZ9/w8wm0u9YH7N3WBc2N93Eqh5WMhyQAqGhodjZ2WFjY8O6deuMpRHsGVKT3ltKMvHYQUYXuYKPXyAhJgUoU82aKkWTGKAJP8yYRk5sj6nO4B9/5Uv7AsZvJCF0G/2qDebiADdOTquXCb1ELxGxhyE1e7Ol5ESOHRxNkSs++AWGYFKgDNWsq5B0tcfQyGk7MdUH8+Ov+oD5kmqHbelDxSH/MPSvY0yxzuBap7JOYfuGYTc+kCoFHlFs7DaWdn4+JCcUuq0f1QZfZIDbSabVy/IW1Fd3CDV7b6HkxGMcHF2EKz5+BIaYUKBMNayrFH1haDGMfcPsGB9YhQKPijF221I6v+Q9Jz3aTt6XhHgT6ALZsGA/FXs4JhnEUG6w8evv8Co9lKWzBzB88QI+tNjHjOl7iB1NyU7S9VgL0LJ/Uy59txiPbDQPKTsz3Elp2Aop3rIWGj/cvYIxKW5DgwpmWBStgn3ztrRpZp90ENPT3LrBfW04USXb09P2JYnEII89jevk4Ia/v/6ymPU0fu54BZtQ3KYBFcwsKFrFnuZt29DMPukgZugdunXjPtrwKEq278nLq63lWsANoq30da+W8eEltXXK27wnbWO8Cem4nO9fEsQM8tg3pk6OG/j7Z4sWxM/di2CT4tg0qICZRVGq2DenbZtm2CcIYgZ5ad6zLTHeIXRc/v1Lg1h6tZ2EMSHeAFqfNaz2rUWrJolOxImjiaZcL2d+2/AVDfPpf/mtujDf1ZVvOxTBsCxQtpLOx2peqy3NtNtYuSfYWCKSY5gvZmZmFi+MKXfVeF1VyGfdgDpJZ694tNe2MWLgGkrPdqHrzdUsPxVh/E4yVCVo274e+F/gYmZu05gohbtqL64q+bBuUCeFk7P1F+dtIxi4pjSzXbpyc/VyXl7tcPz8Ainasj12KfzZpl0a6qQJ4mFEdTp0rU5KRoFVJdoS14QX9VEoiyl3UXtdRclnTYMUnriaoIdEVO9A1+opqW36tJ2EMSGyPQWtNrmZyRo8t/3OP1VssU1mTgoW79HI0ZGG5f57x7Cs0ozOnex5N+tHEuJL72M1r4VdHQ1/uf6JxLGXM/SMGTwfxrS3oyns0IpeXRqS31iWHOXOHsZ9vAizcWuZ6fgBQ/vmZ/vSbdx5aZhWUarrRzR9dIKj/2TIjPxU0HI7ujAOrXrRpWGKas2dPeP4eJEZ49bOxPGDofTNv52l2+7ov5OMyDOc9LWiW5+0LgmSGqmtk/4dxtcd3wI22JVJ4aRLVSm6ftSURyeOkvVNeJvowg606tWFlFVXg6+7LwVs7EhRddOp7SSMCZFtRXHz+Cq+/LAZTmtuGcsSoT2P28HrFKpUjaIp/o3WEOSv5uihI3gGPNK/PWdj+k/l/uqjHDriScCjtB6pBVWrliXs+F4Op30v57eGIYxptdp4C76a249i3Q5X5nUv9dILh/LgIFP7zuDxkDU4O5bCFDOqfjIY29M/stLn5X0lKqtuDOn6hD//CCBrr+Xm2I9axw7XeXQv9dJa8+DgVPrOeMyQNc44ltJfyc2q8slgW07/uJLkqh3psQePcv0ZaPsKXSsplpo6GegI9DjDk9r21ErmJu34VFh1G0LXJ3/yR0AWpzFze0at24HrvO6krLqBeJx5Qm37Wsndk/6v9Go7mcAvRHajhHBp72oWL93A6ZxN+GTE/+jXolySn7qUG8voWOcroqd4sW/Us9vrXxTFgZHW9NhgidO3vdH8uohNXveJNnzLJB9V+y5my+IPUvZJMKNFHWCkdQ82WDrxbW8Nvy7ahNf92CPVH2pV+i7ewuIPyqT+rsotfajwmR/9dquZ2ygFb7Naf/ZuuEqlvm0on+L/mf6CvLYntUf9SUSi76wqCnT9icDV3YzPs6dvvvmGLVu2sGHDBqytrY2lmUu5u4VB/Tzp5zqfZsncyfbaU+6xefAgLn66ma/tUt+3ovXfy4arlejbJrvdFa1wd8sg+nn2w3V+M97IJnzFtnteij9HCyEymPY+Xhun64NXCwZvCqHRjD0c37GAIckEMQPN+fNc0plTpHixpN+MtZfw8LqLVnOBjc77Me00i81uf7FvwzQ6vvuUv9dPZM6+7NFlpL3kgdddLZoLG3Heb0qnWZtx+2sfG6Z15N2nf7N+4hzScqhmRYpSMOYG584+t6BjcjR+bF3gyt9xOTDFosu2Z9xXU5gy5b/HV6McqWihEFOgPp9/1tL4yuzLMGdM/0E9/gT+TKay6s6sYRpWLjqVLSbyZwyF+3u/Z1/5yYxJ48Vc47eVBa5/x32wylZUWHWfxTDNShadehNb8NXb7nkSxoTIahHXOLxiHN0cOjLleH56/niQQ+u+pne9oim4rV8hKPAaj8lPwYJJv1oJUqO+rCNvk+kc9tjN4tE9aWVvS8NOI3H+ogW5Y4LwPOVnfHVW0tdHreayLi9Nph/GY/diRvdshb1tQzqNdOaLFrmJCfLklF/qpwWbFi1CIZXCrcDrGTgsq6JE0/6MHjuWscbH6L61eHT4EFdyN+XrLZuZYJ/UGnDZh2ErpIT7UmY2FcU7z2ZC8d9ZfvjN3EZBe3EDi70dmDbe/s3sOVIVp/PsCRT/fTlvWhOmd9tJGBMiKyn3cB3Rhg++PkapcZvZ4TKKDpUtU/GLqXDvXhAxJnnitiBJwlO1B2ejzKje2pGK8Sb5q7AsURxLVQxPwyONZVnpKWqPs0SZVae1Y0XiH6olJYrrfzYxTwmPTP3sCpPceciFjgd37mTaHDnttR2MdPyYH27ZMn3br4ypn/2DmMGtW7fInz9/7B2VWSsPtQbOYniDZO4Sfo2ZlfuQKV915N3sNb6YvvLUYuCs4bxpTZjebSdzxoTIakoIF//4mSVL1uNu2pB+w0cwoF2lFH7aiuLo2Ho4rsrJcLeTzLBNbC6UBvfJ9rRbBkP+cGdOg/ivCXftR+X+uyk38RjHJlU3lqaBvh43L98hVEnuLcUEU8uSVCqRRO007ky2b8cyhvCH+xziH2o4rv0q0393OSYeO8Sk6qkLCsqd5XSqMR6P5ku5vK0fBY3lzyghN7l8J5R/D19zmK97HaX1pqk0zmEsMzHFsmQlkjr850X5r+fzHqPZEdmCb7euYnDN5G51zRoajQZz84TnjGH1fUtLS9RqdezziIgInj59Gvu1yByGn3/CMKwQcvMyd0IV/jtNv6bX0dZsmtqY/05TS0pWKpHoe4hh83edLqtvcXxzmZiY8M477xifpZyEMSGyjUhuHNuAy6IV7H9Qle7DRvLZB9YUTvaTVxSHR1vTZU0u/rfvFDPtEgljuqssalePqZccWeO3mq7xPqFqUE9pSJvFT+i92QeXtq8w9yHqMLN6f8fJZHutTMjXbBKbxjU0Po9Pd3UR7epN5ZLjGvxWdyX+oaqZ0rANi5/0ZrOPC6k+1Ier6VZ5JEcaLuDCjk8TLI4bdXgWvb87yb+HHxOM/+mHFK1XkX/X7DTJR7NJvzCuYWKh9z9hZ5czsOckDpi1Z8HWn/ikanrv0fPqQkJCmDp1KosWLTKWxDFcqKtWrUqVKlXYuXNnbNm8efNYvnx57Ncic2zevBlbW1vjs2f0v++zevPdych/w1hMsD+nHxalXsX/VpY1ydeMSb+MI7HTtGXLlly9mkF7QAosLCy4cOGC8VnKSRgTItvR8fDsbyxftAxXv0K0/nQkw/o68G6i13MN7pMMvV5aBu3yZL5DIrdXP95E7xqDcav9Ld67hlL6+RASZtiqpiurYwaww30BTV99HuorebypNzUGu1H7W292DS0db7g2zLC9TNfVxAzYgfuCpqlf0ydoFV2qjOJ40yVcdnVK0DOWQMR2BtjvpZt6BR1TnKUUHrl/z8e9Z+GeryuLtv5An0qZsVwBPHr0iD///JMePXoYS5I3bNgw1q9fHxuyevXqZSyFBw8exF6wDdshrVy50lgqsquI7QOw39sN9YqOKVqQVWRPMmdMiGzHlEK1P2TyqkMc/XUwpc8tZMb6pD7JqsiXLy8m+k/MUUls9RPl7Y5PmCnlbGzj9wYpwRyZPYn11yxpOWoYjWPTTSQeC3rR29lL/y8aKQ84MKM3A5eeNhZklCi83X0IMy2HjW2xeG9OSvARZk9azzXLlowaWon9Yx0Z7frcXZHKTXaM/4gRvwYkOR9MeRqJRv/RM5elZQpXUk8thfsHv6H7hzPxKNCDZduXJxvENJd+4rPP15BeyzD98ccf/Pbbb2jPr2GYYxPq1a1LHesGdBm/hUsvnBsHDhzAz88vdkNwHx8fY2kcwxpjOXPmzNI7KYV420gYEyIby1v+ff636DdWDipnLHmRGSVLF8dMCSfkSWJXdS1X3M9wV4kh+MRaXLYextPXF/WBDcx2akMvlyuU7uPMQqdn65NZYN20MoE/LGV37CaQIbjP7cdkvxaMHWQT+4oMo72C+5m7KDHBnFjrwtbDnvj6qjmwYTZObXrhcqU0fZwX4lS+GLZVTdmxcjNXY6scivuc/sy61Z6RPconeQeqEhZKWIwpRUtYZcjm0xEnZ9CtrzOe4cVxaFuF2zuX4ezs/O9j0U9/Emg4Xu3frB7agRbdvua3c7eSWI8s9Xbt2oWjo6P+Xb0Ijcas4bDXGc78tZC6nuMZu/qa8VVxDMMo//zzT+zXR48ejf3zGUMYMzXV/5yy9E5KId4uEsaEyEq6AH78yJoaNWok87Cmz6r4F9Pn5S7/HqVMnxJ0//F/PUXPKMGoPS+hNStBkdDdzBjoSMvGjWnV7XMWHM9J22mu7FnchdLPzUszrzuIwbVOsPyX85xdNpBRHm354edBVMvgMRAlWI3nJS1mJYoQunsGAx1b0rhxK7p9voDjOdsyzXUPi7uU1odGw3Y5vWh8ZQsb/SL5Z/1QRhxpxpLl/SifTMrSBQXxOCYHZStWSNHK2qmj4fzenfgZllPS3uLA0q9j52M9/5i22S+ufcyq0n/ZHv5a3jv+kPErCA8Pjw1V7dq1w6xaB3o3e4+8+n9b9U4dbKvl5N6tuO2NnilQoACffvoppUqV4vLly8bSOIZlLRRFwcrKylgihMhoMmdMiNdd6Db6VRvMxQFunJxWL36vT8QehtTszZaSEzl2cDRFrvjgFxiCSYEyVLOuQtEkRtHCDfOznLYTU30wP/76Jfb/zQ3OMBF7hlCz9xZKTjzGwdFFuOLjR2CICQXKVMO6StEXhhbD2DfMjvGBVSjwqBhjty2lc4nkk03Ylj5UHPIPQ/86xhTrjOgbS52oY+NoMLkAaw9OpuZLD0fhgftqVhzWUtoyiNAKvahwfDY+bZ2Z0CAv27dvZ82aNfz+++/G18dR7royqMUMLJeeYGGLhHdzDh06NHaV/TNnzlC+fPnYsoULF8b+W4sXL6Zp06axZUKIjCU9Y0K87vLY07hODm74+ydYqVzj545XsAnFbRpQwcyColXsad62Dc3skw5ihl6eWzfuow2PomT7nthmQhAz/D/93L0INimOTYMKmFkUpYp9c9q2aYZ9giBmkJfmPdsS4x1Cx+XfvzSIGYZrrwXcINpK/7OqlvVBLLUivebx8dc3aTX8M/oN7o75jk+ZG9CUXvXj7jf9d4jyeaGefD9wCpe7OjOlWeLLajRq1Ch23tizuyYNDMOUhmUsZM6YEJlHwpgQrztVCdq2rwf+F7gYb2F6hbtqL64q+bBuUCeFk9b1oWXbCAauKc1sl67cXL2cUxHGb2Uk5S5qr6so+axpUCdlR6oJekhE9Q50rZ6S8dNw/PwCKdqyPXYp++czmcL9oyuZNX06059/zFrNyYd32bbgFyz7fIatIVNF3ODCuYL0nt47dsFJw1phhrsoO3bsGPdP6SlBx5nd81P21PqeLdOb8U4S7/SGMGawf//+2D8NDGHMsOyFzBkTIvNIGBPitWeYQ/URTR+d4Og/z0/i13I7ujAOrXrRpWF+Y1lyFO7sGcfHi8wYt3Ymjh8MpW/+7SzddidurlNG0t4murADrXp1IUWHigZfd18K2NilbHPzyDOc9LWiW58mqV8SI1OoKNrkUya/MM9s6uT+NMz7N14XK9O6TVH9qx5zZPY03BuP4eNiT/UREw4dOhS7JtiznizN1d8Y1W0kZ1ovx3VWW4on8/MpU6YMRYoUib2z8pk7d+4QHR2dpoUrsyNdyDW8jx/i0Ek/7maHTSZECuh49I8Xxw4exuNycPw7pCPv8bf7EQ4e8eSfx+l0K3I2IGFMiDeAyqobQ7o+4c8/AvRvY8+YYz9qHTtc59G91Mt+1RUeHJxK3xmPGbLGGcdS+iu4WVU+GWzL6R9X4pP6rSBTx9yeUet24DqvOy89VANdIB5nnlDbvlaKJuNHeuzBo1x/Btpmg24x7RkWdLGl4ZAtXLv4E33s7Bi07rbxm4kwe486lZ/id+Qg2xZMZ3fxbthfWcmMX32J0qdkwxBjp06djC/WcunX71l/+QkB64fR2tYGGxsbbDt/Z/x+fIbVwps1axa7KbihN8zg9u3br3WvWNSBkVR7pzCNvliNy4h21KxUi6btO9O5bQOq1/mAJWcyo6tXpE4UB0ZW453CjfhilQvD21SnsnULOnRxpHW9WjT7cj/3g7xYO6ErdStUwe79TnTp1JK6NZsz5VCw8d94vckEfiHeEMrdLQzq50k/1/k0S4+da98Uyj02Dx7ExU8387Vd9uwXeyntY64HPMC85HtY5YXHt+9hYlWCvDE6KlSoENs7VrZsWeOLU8cwWX/EiBH88MMP9OnTh0qVKlGiRAkOHz5sfMXrRIvvrKY0m3sOxawQNRwHMOjDllQvHMG5tZOYsP4iFo4/cW59j/92VRBZT+vLrKbNmHtOwaKkHR8O7E/Xxu9hfmM/3325gMPBBSn+TjSmlbszpH8X7MqacWPHNEYv8SCq+ffc3zHI+A+9vqRnTIg3hMqqO7OGaVi56FSCifxvL4X7e79nX/nJjHldg5iBWQHerVxRH8QMY46mFNCHJUv9u/fJkydjg1Nag5jBs3ljhpsAIiMjUalUr+/kfSUItfoyurwNmLDPkyNrpvBJh4bY2rXCaVRPaplBxMP7PMnwcXeRGkqQGvVlHXkbTWb/qb24fPERrezr0+TDsQxoov9kqeTE9qs/8djjzIjuzbCr15huI3pSV9+e2sePjP/K603CmBBvDBXFO89mQvHfWX44bsjpbae9uIHF3g5MG2+fwo3XXy+GDb1f3FsytQw9a4ZNqQ3LW9y/f59cuXK9vsOUT9V4nI3CrEYHPrIpbFzIOI4u5DEhMSbkf7ccheXKl608VXtwNsqMGu26U6vAc42jPOFB0FPIVYe2jlXj/Q4rDx7wKAZyl077B5HsRE5JId4oeag1cBbDG8TbYvutZVbuQ6Z81TH2rsM3kSE01atXz/gsbQzzxho3bhx7F6VhvliOHDle254xzTkPToeoKGtbn5Lx2lwh+Ow5rutyUru+jezhmK1oOOdxmhBVWWzrl4wXoA033nhfiMasig22lsYyo9CzvlzR5qB6/Rc3U389SRgT4o1jSs6cb2j6SK2cFhm0D+WbpUWLFrHrje3bty82nL2eYUzHLQ9PrimWWNvVfOHGjki81GeJMqtMfbvCcuHLTnS38PC8hmJpjV3N+K2mvejJ6WATStStT9l4b2lReHv4EGFaVt+eJYxlrzc5J4UQ4i1n6BkzMKzgr9PpXtMwFoqHxwW05rWob5vLWGakOY/HmceYFLOhQcXXb9HfN1qoBx4XtJjXqk/8ZjOsk+hJgDYvtevXjv+hSntF3573iClYD/sa6b+5WVaQMCaEEG85w9yzPHnyEBAQEDuJ/7WcMxbljbtPGKYVbbErEv/Sptz1xOuqjrzW9lhLV2m2EuXtjk+YKRVt7YjfbBF4qc8RnaMa9evHn/EZu4+tvxaLOvbYviFjzhLGhBDiLWe4g9LWNm7uTVhY2GvZM6a94s6Zu1DYuj6VX+j8Cld7cF6bg2p2dm/kjRyvLy1X3M9wl8JY168cf19dzTk8fJ6gKlMPu/gTAIn0UnM20ozK9e2S3F3idSNhTAghBG3bto3907AA7OsXxhSC1Z5c0lpQx+7FCfoaznr4EKoqS337FyaIi6ylBKP2vITWog52NvFbTXfTA69Ahfx16hN/JFLLBY/TcfvY2pePH+BeY7LoqxBCCM6ePYuDgwM5c+bkwYMHxlIhRGaQnjEhhBDUqFGDcuXKYW7+ZkyIFuJ1ImFMCCEEpqamsdsi5c79Gu9UIMRrSoYphRBCCCGykPSMCSGEEEJkGfg/EBcAFXhQm74AAAAASUVORK5CYII=)"
      ],
      "metadata": {
        "id": "95RP6ZCbGsIa"
      }
    },
    {
      "cell_type": "markdown",
      "source": [
        "##### 90% интервалы #####"
      ],
      "metadata": {
        "id": "voaDZbJtFqSz"
      }
    },
    {
      "cell_type": "code",
      "source": [
        "z_crit = sts.norm.ppf(1 - alpha_1/2)"
      ],
      "metadata": {
        "id": "NJA_0iixFrYi"
      },
      "execution_count": 218,
      "outputs": []
    },
    {
      "cell_type": "code",
      "source": [
        "# p_1, p_2, 100, 300\n",
        "\n",
        "n = 100\n",
        "m = 300\n",
        "\n",
        "(p_1 - p_2 - z_crit * np.sqrt((p_1 * (1 - p_1) / n) + (p_2 * (1 - p_2) / m)), p_1 - p_2 + z_crit * np.sqrt((p_1 * (1 - p_1) / n) + (p_2 * (1 - p_2) / m)))"
      ],
      "metadata": {
        "colab": {
          "base_uri": "https://localhost:8080/"
        },
        "id": "9cjgXMdsFFyb",
        "outputId": "bb4af337-4a4b-4b50-8112-7dd2853f752a"
      },
      "execution_count": 222,
      "outputs": [
        {
          "output_type": "execute_result",
          "data": {
            "text/plain": [
              "(-0.10986159954507936, 0.07652826621174603)"
            ]
          },
          "metadata": {},
          "execution_count": 222
        }
      ]
    },
    {
      "cell_type": "code",
      "source": [
        "# p_1, p_3, 100, 1000\n",
        "\n",
        "n = 100\n",
        "m = 1000\n",
        "\n",
        "(p_1 - p_3 - z_crit * np.sqrt((p_1 * (1 - p_1) / n) + (p_3 * (1 - p_3) / m)), p_1 - p_3 + z_crit * np.sqrt((p_1 * (1 - p_1) / n) + (p_3 * (1 - p_3) / m)))"
      ],
      "metadata": {
        "colab": {
          "base_uri": "https://localhost:8080/"
        },
        "id": "j_dwnbI7IA-q",
        "outputId": "4415fadc-ad02-4053-958b-9d07bb272c1c"
      },
      "execution_count": 223,
      "outputs": [
        {
          "output_type": "execute_result",
          "data": {
            "text/plain": [
              "(-0.11158884271750007, 0.05758884271750013)"
            ]
          },
          "metadata": {},
          "execution_count": 223
        }
      ]
    },
    {
      "cell_type": "code",
      "source": [
        "# p_2, p_3, 300, 1000\n",
        "\n",
        "n = 300\n",
        "m = 1000\n",
        "\n",
        "(p_2 - p_3 - z_crit * np.sqrt((p_2 * (1 - p_2) / n) + (p_3 * (1 - p_3) / m)), p_2 - p_3 + z_crit * np.sqrt((p_2 * (1 - p_2) / n) + (p_3 * (1 - p_3) / m)))"
      ],
      "metadata": {
        "colab": {
          "base_uri": "https://localhost:8080/"
        },
        "id": "b8MWr7WKICOR",
        "outputId": "71f657b0-aef0-4175-d3a3-315cd90fdeea"
      },
      "execution_count": 224,
      "outputs": [
        {
          "output_type": "execute_result",
          "data": {
            "text/plain": [
              "(-0.06375579346799798, 0.04308912680133136)"
            ]
          },
          "metadata": {},
          "execution_count": 224
        }
      ]
    },
    {
      "cell_type": "markdown",
      "source": [
        "##### 95% интервалы #####"
      ],
      "metadata": {
        "id": "wgPHUQcaI4n6"
      }
    },
    {
      "cell_type": "code",
      "source": [
        "z_crit = sts.norm.ppf(1 - alpha_2/2)"
      ],
      "metadata": {
        "id": "rzBy_j0kI7RT"
      },
      "execution_count": 225,
      "outputs": []
    },
    {
      "cell_type": "code",
      "source": [
        "# p_1, p_2, 100, 300\n",
        "\n",
        "n = 100\n",
        "m = 300\n",
        "\n",
        "(p_1 - p_2 - z_crit * np.sqrt((p_1 * (1 - p_1) / n) + (p_2 * (1 - p_2) / m)), p_1 - p_2 + z_crit * np.sqrt((p_1 * (1 - p_1) / n) + (p_2 * (1 - p_2) / m)))"
      ],
      "metadata": {
        "colab": {
          "base_uri": "https://localhost:8080/"
        },
        "id": "3EsTaZViI8YU",
        "outputId": "baec7bcd-7b92-48fc-8a98-fc5eb19bc28d"
      },
      "execution_count": 227,
      "outputs": [
        {
          "output_type": "execute_result",
          "data": {
            "text/plain": [
              "(-0.12771527852512815, 0.09438194519179482)"
            ]
          },
          "metadata": {},
          "execution_count": 227
        }
      ]
    },
    {
      "cell_type": "code",
      "source": [
        "# p_1, p_3, 100, 1000\n",
        "\n",
        "n = 100\n",
        "m = 1000\n",
        "\n",
        "(p_1 - p_3 - z_crit * np.sqrt((p_1 * (1 - p_1) / n) + (p_3 * (1 - p_3) / m)), p_1 - p_3 + z_crit * np.sqrt((p_1 * (1 - p_1) / n) + (p_3 * (1 - p_3) / m)))"
      ],
      "metadata": {
        "colab": {
          "base_uri": "https://localhost:8080/"
        },
        "id": "3sVB4A1MI8QX",
        "outputId": "0bb2d182-967a-45cb-e723-e18304b19232"
      },
      "execution_count": 228,
      "outputs": [
        {
          "output_type": "execute_result",
          "data": {
            "text/plain": [
              "(-0.12779382292970115, 0.0737938229297012)"
            ]
          },
          "metadata": {},
          "execution_count": 228
        }
      ]
    },
    {
      "cell_type": "code",
      "source": [
        "# p_2, p_3, 300, 1000\n",
        "\n",
        "n = 300\n",
        "m = 1000\n",
        "\n",
        "(p_2 - p_3 - z_crit * np.sqrt((p_2 * (1 - p_2) / n) + (p_3 * (1 - p_3) / m)), p_2 - p_3 + z_crit * np.sqrt((p_2 * (1 - p_2) / n) + (p_3 * (1 - p_3) / m)))"
      ],
      "metadata": {
        "colab": {
          "base_uri": "https://localhost:8080/"
        },
        "id": "uFzp9tNvI8Iy",
        "outputId": "7ec65e99-29e6-4dcf-c629-18899ec15619"
      },
      "execution_count": 229,
      "outputs": [
        {
          "output_type": "execute_result",
          "data": {
            "text/plain": [
              "(-0.07399012085158138, 0.05332345418491477)"
            ]
          },
          "metadata": {},
          "execution_count": 229
        }
      ]
    },
    {
      "cell_type": "markdown",
      "source": [
        "По проведённым опытам я вновь пришёл к выводам, полученным в 2.2, разностные доверительные интервалы тоже подвержены тенденции к увеличению точности с увеличением выборок, т.е. значений больше - интервал уже, а 95%, что логично, шире, чем 90% аналоги"
      ],
      "metadata": {
        "id": "Z3_UpV3MJNGy"
      }
    },
    {
      "cell_type": "markdown",
      "source": [
        "## Задание 3 ##"
      ],
      "metadata": {
        "id": "K-EzBIu3J9Xa"
      }
    },
    {
      "cell_type": "markdown",
      "source": [
        "### Пункт 1 ###"
      ],
      "metadata": {
        "id": "RdOPE03yUZ57"
      }
    },
    {
      "cell_type": "markdown",
      "source": [
        "#### Подпункт 1 ####"
      ],
      "metadata": {
        "id": "VdHxa3NlUBMt"
      }
    },
    {
      "cell_type": "code",
      "source": [
        "n=100\n",
        "norm_rv = sts.norm(loc=a_2, scale=np.sqrt(a_1))\n",
        "N_list = []\n",
        "\n",
        "for i in range(100):\n",
        "    N = norm_rv.rvs(n)\n",
        "    N_list.append(N)"
      ],
      "metadata": {
        "id": "eGZV8A1_J86f"
      },
      "execution_count": 248,
      "outputs": []
    },
    {
      "cell_type": "markdown",
      "source": [
        "Знаю про готовые функции и даже умею их использовать, но тут мне удобнее вручную написать следующую формулу: <br>\n",
        "\n",
        "![image.png](data:image/png;base64,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)"
      ],
      "metadata": {
        "id": "9sZZ2lt_NHky"
      }
    },
    {
      "cell_type": "markdown",
      "source": [
        "#### Подпункт 2 ####"
      ],
      "metadata": {
        "id": "iMMhNb9VQdFt"
      }
    },
    {
      "cell_type": "code",
      "source": [
        "# 1% уровень значимости\n",
        "\n",
        "alpha = 0.01\n",
        "z_crit = sts.norm.ppf(1 - alpha / 2)\n",
        "ans_list_1 = []\n",
        "\n",
        "for i in range(len(N_list)):\n",
        "    z_obs = ((N_list[i].mean() - a_2) / np.sqrt(a_1)) * np.sqrt(n)\n",
        "    if (z_obs > -z_crit) and (z_obs < z_crit):\n",
        "        a = 1\n",
        "        ans_list_1.append(a)\n",
        "    else:\n",
        "        a = 0\n",
        "        ans_list_1.append(a)\n",
        "\n",
        "'Доля верных ответов', np.array(ans_list_1).mean()"
      ],
      "metadata": {
        "colab": {
          "base_uri": "https://localhost:8080/"
        },
        "id": "CEzMb3-iJ8w7",
        "outputId": "bae85e9f-b86d-4c73-b697-878bcf5e1e5e"
      },
      "execution_count": 254,
      "outputs": [
        {
          "output_type": "execute_result",
          "data": {
            "text/plain": [
              "('Доля верных ответов', 0.97)"
            ]
          },
          "metadata": {},
          "execution_count": 254
        }
      ]
    },
    {
      "cell_type": "code",
      "source": [
        "# 5% уровень значимости\n",
        "\n",
        "alpha = 0.05\n",
        "z_crit = sts.norm.ppf(1 - alpha / 2)\n",
        "ans_list_2 = []\n",
        "\n",
        "for i in range(len(N_list)):\n",
        "    z_obs = ((N_list[i].mean() - a_2) / np.sqrt(a_1)) * np.sqrt(n)\n",
        "    if (z_obs > -z_crit) and (z_obs < z_crit):\n",
        "        a = 1\n",
        "        ans_list_2.append(a)\n",
        "    else:\n",
        "        a = 0\n",
        "        ans_list_2.append(a)\n",
        "\n",
        "'Доля верных ответов', np.array(ans_list_2).mean()"
      ],
      "metadata": {
        "colab": {
          "base_uri": "https://localhost:8080/"
        },
        "id": "ftEfs74_PACa",
        "outputId": "6b0cbdb8-b9f2-4a4c-f4bf-00b3b4911080"
      },
      "execution_count": 255,
      "outputs": [
        {
          "output_type": "execute_result",
          "data": {
            "text/plain": [
              "('Доля верных ответов', 0.93)"
            ]
          },
          "metadata": {},
          "execution_count": 255
        }
      ]
    },
    {
      "cell_type": "code",
      "source": [
        "# 10% уровень значимости\n",
        "\n",
        "alpha = 0.1\n",
        "z_crit = sts.norm.ppf(1 - alpha / 2)\n",
        "ans_list_3 = []\n",
        "\n",
        "for i in range(len(N_list)):\n",
        "    z_obs = ((N_list[i].mean() - a_2) / np.sqrt(a_1)) * np.sqrt(n)\n",
        "    if (z_obs > -z_crit) and (z_obs < z_crit):\n",
        "        a = 1\n",
        "        ans_list_3.append(a)\n",
        "    else:\n",
        "        a = 0\n",
        "        ans_list_3.append(a)\n",
        "\n",
        "'Доля верных ответов', np.array(ans_list_3).mean()"
      ],
      "metadata": {
        "colab": {
          "base_uri": "https://localhost:8080/"
        },
        "id": "K4F9n0rhPgAa",
        "outputId": "799549c1-0949-4eb1-bbd5-7a170377d9e9"
      },
      "execution_count": 263,
      "outputs": [
        {
          "output_type": "execute_result",
          "data": {
            "text/plain": [
              "('Доля верных ответов', 0.84)"
            ]
          },
          "metadata": {},
          "execution_count": 263
        }
      ]
    },
    {
      "cell_type": "markdown",
      "source": [
        "#### Подпункт 3 ####"
      ],
      "metadata": {
        "id": "12hwkdpnQkgD"
      }
    },
    {
      "cell_type": "markdown",
      "source": [
        "Тут уже деваться некуда, использую т-статистику <br>\n",
        "\n",
        "![image.png](data:image/png;base64,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)"
      ],
      "metadata": {
        "id": "bRQWGJvcQz6h"
      }
    },
    {
      "cell_type": "code",
      "source": [
        "# 1% уровень значимости\n",
        "\n",
        "alpha = 0.01\n",
        "t_crit = sts.t.ppf(1 - alpha / 2, 99)\n",
        "ans_list_12 = []\n",
        "\n",
        "for i in range(len(N_list)):\n",
        "    t_obs = ((N_list[i].mean() - a_2) / np.sqrt(N_list[i].var(ddof=1))) * np.sqrt(n)\n",
        "    if (t_obs > -t_crit) and (t_obs < t_crit):\n",
        "        a = 1\n",
        "        ans_list_12.append(a)\n",
        "    else:\n",
        "        a = 0\n",
        "        ans_list_12.append(a)\n",
        "\n",
        "'Доля верных ответов', np.array(ans_list_12).mean()"
      ],
      "metadata": {
        "colab": {
          "base_uri": "https://localhost:8080/"
        },
        "id": "PjA9mIl9J8t4",
        "outputId": "299eec17-ddad-434a-afe1-8e22dfc96ba2"
      },
      "execution_count": 259,
      "outputs": [
        {
          "output_type": "execute_result",
          "data": {
            "text/plain": [
              "('Доля верных ответов', 0.99)"
            ]
          },
          "metadata": {},
          "execution_count": 259
        }
      ]
    },
    {
      "cell_type": "code",
      "source": [
        "# 5% уровень значимости\n",
        "\n",
        "alpha = 0.05\n",
        "t_crit = sts.t.ppf(1 - alpha / 2, 99)\n",
        "ans_list_22 = []\n",
        "\n",
        "for i in range(len(N_list)):\n",
        "    t_obs = ((N_list[i].mean() - a_2) / np.sqrt(N_list[i].var(ddof=1))) * np.sqrt(n)\n",
        "    if (t_obs > -t_crit) and (t_obs < t_crit):\n",
        "        a = 1\n",
        "        ans_list_22.append(a)\n",
        "    else:\n",
        "        a = 0\n",
        "        ans_list_22.append(a)\n",
        "\n",
        "'Доля верных ответов', np.array(ans_list_22).mean()"
      ],
      "metadata": {
        "colab": {
          "base_uri": "https://localhost:8080/"
        },
        "id": "lIa82MyTOyKK",
        "outputId": "b7e1e33c-ce8f-4ad8-f9d2-e0575f319cb3"
      },
      "execution_count": 260,
      "outputs": [
        {
          "output_type": "execute_result",
          "data": {
            "text/plain": [
              "('Доля верных ответов', 0.94)"
            ]
          },
          "metadata": {},
          "execution_count": 260
        }
      ]
    },
    {
      "cell_type": "code",
      "source": [
        "# 10% уровень значимости\n",
        "\n",
        "alpha = 0.1\n",
        "t_crit = sts.t.ppf(1 - alpha / 2, 99)\n",
        "ans_list_32 = []\n",
        "\n",
        "for i in range(len(N_list)):\n",
        "    t_obs = ((N_list[i].mean() - a_2) / np.sqrt(N_list[i].var(ddof=1))) * np.sqrt(n)\n",
        "    if (t_obs > -t_crit) and (t_obs < t_crit):\n",
        "        a = 1\n",
        "        ans_list_32.append(a)\n",
        "    else:\n",
        "        a = 0\n",
        "        ans_list_32.append(a)\n",
        "\n",
        "'Доля верных ответов', np.array(ans_list_32).mean()"
      ],
      "metadata": {
        "colab": {
          "base_uri": "https://localhost:8080/"
        },
        "id": "2J78tKzHJ8oK",
        "outputId": "f4ed2463-a55c-454a-baa7-ab1c079e71c8"
      },
      "execution_count": 262,
      "outputs": [
        {
          "output_type": "execute_result",
          "data": {
            "text/plain": [
              "('Доля верных ответов', 0.86)"
            ]
          },
          "metadata": {},
          "execution_count": 262
        }
      ]
    },
    {
      "cell_type": "markdown",
      "source": [
        "В данной ситуации т-статистика оказалась точнее z-статистики, однако сравнивать их напрямую некорректно"
      ],
      "metadata": {
        "id": "gGVKmeheUlox"
      }
    },
    {
      "cell_type": "markdown",
      "source": [
        "### Пункт 2 ###"
      ],
      "metadata": {
        "id": "HnYW3pTwU3tK"
      }
    },
    {
      "cell_type": "code",
      "source": [
        "df = pd.read_csv('https://raw.githubusercontent.com/ExuberantSebastian/HW_MS/main/data/HW_MS_CSV.csv')"
      ],
      "metadata": {
        "id": "uBUcAULwUQbC"
      },
      "execution_count": 269,
      "outputs": []
    },
    {
      "cell_type": "code",
      "source": [
        "df.info()"
      ],
      "metadata": {
        "colab": {
          "base_uri": "https://localhost:8080/"
        },
        "id": "LPYX7D40YzH0",
        "outputId": "895a3c2f-606d-44f9-de73-def309e89302"
      },
      "execution_count": 271,
      "outputs": [
        {
          "output_type": "stream",
          "name": "stdout",
          "text": [
            "<class 'pandas.core.frame.DataFrame'>\n",
            "RangeIndex: 734 entries, 0 to 733\n",
            "Data columns (total 4 columns):\n",
            " #   Column               Non-Null Count  Dtype  \n",
            "---  ------               --------------  -----  \n",
            " 0   date                 734 non-null    object \n",
            " 1   Crude oil, Dubai     734 non-null    float64\n",
            " 2   Natural gas, Europe  734 non-null    float64\n",
            " 3   Coffee, Arabica      734 non-null    float64\n",
            "dtypes: float64(3), object(1)\n",
            "memory usage: 23.1+ KB\n"
          ]
        }
      ]
    },
    {
      "cell_type": "code",
      "source": [
        "df.head()"
      ],
      "metadata": {
        "colab": {
          "base_uri": "https://localhost:8080/",
          "height": 206
        },
        "id": "oN9skwA3Zawb",
        "outputId": "771354ae-9454-43d0-84e5-2e896d7f80a8"
      },
      "execution_count": 272,
      "outputs": [
        {
          "output_type": "execute_result",
          "data": {
            "text/plain": [
              "      date  Crude oil, Dubai  Natural gas, Europe  Coffee, Arabica\n",
              "0  1960M01              1.63             0.404774           0.9409\n",
              "1  1960M02              1.63             0.404774           0.9469\n",
              "2  1960M03              1.63             0.404774           0.9281\n",
              "3  1960M04              1.63             0.404774           0.9303\n",
              "4  1960M05              1.63             0.404774           0.9200"
            ],
            "text/html": [
              "\n",
              "  <div id=\"df-965f0231-03d8-4ab4-819b-5a719435ffab\">\n",
              "    <div class=\"colab-df-container\">\n",
              "      <div>\n",
              "<style scoped>\n",
              "    .dataframe tbody tr th:only-of-type {\n",
              "        vertical-align: middle;\n",
              "    }\n",
              "\n",
              "    .dataframe tbody tr th {\n",
              "        vertical-align: top;\n",
              "    }\n",
              "\n",
              "    .dataframe thead th {\n",
              "        text-align: right;\n",
              "    }\n",
              "</style>\n",
              "<table border=\"1\" class=\"dataframe\">\n",
              "  <thead>\n",
              "    <tr style=\"text-align: right;\">\n",
              "      <th></th>\n",
              "      <th>date</th>\n",
              "      <th>Crude oil, Dubai</th>\n",
              "      <th>Natural gas, Europe</th>\n",
              "      <th>Coffee, Arabica</th>\n",
              "    </tr>\n",
              "  </thead>\n",
              "  <tbody>\n",
              "    <tr>\n",
              "      <th>0</th>\n",
              "      <td>1960M01</td>\n",
              "      <td>1.63</td>\n",
              "      <td>0.404774</td>\n",
              "      <td>0.9409</td>\n",
              "    </tr>\n",
              "    <tr>\n",
              "      <th>1</th>\n",
              "      <td>1960M02</td>\n",
              "      <td>1.63</td>\n",
              "      <td>0.404774</td>\n",
              "      <td>0.9469</td>\n",
              "    </tr>\n",
              "    <tr>\n",
              "      <th>2</th>\n",
              "      <td>1960M03</td>\n",
              "      <td>1.63</td>\n",
              "      <td>0.404774</td>\n",
              "      <td>0.9281</td>\n",
              "    </tr>\n",
              "    <tr>\n",
              "      <th>3</th>\n",
              "      <td>1960M04</td>\n",
              "      <td>1.63</td>\n",
              "      <td>0.404774</td>\n",
              "      <td>0.9303</td>\n",
              "    </tr>\n",
              "    <tr>\n",
              "      <th>4</th>\n",
              "      <td>1960M05</td>\n",
              "      <td>1.63</td>\n",
              "      <td>0.404774</td>\n",
              "      <td>0.9200</td>\n",
              "    </tr>\n",
              "  </tbody>\n",
              "</table>\n",
              "</div>\n",
              "      <button class=\"colab-df-convert\" onclick=\"convertToInteractive('df-965f0231-03d8-4ab4-819b-5a719435ffab')\"\n",
              "              title=\"Convert this dataframe to an interactive table.\"\n",
              "              style=\"display:none;\">\n",
              "        \n",
              "  <svg xmlns=\"http://www.w3.org/2000/svg\" height=\"24px\"viewBox=\"0 0 24 24\"\n",
              "       width=\"24px\">\n",
              "    <path d=\"M0 0h24v24H0V0z\" fill=\"none\"/>\n",
              "    <path d=\"M18.56 5.44l.94 2.06.94-2.06 2.06-.94-2.06-.94-.94-2.06-.94 2.06-2.06.94zm-11 1L8.5 8.5l.94-2.06 2.06-.94-2.06-.94L8.5 2.5l-.94 2.06-2.06.94zm10 10l.94 2.06.94-2.06 2.06-.94-2.06-.94-.94-2.06-.94 2.06-2.06.94z\"/><path d=\"M17.41 7.96l-1.37-1.37c-.4-.4-.92-.59-1.43-.59-.52 0-1.04.2-1.43.59L10.3 9.45l-7.72 7.72c-.78.78-.78 2.05 0 2.83L4 21.41c.39.39.9.59 1.41.59.51 0 1.02-.2 1.41-.59l7.78-7.78 2.81-2.81c.8-.78.8-2.07 0-2.86zM5.41 20L4 18.59l7.72-7.72 1.47 1.35L5.41 20z\"/>\n",
              "  </svg>\n",
              "      </button>\n",
              "      \n",
              "  <style>\n",
              "    .colab-df-container {\n",
              "      display:flex;\n",
              "      flex-wrap:wrap;\n",
              "      gap: 12px;\n",
              "    }\n",
              "\n",
              "    .colab-df-convert {\n",
              "      background-color: #E8F0FE;\n",
              "      border: none;\n",
              "      border-radius: 50%;\n",
              "      cursor: pointer;\n",
              "      display: none;\n",
              "      fill: #1967D2;\n",
              "      height: 32px;\n",
              "      padding: 0 0 0 0;\n",
              "      width: 32px;\n",
              "    }\n",
              "\n",
              "    .colab-df-convert:hover {\n",
              "      background-color: #E2EBFA;\n",
              "      box-shadow: 0px 1px 2px rgba(60, 64, 67, 0.3), 0px 1px 3px 1px rgba(60, 64, 67, 0.15);\n",
              "      fill: #174EA6;\n",
              "    }\n",
              "\n",
              "    [theme=dark] .colab-df-convert {\n",
              "      background-color: #3B4455;\n",
              "      fill: #D2E3FC;\n",
              "    }\n",
              "\n",
              "    [theme=dark] .colab-df-convert:hover {\n",
              "      background-color: #434B5C;\n",
              "      box-shadow: 0px 1px 3px 1px rgba(0, 0, 0, 0.15);\n",
              "      filter: drop-shadow(0px 1px 2px rgba(0, 0, 0, 0.3));\n",
              "      fill: #FFFFFF;\n",
              "    }\n",
              "  </style>\n",
              "\n",
              "      <script>\n",
              "        const buttonEl =\n",
              "          document.querySelector('#df-965f0231-03d8-4ab4-819b-5a719435ffab button.colab-df-convert');\n",
              "        buttonEl.style.display =\n",
              "          google.colab.kernel.accessAllowed ? 'block' : 'none';\n",
              "\n",
              "        async function convertToInteractive(key) {\n",
              "          const element = document.querySelector('#df-965f0231-03d8-4ab4-819b-5a719435ffab');\n",
              "          const dataTable =\n",
              "            await google.colab.kernel.invokeFunction('convertToInteractive',\n",
              "                                                     [key], {});\n",
              "          if (!dataTable) return;\n",
              "\n",
              "          const docLinkHtml = 'Like what you see? Visit the ' +\n",
              "            '<a target=\"_blank\" href=https://colab.research.google.com/notebooks/data_table.ipynb>data table notebook</a>'\n",
              "            + ' to learn more about interactive tables.';\n",
              "          element.innerHTML = '';\n",
              "          dataTable['output_type'] = 'display_data';\n",
              "          await google.colab.output.renderOutput(dataTable, element);\n",
              "          const docLink = document.createElement('div');\n",
              "          docLink.innerHTML = docLinkHtml;\n",
              "          element.appendChild(docLink);\n",
              "        }\n",
              "      </script>\n",
              "    </div>\n",
              "  </div>\n",
              "  "
            ]
          },
          "metadata": {},
          "execution_count": 272
        }
      ]
    },
    {
      "cell_type": "code",
      "source": [
        "df.tail()"
      ],
      "metadata": {
        "colab": {
          "base_uri": "https://localhost:8080/",
          "height": 206
        },
        "id": "6j4ioXhag0Kz",
        "outputId": "0ef6254d-c0b8-4167-f6e6-844f506ba4d3"
      },
      "execution_count": 296,
      "outputs": [
        {
          "output_type": "execute_result",
          "data": {
            "text/plain": [
              "        date  Crude oil, Dubai  Natural gas, Europe  Coffee, Arabica\n",
              "729  2020M10             39.70             4.889590         3.352345\n",
              "730  2020M11             42.58             4.835839         3.323024\n",
              "731  2020M12             49.26             5.856106         3.479111\n",
              "732  2021M01             54.16             7.268302         3.542383\n",
              "733  2021M02             60.37             6.158507         3.657685"
            ],
            "text/html": [
              "\n",
              "  <div id=\"df-0e266876-6545-47cb-a61f-a5c3bf166a7b\">\n",
              "    <div class=\"colab-df-container\">\n",
              "      <div>\n",
              "<style scoped>\n",
              "    .dataframe tbody tr th:only-of-type {\n",
              "        vertical-align: middle;\n",
              "    }\n",
              "\n",
              "    .dataframe tbody tr th {\n",
              "        vertical-align: top;\n",
              "    }\n",
              "\n",
              "    .dataframe thead th {\n",
              "        text-align: right;\n",
              "    }\n",
              "</style>\n",
              "<table border=\"1\" class=\"dataframe\">\n",
              "  <thead>\n",
              "    <tr style=\"text-align: right;\">\n",
              "      <th></th>\n",
              "      <th>date</th>\n",
              "      <th>Crude oil, Dubai</th>\n",
              "      <th>Natural gas, Europe</th>\n",
              "      <th>Coffee, Arabica</th>\n",
              "    </tr>\n",
              "  </thead>\n",
              "  <tbody>\n",
              "    <tr>\n",
              "      <th>729</th>\n",
              "      <td>2020M10</td>\n",
              "      <td>39.70</td>\n",
              "      <td>4.889590</td>\n",
              "      <td>3.352345</td>\n",
              "    </tr>\n",
              "    <tr>\n",
              "      <th>730</th>\n",
              "      <td>2020M11</td>\n",
              "      <td>42.58</td>\n",
              "      <td>4.835839</td>\n",
              "      <td>3.323024</td>\n",
              "    </tr>\n",
              "    <tr>\n",
              "      <th>731</th>\n",
              "      <td>2020M12</td>\n",
              "      <td>49.26</td>\n",
              "      <td>5.856106</td>\n",
              "      <td>3.479111</td>\n",
              "    </tr>\n",
              "    <tr>\n",
              "      <th>732</th>\n",
              "      <td>2021M01</td>\n",
              "      <td>54.16</td>\n",
              "      <td>7.268302</td>\n",
              "      <td>3.542383</td>\n",
              "    </tr>\n",
              "    <tr>\n",
              "      <th>733</th>\n",
              "      <td>2021M02</td>\n",
              "      <td>60.37</td>\n",
              "      <td>6.158507</td>\n",
              "      <td>3.657685</td>\n",
              "    </tr>\n",
              "  </tbody>\n",
              "</table>\n",
              "</div>\n",
              "      <button class=\"colab-df-convert\" onclick=\"convertToInteractive('df-0e266876-6545-47cb-a61f-a5c3bf166a7b')\"\n",
              "              title=\"Convert this dataframe to an interactive table.\"\n",
              "              style=\"display:none;\">\n",
              "        \n",
              "  <svg xmlns=\"http://www.w3.org/2000/svg\" height=\"24px\"viewBox=\"0 0 24 24\"\n",
              "       width=\"24px\">\n",
              "    <path d=\"M0 0h24v24H0V0z\" fill=\"none\"/>\n",
              "    <path d=\"M18.56 5.44l.94 2.06.94-2.06 2.06-.94-2.06-.94-.94-2.06-.94 2.06-2.06.94zm-11 1L8.5 8.5l.94-2.06 2.06-.94-2.06-.94L8.5 2.5l-.94 2.06-2.06.94zm10 10l.94 2.06.94-2.06 2.06-.94-2.06-.94-.94-2.06-.94 2.06-2.06.94z\"/><path d=\"M17.41 7.96l-1.37-1.37c-.4-.4-.92-.59-1.43-.59-.52 0-1.04.2-1.43.59L10.3 9.45l-7.72 7.72c-.78.78-.78 2.05 0 2.83L4 21.41c.39.39.9.59 1.41.59.51 0 1.02-.2 1.41-.59l7.78-7.78 2.81-2.81c.8-.78.8-2.07 0-2.86zM5.41 20L4 18.59l7.72-7.72 1.47 1.35L5.41 20z\"/>\n",
              "  </svg>\n",
              "      </button>\n",
              "      \n",
              "  <style>\n",
              "    .colab-df-container {\n",
              "      display:flex;\n",
              "      flex-wrap:wrap;\n",
              "      gap: 12px;\n",
              "    }\n",
              "\n",
              "    .colab-df-convert {\n",
              "      background-color: #E8F0FE;\n",
              "      border: none;\n",
              "      border-radius: 50%;\n",
              "      cursor: pointer;\n",
              "      display: none;\n",
              "      fill: #1967D2;\n",
              "      height: 32px;\n",
              "      padding: 0 0 0 0;\n",
              "      width: 32px;\n",
              "    }\n",
              "\n",
              "    .colab-df-convert:hover {\n",
              "      background-color: #E2EBFA;\n",
              "      box-shadow: 0px 1px 2px rgba(60, 64, 67, 0.3), 0px 1px 3px 1px rgba(60, 64, 67, 0.15);\n",
              "      fill: #174EA6;\n",
              "    }\n",
              "\n",
              "    [theme=dark] .colab-df-convert {\n",
              "      background-color: #3B4455;\n",
              "      fill: #D2E3FC;\n",
              "    }\n",
              "\n",
              "    [theme=dark] .colab-df-convert:hover {\n",
              "      background-color: #434B5C;\n",
              "      box-shadow: 0px 1px 3px 1px rgba(0, 0, 0, 0.15);\n",
              "      filter: drop-shadow(0px 1px 2px rgba(0, 0, 0, 0.3));\n",
              "      fill: #FFFFFF;\n",
              "    }\n",
              "  </style>\n",
              "\n",
              "      <script>\n",
              "        const buttonEl =\n",
              "          document.querySelector('#df-0e266876-6545-47cb-a61f-a5c3bf166a7b button.colab-df-convert');\n",
              "        buttonEl.style.display =\n",
              "          google.colab.kernel.accessAllowed ? 'block' : 'none';\n",
              "\n",
              "        async function convertToInteractive(key) {\n",
              "          const element = document.querySelector('#df-0e266876-6545-47cb-a61f-a5c3bf166a7b');\n",
              "          const dataTable =\n",
              "            await google.colab.kernel.invokeFunction('convertToInteractive',\n",
              "                                                     [key], {});\n",
              "          if (!dataTable) return;\n",
              "\n",
              "          const docLinkHtml = 'Like what you see? Visit the ' +\n",
              "            '<a target=\"_blank\" href=https://colab.research.google.com/notebooks/data_table.ipynb>data table notebook</a>'\n",
              "            + ' to learn more about interactive tables.';\n",
              "          element.innerHTML = '';\n",
              "          dataTable['output_type'] = 'display_data';\n",
              "          await google.colab.output.renderOutput(dataTable, element);\n",
              "          const docLink = document.createElement('div');\n",
              "          docLink.innerHTML = docLinkHtml;\n",
              "          element.appendChild(docLink);\n",
              "        }\n",
              "      </script>\n",
              "    </div>\n",
              "  </div>\n",
              "  "
            ]
          },
          "metadata": {},
          "execution_count": 296
        }
      ]
    },
    {
      "cell_type": "code",
      "source": [
        "# Генерация нужных интервалов и значений\n",
        "\n",
        "Oil_36 = df['Crude oil, Dubai'][733-36:733]\n",
        "Oil_72 = df['Crude oil, Dubai'][733-72:733]\n",
        "Oil_108 = df['Crude oil, Dubai'][733-108:733]\n",
        "last_oil = df['Crude oil, Dubai'][733]\n",
        "\n",
        "Gas_36 = df['Natural gas, Europe'][733-36:733]\n",
        "Gas_72 = df['Natural gas, Europe'][733-72:733]\n",
        "Gas_108 = df['Natural gas, Europe'][733-108:733]\n",
        "last_gas = df['Natural gas, Europe'][733]\n",
        "\n",
        "Coffee_36 = df['Coffee, Arabica'][733-36:733]\n",
        "Coffee_72 = df['Coffee, Arabica'][733-72:733]\n",
        "Coffee_108 = df['Coffee, Arabica'][733-108:733]\n",
        "last_coffee = df['Coffee, Arabica'][733]"
      ],
      "metadata": {
        "id": "EEVVpNAtZgHi"
      },
      "execution_count": 297,
      "outputs": []
    },
    {
      "cell_type": "markdown",
      "source": [
        "__Гипотезы о нефти__"
      ],
      "metadata": {
        "id": "zZ_bJRO1ffDN"
      }
    },
    {
      "cell_type": "code",
      "source": [
        "alpha = 0.05\n",
        "n = 36\n",
        "\n",
        "t_crit = sts.t.ppf(1 - alpha / 2, 35)\n",
        "t_obs = ((Oil_36.mean() - last_oil) / Oil_36.var(ddof=1)) * np.sqrt(n)\n",
        "\n",
        "if (t_obs > -t_crit) and (t_obs < t_crit):\n",
        "    print('Нет оснований отвергать Н0')\n",
        "else:\n",
        "    print('Н0 отвергается')\n",
        "\n",
        "t_obs, (-t_crit, t_crit)"
      ],
      "metadata": {
        "colab": {
          "base_uri": "https://localhost:8080/"
        },
        "id": "BByODXt3b2Cw",
        "outputId": "cf097305-e298-454c-b8c0-a4d27a3deca3"
      },
      "execution_count": 284,
      "outputs": [
        {
          "output_type": "stream",
          "name": "stdout",
          "text": [
            "Нет оснований отвергать Н0\n"
          ]
        },
        {
          "output_type": "execute_result",
          "data": {
            "text/plain": [
              "(-0.08001469462716156, (-2.0301079282503425, 2.0301079282503425))"
            ]
          },
          "metadata": {},
          "execution_count": 284
        }
      ]
    },
    {
      "cell_type": "code",
      "source": [
        "alpha = 0.05\n",
        "n = 72\n",
        "\n",
        "t_crit = sts.t.ppf(1 - alpha / 2, 71)\n",
        "t_obs = ((Oil_72.mean() - last_oil) / Oil_72.var(ddof=1)) * np.sqrt(n)\n",
        "\n",
        "if (t_obs > -t_crit) and (t_obs < t_crit):\n",
        "    print('Нет оснований отвергать Н0')\n",
        "else:\n",
        "    print('Н0 отвергается')\n",
        "\n",
        "t_obs, (-t_crit, t_crit)"
      ],
      "metadata": {
        "colab": {
          "base_uri": "https://localhost:8080/"
        },
        "id": "9L4O8yKib17c",
        "outputId": "cee9c3ba-9238-4336-8bfc-190464e385ae"
      },
      "execution_count": 289,
      "outputs": [
        {
          "output_type": "stream",
          "name": "stdout",
          "text": [
            "Нет оснований отвергать Н0\n"
          ]
        },
        {
          "output_type": "execute_result",
          "data": {
            "text/plain": [
              "(-0.38078369118170635, (-1.993943367434504, 1.993943367434504))"
            ]
          },
          "metadata": {},
          "execution_count": 289
        }
      ]
    },
    {
      "cell_type": "code",
      "source": [
        "alpha = 0.05\n",
        "n = 108\n",
        "\n",
        "t_crit = sts.t.ppf(1 - alpha / 2, 107)\n",
        "t_obs = ((Oil_108.mean() - last_oil) / Oil_108.var(ddof=1)) * np.sqrt(n)\n",
        "\n",
        "if (t_obs > -t_crit) and (t_obs < t_crit):\n",
        "    print('Нет оснований отвергать Н0')\n",
        "else:\n",
        "    print('Н0 отвергается')\n",
        "\n",
        "t_obs, (-t_crit, t_crit)"
      ],
      "metadata": {
        "colab": {
          "base_uri": "https://localhost:8080/"
        },
        "id": "1Kq-gT0ab1xQ",
        "outputId": "f224175d-4b0c-4bfb-fd78-06dd2d526255"
      },
      "execution_count": 290,
      "outputs": [
        {
          "output_type": "stream",
          "name": "stdout",
          "text": [
            "Нет оснований отвергать Н0\n"
          ]
        },
        {
          "output_type": "execute_result",
          "data": {
            "text/plain": [
              "(0.13759606255078874, (-1.9823833701230174, 1.9823833701230174))"
            ]
          },
          "metadata": {},
          "execution_count": 290
        }
      ]
    },
    {
      "cell_type": "markdown",
      "source": [
        "__Гипотезы о газе__"
      ],
      "metadata": {
        "id": "mP8vfzmefjKb"
      }
    },
    {
      "cell_type": "code",
      "source": [
        "alpha = 0.05\n",
        "n = 36\n",
        "\n",
        "t_crit = sts.t.ppf(1 - alpha / 2, 35)\n",
        "t_obs = ((Gas_36.mean() - last_gas) / Gas_36.var(ddof=1)) * np.sqrt(n)\n",
        "\n",
        "if (t_obs > -t_crit) and (t_obs < t_crit):\n",
        "    print('Нет оснований отвергать Н0')\n",
        "else:\n",
        "    print('Н0 отвергается')\n",
        "\n",
        "t_obs, (-t_crit, t_crit)"
      ],
      "metadata": {
        "colab": {
          "base_uri": "https://localhost:8080/"
        },
        "id": "SqBe2Rxee5vb",
        "outputId": "438421ba-8a11-4d14-df9d-3ae181978f89"
      },
      "execution_count": 287,
      "outputs": [
        {
          "output_type": "stream",
          "name": "stdout",
          "text": [
            "Нет оснований отвергать Н0\n"
          ]
        },
        {
          "output_type": "execute_result",
          "data": {
            "text/plain": [
              "(-1.1325220172024548, (-2.0301079282503425, 2.0301079282503425))"
            ]
          },
          "metadata": {},
          "execution_count": 287
        }
      ]
    },
    {
      "cell_type": "code",
      "source": [
        "alpha = 0.05\n",
        "n = 72\n",
        "\n",
        "t_crit = sts.t.ppf(1 - alpha / 2, 71)\n",
        "t_obs = ((Gas_72.mean() - last_gas) / Gas_72.var(ddof=1)) * np.sqrt(n)\n",
        "\n",
        "if (t_obs > -t_crit) and (t_obs < t_crit):\n",
        "    print('Нет оснований отвергать Н0')\n",
        "else:\n",
        "    print('Н0 отвергается')\n",
        "\n",
        "t_obs, (-t_crit, t_crit)"
      ],
      "metadata": {
        "colab": {
          "base_uri": "https://localhost:8080/"
        },
        "id": "fCBeicW_e5ir",
        "outputId": "66e08f40-d43d-4959-d989-5b6e8a6469ab"
      },
      "execution_count": 291,
      "outputs": [
        {
          "output_type": "stream",
          "name": "stdout",
          "text": [
            "Н0 отвергается\n"
          ]
        },
        {
          "output_type": "execute_result",
          "data": {
            "text/plain": [
              "(-2.0071335092117284, (-1.993943367434504, 1.993943367434504))"
            ]
          },
          "metadata": {},
          "execution_count": 291
        }
      ]
    },
    {
      "cell_type": "code",
      "source": [
        "alpha = 0.05\n",
        "n = 108\n",
        "\n",
        "t_crit = sts.t.ppf(1 - alpha / 2, 107)\n",
        "t_obs = ((Gas_108.mean() - last_gas) / Gas_108.var(ddof=1)) * np.sqrt(n)\n",
        "\n",
        "if (t_obs > -t_crit) and (t_obs < t_crit):\n",
        "    print('Нет оснований отвергать Н0')\n",
        "else:\n",
        "    print('Н0 отвергается')\n",
        "\n",
        "t_obs, (-t_crit, t_crit)"
      ],
      "metadata": {
        "colab": {
          "base_uri": "https://localhost:8080/"
        },
        "id": "-0arQj3ne5fs",
        "outputId": "7fbabec7-d27a-42db-be8a-558d4dea1ab1"
      },
      "execution_count": 292,
      "outputs": [
        {
          "output_type": "stream",
          "name": "stdout",
          "text": [
            "Нет оснований отвергать Н0\n"
          ]
        },
        {
          "output_type": "execute_result",
          "data": {
            "text/plain": [
              "(1.2773228174734086, (-1.9823833701230174, 1.9823833701230174))"
            ]
          },
          "metadata": {},
          "execution_count": 292
        }
      ]
    },
    {
      "cell_type": "markdown",
      "source": [
        "__Гипотезы о кофе__"
      ],
      "metadata": {
        "id": "GBnnzczugUtl"
      }
    },
    {
      "cell_type": "code",
      "source": [
        "alpha = 0.05\n",
        "n = 36\n",
        "\n",
        "t_crit = sts.t.ppf(1 - alpha / 2, 35)\n",
        "t_obs = ((Coffee_36.mean() - last_coffee) / Coffee_36.var(ddof=1)) * np.sqrt(n)\n",
        "\n",
        "if (t_obs > -t_crit) and (t_obs < t_crit):\n",
        "    print('Нет оснований отвергать Н0')\n",
        "else:\n",
        "    print('Н0 отвергается')\n",
        "\n",
        "t_obs, (-t_crit, t_crit)"
      ],
      "metadata": {
        "colab": {
          "base_uri": "https://localhost:8080/"
        },
        "id": "O-cDUAMEe5ct",
        "outputId": "02a9730a-f2fc-4e56-ea09-8038bc1cfdb8"
      },
      "execution_count": 298,
      "outputs": [
        {
          "output_type": "stream",
          "name": "stdout",
          "text": [
            "Н0 отвергается\n"
          ]
        },
        {
          "output_type": "execute_result",
          "data": {
            "text/plain": [
              "(-45.147459149419376, (-2.0301079282503425, 2.0301079282503425))"
            ]
          },
          "metadata": {},
          "execution_count": 298
        }
      ]
    },
    {
      "cell_type": "code",
      "source": [
        "alpha = 0.05\n",
        "n = 72\n",
        "\n",
        "t_crit = sts.t.ppf(1 - alpha / 2, 71)\n",
        "t_obs = ((Coffee_72.mean() - last_coffee) / Coffee_72.var(ddof=1)) * np.sqrt(n)\n",
        "\n",
        "if (t_obs > -t_crit) and (t_obs < t_crit):\n",
        "    print('Нет оснований отвергать Н0')\n",
        "else:\n",
        "    print('Н0 отвергается')\n",
        "\n",
        "t_obs, (-t_crit, t_crit)"
      ],
      "metadata": {
        "colab": {
          "base_uri": "https://localhost:8080/"
        },
        "id": "Z7mIWs24e5aC",
        "outputId": "c989dc47-c33a-4871-b41b-febf78a51914"
      },
      "execution_count": 299,
      "outputs": [
        {
          "output_type": "stream",
          "name": "stdout",
          "text": [
            "Н0 отвергается\n"
          ]
        },
        {
          "output_type": "execute_result",
          "data": {
            "text/plain": [
              "(-29.87719575180791, (-1.993943367434504, 1.993943367434504))"
            ]
          },
          "metadata": {},
          "execution_count": 299
        }
      ]
    },
    {
      "cell_type": "code",
      "source": [
        "alpha = 0.05\n",
        "n = 108\n",
        "\n",
        "t_crit = sts.t.ppf(1 - alpha / 2, 107)\n",
        "t_obs = ((Coffee_108.mean() - last_coffee) / Coffee_108.var(ddof=1)) * np.sqrt(n)\n",
        "\n",
        "if (t_obs > -t_crit) and (t_obs < t_crit):\n",
        "    print('Нет оснований отвергать Н0')\n",
        "else:\n",
        "    print('Н0 отвергается')\n",
        "\n",
        "t_obs, (-t_crit, t_crit)"
      ],
      "metadata": {
        "colab": {
          "base_uri": "https://localhost:8080/"
        },
        "id": "tQu_nxkPhMsL",
        "outputId": "6ae2de09-8c2d-418b-f4f1-627d61217525"
      },
      "execution_count": 300,
      "outputs": [
        {
          "output_type": "stream",
          "name": "stdout",
          "text": [
            "Н0 отвергается\n"
          ]
        },
        {
          "output_type": "execute_result",
          "data": {
            "text/plain": [
              "(-6.766923833493519, (-1.9823833701230174, 1.9823833701230174))"
            ]
          },
          "metadata": {},
          "execution_count": 300
        }
      ]
    },
    {
      "cell_type": "markdown",
      "source": [
        "Странное дело, скорее всего в кофе попалось немало выбросов, давайте проверим!"
      ],
      "metadata": {
        "id": "64oBUWp1hYBT"
      }
    },
    {
      "cell_type": "code",
      "source": [
        "Coffee_36.mean(), Coffee_72.mean(), Coffee_108.mean(), last_coffee"
      ],
      "metadata": {
        "colab": {
          "base_uri": "https://localhost:8080/"
        },
        "id": "R9y7vqpBhfnL",
        "outputId": "e051a413-1c69-4c67-aebb-a8a09dfd3252"
      },
      "execution_count": 304,
      "outputs": [
        {
          "output_type": "execute_result",
          "data": {
            "text/plain": [
              "(3.056515787722222, 3.2559757202499995, 3.4510960095295165, 3.657685042)"
            ]
          },
          "metadata": {},
          "execution_count": 304
        }
      ]
    },
    {
      "cell_type": "markdown",
      "source": [
        "Получившиеся значения можно объяснить провалом и последующим отскоком в цене в рассматриваемом периоде. Обвал создал выбросы, которые потянули за собой среднее, а последнее значение было реализовано уже после отскока, потому образовался большой ценовой гэп"
      ],
      "metadata": {
        "id": "QaU5JZmgh0eD"
      }
    }
  ]
}